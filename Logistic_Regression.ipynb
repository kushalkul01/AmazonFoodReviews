{
 "cells": [
  {
   "cell_type": "code",
   "execution_count": 1,
   "metadata": {
    "collapsed": false
   },
   "outputs": [
    {
     "name": "stderr",
     "output_type": "stream",
     "text": [
      "/usr/lib/python3/dist-packages/sklearn/cross_validation.py:44: DeprecationWarning: This module was deprecated in version 0.18 in favor of the model_selection module into which all the refactored classes and functions are moved. Also note that the interface of the new CV iterators are different from that of this module. This module will be removed in 0.20.\n",
      "  \"This module will be removed in 0.20.\", DeprecationWarning)\n"
     ]
    }
   ],
   "source": [
    "import sqlite3\n",
    "import pandas as pd\n",
    "import numpy as np\n",
    "import matplotlib.pyplot as plt\n",
    "import seaborn as sns\n",
    "from sklearn.linear_model import LogisticRegression\n",
    "from sklearn.metrics import precision_score, recall_score, f1_score, confusion_matrix, accuracy_score\n",
    "from sklearn.cross_validation import cross_val_score\n",
    "from collections import Counter\n",
    "from sklearn import cross_validation\n",
    "import warnings\n",
    "warnings.filterwarnings('ignore')\n",
    "% matplotlib inline "
   ]
  },
  {
   "cell_type": "markdown",
   "metadata": {},
   "source": [
    "# 1.0 Data Preprocessing"
   ]
  },
  {
   "cell_type": "code",
   "execution_count": 2,
   "metadata": {
    "collapsed": false
   },
   "outputs": [
    {
     "data": {
      "text/plain": [
       "(364171, 11)"
      ]
     },
     "execution_count": 2,
     "metadata": {},
     "output_type": "execute_result"
    }
   ],
   "source": [
    "# I did this on IBM cloud where file size limit was 256 MB. Hence I removed duplicates.\n",
    "# Also, the score has been turned into binary class- Positive and Negative\n",
    "\n",
    "con = sqlite3.connect(r\"final.sqlite\")\n",
    "filtered_data = pd.read_sql_query(\"\"\"\n",
    "SELECT *\n",
    "FROM Reviews\n",
    "\"\"\", con)\n",
    "filtered_data.shape"
   ]
  },
  {
   "cell_type": "code",
   "execution_count": 3,
   "metadata": {
    "collapsed": false
   },
   "outputs": [
    {
     "data": {
      "text/plain": [
       "Positive    87729\n",
       "Negative    12271\n",
       "Name: Score, dtype: int64"
      ]
     },
     "execution_count": 3,
     "metadata": {},
     "output_type": "execute_result"
    }
   ],
   "source": [
    "# Taking first 100,000 points for analysis\n",
    "\n",
    "filtered_data = filtered_data.sort_values(by=['Time'])\n",
    "final = filtered_data[:100000]\n",
    "final.Score.value_counts()"
   ]
  },
  {
   "cell_type": "code",
   "execution_count": 4,
   "metadata": {
    "collapsed": false
   },
   "outputs": [
    {
     "name": "stdout",
     "output_type": "stream",
     "text": [
      "[nltk_data] Downloading package stopwords to\n",
      "[nltk_data]     /home/kushalkul01/nltk_data...\n",
      "[nltk_data]   Package stopwords is already up-to-date!\n"
     ]
    }
   ],
   "source": [
    "import re\n",
    "import string\n",
    "import nltk\n",
    "nltk.download('stopwords')\n",
    "from nltk.corpus import stopwords\n",
    "from nltk.stem.wordnet import WordNetLemmatizer\n",
    "from nltk.stem import SnowballStemmer\n",
    "\n",
    "i=0;\n",
    "for sent in final['Text'].values:\n",
    "    if (len(re.findall('<.*?>', sent))):\n",
    "        #print(i)\n",
    "        #print(sent)\n",
    "        break;\n",
    "    i += 1;    \n",
    "\n",
    "def cleanhtml(sentence): #function to clean the word of any html-tags\n",
    "    cleanr = re.compile('<.*?>')\n",
    "    cleantext = re.sub(cleanr, ' ', sentence)\n",
    "    return cleantext\n",
    "\n",
    "stop = set(stopwords.words('english')) #set of stopwords\n",
    "sno = SnowballStemmer('english') #initialising the snowball stemmer\n",
    "\n",
    "def cleanpunc(sentence): #function to clean the word of any punctuation or special characters\n",
    "    cleaned = re.sub(r'[?|!|\\'|\"|#]',r'',sentence)\n",
    "    cleaned = re.sub(r'[.|,|)|(|\\|/]',r' ',cleaned)\n",
    "    return  cleaned"
   ]
  },
  {
   "cell_type": "code",
   "execution_count": 5,
   "metadata": {
    "collapsed": true
   },
   "outputs": [],
   "source": [
    "i=0\n",
    "str1=' '\n",
    "final_string=[]\n",
    "all_positive_words=[] # store words from +ve reviews here\n",
    "all_negative_words=[] # store words from -ve reviews here.\n",
    "s=''\n",
    "for sent in final['Text'].values:\n",
    "    filtered_sentence=[]\n",
    "    #print(sent);\n",
    "    sent=cleanhtml(sent) # remove HTMl tags\n",
    "    for w in sent.split():\n",
    "        for cleaned_words in cleanpunc(w).split():\n",
    "            if((cleaned_words.isalpha()) & (len(cleaned_words)>2)):    \n",
    "                if(cleaned_words.lower() not in stop):\n",
    "                    s=(sno.stem(cleaned_words.lower())).encode('utf8')\n",
    "                    filtered_sentence.append(s)\n",
    "                    if (final['Score'].values)[i] == 'Positive': \n",
    "                        all_positive_words.append(s) #list of all words used to describe positive reviews\n",
    "                    if(final['Score'].values)[i] == 'Negative':\n",
    "                        all_negative_words.append(s) #list of all words used to describe negative reviews reviews\n",
    "                else:\n",
    "                    continue\n",
    "            else:\n",
    "                continue \n",
    "    #print(filtered_sentence)\n",
    "    str1 = b\" \".join(filtered_sentence) #final string of cleaned words\n",
    "    #print(\"***********************************************************************\")\n",
    "    \n",
    "    final_string.append(str1)\n",
    "    i+=1"
   ]
  },
  {
   "cell_type": "code",
   "execution_count": 6,
   "metadata": {
    "collapsed": true
   },
   "outputs": [],
   "source": [
    "final['CleanedText']=final_string #adding a column of CleanedText which displays the data after pre-processing of the review \n",
    "final['CleanedText']=final['CleanedText'].str.decode(\"utf-8\")"
   ]
  },
  {
   "cell_type": "code",
   "execution_count": 7,
   "metadata": {
    "collapsed": false
   },
   "outputs": [
    {
     "name": "stdout",
     "output_type": "stream",
     "text": [
      "Shape of y-vector is (100000,)\n"
     ]
    }
   ],
   "source": [
    "final = final.sort_values(by=['Time']) #Just to be double sure that dataframe is sorted according to time\n",
    "\n",
    "# Taking labels to make y-dimension\n",
    "labels=final['Score'].values\n",
    "\n",
    "# Checking the shape of labels\n",
    "print(\"Shape of y-vector is\",labels.shape)"
   ]
  },
  {
   "cell_type": "code",
   "execution_count": 8,
   "metadata": {
    "collapsed": true
   },
   "outputs": [],
   "source": [
    "# Taking initial 70% data as training data and remaining 30% as test data\n",
    "\n",
    "l = 0.7 * final.shape[0]\n",
    "X_train = final['CleanedText'][0:int(l)]\n",
    "X_test = final['CleanedText'][int(l):]\n",
    "y_train = labels[0:int(l)]\n",
    "y_test = labels[int(l):]"
   ]
  },
  {
   "cell_type": "markdown",
   "metadata": {},
   "source": [
    "# 2.0 Bag-of-Words Model"
   ]
  },
  {
   "cell_type": "code",
   "execution_count": 9,
   "metadata": {
    "collapsed": false
   },
   "outputs": [
    {
     "name": "stdout",
     "output_type": "stream",
     "text": [
      "The type of count vectorizer  <class 'scipy.sparse.csr.csr_matrix'>\n"
     ]
    }
   ],
   "source": [
    "# Making the bag of words model\n",
    "# Fitting the model on Training data and transforming the test data on the fitted model\n",
    "# This helps in taking care of data leakage\n",
    "\n",
    "from sklearn.feature_extraction.text import CountVectorizer\n",
    "bow = CountVectorizer()\n",
    "X_train_bow = bow.fit_transform(X_train)\n",
    "X_test_bow = bow.transform(X_test)\n",
    "y_train_bow = y_train\n",
    "y_test_bow = y_test\n",
    "print(\"The type of count vectorizer \",type(X_train_bow))"
   ]
  },
  {
   "cell_type": "code",
   "execution_count": 12,
   "metadata": {
    "collapsed": true
   },
   "outputs": [],
   "source": [
    "# Normalizing the data\n",
    "\n",
    "from sklearn.preprocessing import StandardScaler\n",
    "ss = StandardScaler(with_mean=False)\n",
    "X_train_bow = ss.fit_transform(X_train_bow)\n",
    "X_test_bow = ss.transform(X_test_bow)"
   ]
  },
  {
   "cell_type": "code",
   "execution_count": 13,
   "metadata": {
    "collapsed": true
   },
   "outputs": [],
   "source": [
    "# Converting 'Positive' and 'Negative' into True and False\n",
    "\n",
    "y_train_bow = y_train_bow=='Positive'\n",
    "y_test_bow = y_test_bow=='Positive'"
   ]
  },
  {
   "cell_type": "markdown",
   "metadata": {},
   "source": [
    "### 2.1 Grid Seach CV"
   ]
  },
  {
   "cell_type": "markdown",
   "metadata": {},
   "source": [
    "#### 2.1.1 Using L1 Regularization"
   ]
  },
  {
   "cell_type": "code",
   "execution_count": 12,
   "metadata": {
    "collapsed": false
   },
   "outputs": [
    {
     "name": "stdout",
     "output_type": "stream",
     "text": [
      "LogisticRegression(C=0.01, class_weight=None, dual=False, fit_intercept=True,\n",
      "          intercept_scaling=1, max_iter=100, multi_class='ovr', n_jobs=1,\n",
      "          penalty='l1', random_state=None, solver='liblinear', tol=0.0001,\n",
      "          verbose=0, warm_start=False)\n",
      "Optimal F-score: 0.95\n"
     ]
    }
   ],
   "source": [
    "# Finding the best parameters using Grid Seach CV using 10-fold Cross-Validation in Logistic Regression\n",
    "\n",
    "from sklearn.model_selection import GridSearchCV\n",
    "tuned_parameters = [{'C': [10**-4, 10**-2, 1, 10**2, 10**4]}]\n",
    "gridmodel1 = GridSearchCV(LogisticRegression(penalty = 'l1'), tuned_parameters, scoring = 'f1', cv=2, n_jobs=-1)\n",
    "gridmodel1.fit(X_train_bow, y_train_bow)\n",
    "\n",
    "print(gridmodel1.best_estimator_)\n",
    "print(\"Optimal F-score: {:.2f}\".format(gridmodel1.score(X_test_bow, y_test_bow)))"
   ]
  },
  {
   "cell_type": "markdown",
   "metadata": {},
   "source": [
    "#### 2.1.2 Using L2 Regularizer"
   ]
  },
  {
   "cell_type": "code",
   "execution_count": 13,
   "metadata": {
    "collapsed": false
   },
   "outputs": [
    {
     "name": "stdout",
     "output_type": "stream",
     "text": [
      "LogisticRegression(C=0.01, class_weight=None, dual=False, fit_intercept=True,\n",
      "          intercept_scaling=1, max_iter=100, multi_class='ovr', n_jobs=1,\n",
      "          penalty='l2', random_state=None, solver='liblinear', tol=0.0001,\n",
      "          verbose=0, warm_start=False)\n",
      "Optimal F-score: 0.95\n"
     ]
    }
   ],
   "source": [
    "# Finding the best parameters using Grid Seach CV using 10-fold Cross-Validation in Logistic Regression\n",
    "\n",
    "from sklearn.model_selection import GridSearchCV\n",
    "tuned_parameters = [{'C': [10**-4, 10**-2, 1, 10**2, 10**4]}]\n",
    "gridmodel2 = GridSearchCV(LogisticRegression(penalty = 'l2'), tuned_parameters, scoring = 'f1', cv=2, n_jobs=-1)\n",
    "gridmodel2.fit(X_train_bow, y_train_bow)\n",
    "\n",
    "print(gridmodel2.best_estimator_)\n",
    "print(\"Optimal F-score: {:.2f}\".format(gridmodel2.score(X_test_bow, y_test_bow)))"
   ]
  },
  {
   "cell_type": "markdown",
   "metadata": {},
   "source": [
    "### 2.2 Randomized Search CV"
   ]
  },
  {
   "cell_type": "markdown",
   "metadata": {},
   "source": [
    "#### 2.2.1 Using L1 Regularization"
   ]
  },
  {
   "cell_type": "code",
   "execution_count": 15,
   "metadata": {
    "collapsed": false
   },
   "outputs": [
    {
     "name": "stdout",
     "output_type": "stream",
     "text": [
      "LogisticRegression(C=1, class_weight=None, dual=False, fit_intercept=True,\n",
      "          intercept_scaling=1, max_iter=100, multi_class='ovr', n_jobs=1,\n",
      "          penalty='l1', random_state=None, solver='liblinear', tol=0.0001,\n",
      "          verbose=0, warm_start=False)\n",
      "Optimal F-score: 0.93\n"
     ]
    }
   ],
   "source": [
    "# Finding the best parameters using Random Seach CV\n",
    "\n",
    "from sklearn.model_selection import RandomizedSearchCV\n",
    "random_parameters = {'C': [10**-4,10**-3,10**-2,10**-1, 1, 10, 100, 1000]}\n",
    "randommodel1 = RandomizedSearchCV(LogisticRegression(penalty='l1'), random_parameters, scoring = 'f1', cv=2, n_iter=4, n_jobs=-1)\n",
    "randommodel1.fit(X_train_bow, y_train_bow)\n",
    "\n",
    "print(randommodel1.best_estimator_)\n",
    "print(\"Optimal F-score: {:.2f}\".format(randommodel1.score(X_test_bow, y_test_bow)))"
   ]
  },
  {
   "cell_type": "markdown",
   "metadata": {},
   "source": [
    "#### 2.2.2 Using L2 Regularization"
   ]
  },
  {
   "cell_type": "code",
   "execution_count": 16,
   "metadata": {
    "collapsed": false
   },
   "outputs": [
    {
     "name": "stdout",
     "output_type": "stream",
     "text": [
      "LogisticRegression(C=0.1, class_weight=None, dual=False, fit_intercept=True,\n",
      "          intercept_scaling=1, max_iter=100, multi_class='ovr', n_jobs=1,\n",
      "          penalty='l2', random_state=None, solver='liblinear', tol=0.0001,\n",
      "          verbose=0, warm_start=False)\n",
      "Optimal F-score: 0.94\n"
     ]
    }
   ],
   "source": [
    "# Finding the best parameters using Random Seach CV\n",
    "\n",
    "from sklearn.model_selection import RandomizedSearchCV\n",
    "random_parameters = {'C': [10**-5,10**-4,10**-3,10**-2,10**-1, 1, 10, 100, 1000]}\n",
    "randommodel2 = RandomizedSearchCV(LogisticRegression(penalty='l2'), random_parameters, scoring = 'f1', cv=2, n_iter=4, n_jobs=-1)\n",
    "randommodel2.fit(X_train_bow, y_train_bow)\n",
    "\n",
    "print(randommodel2.best_estimator_)\n",
    "print(\"Optimal F-score: {:.2f}\".format(randommodel2.score(X_test_bow, y_test_bow)))"
   ]
  },
  {
   "cell_type": "markdown",
   "metadata": {},
   "source": [
    "Hence out of all the techniques applied, best F-Score (0.95) was obtained. However, both models- Grid and Random gave exactly same results for L1 and L2 regularizer respectively.\n",
    "\n",
    "### 2.3 Fitting the best model and calculating different performance metrics"
   ]
  },
  {
   "cell_type": "code",
   "execution_count": 17,
   "metadata": {
    "collapsed": false
   },
   "outputs": [
    {
     "name": "stdout",
     "output_type": "stream",
     "text": [
      "Confusion Matrix:\n"
     ]
    },
    {
     "data": {
      "image/png": "[encoded data removed]",
      "text/plain": [
       "<Figure size 432x288 with 2 Axes>"
      ]
     },
     "metadata": {},
     "output_type": "display_data"
    },
    {
     "name": "stdout",
     "output_type": "stream",
     "text": [
      "TPR for the model on test data is 0.96\n",
      "FPR for the model on test data is 0.42\n",
      "TNR for the model on test data is 0.58\n",
      "FNR for the model on test data is 0.04\n",
      "\n"
     ]
    }
   ],
   "source": [
    "# Fitting the best model\n",
    "\n",
    "lr = LogisticRegression(penalty='l2', C=0.01)\n",
    "lr.fit(X_train_bow, y_train_bow)\n",
    "y_pred_bow = lr.predict(X_test_bow)\n",
    "\n",
    "cm_bow=confusion_matrix(y_test_bow,y_pred_bow)\n",
    "print(\"Confusion Matrix:\")\n",
    "sns.heatmap(cm_bow, annot=True, fmt='d')\n",
    "plt.show()\n",
    "\n",
    "# calculating TPR, FPR, TNR, FNR\n",
    "\n",
    "tn, fp, fn, tp = cm_bow.ravel()\n",
    "\n",
    "tnr_bow = tn/(tn+fp)\n",
    "fpr_bow = fp/(tn+fp)\n",
    "fnr_bow = fn/(fn+tp)\n",
    "tpr_bow = tp/(fn+tp)\n",
    "\n",
    "print(\"TPR for the model on test data is {:.2f}\".format(tpr_bow))\n",
    "print(\"FPR for the model on test data is {:.2f}\".format(fpr_bow))\n",
    "print(\"TNR for the model on test data is {:.2f}\".format(tnr_bow))\n",
    "print(\"FNR for the model on test data is {:.2f}\\n\".format(fnr_bow))"
   ]
  },
  {
   "cell_type": "code",
   "execution_count": 18,
   "metadata": {
    "collapsed": false
   },
   "outputs": [
    {
     "name": "stdout",
     "output_type": "stream",
     "text": [
      "Accuracy score for the model on test data is 0.91\n",
      "Precision score for the model on test data is 0.94\n",
      "Recall score for the model on test data is 0.96\n",
      "F1 score for the model on test data is 0.95\n",
      "\n"
     ]
    }
   ],
   "source": [
    "# calculating precision and recall \n",
    "accuracy_bow = accuracy_score(y_test_bow , y_pred_bow)\n",
    "precision_bow = precision_score(y_test_bow , y_pred_bow)\n",
    "recall_bow = recall_score(y_test_bow , y_pred_bow)\n",
    "f1_bow = f1_score(y_test_bow , y_pred_bow)\n",
    "\n",
    "print(\"Accuracy score for the model on test data is {:.2f}\".format(accuracy_bow))\n",
    "print(\"Precision score for the model on test data is {:.2f}\".format(precision_bow))\n",
    "print(\"Recall score for the model on test data is {:.2f}\".format(recall_bow))\n",
    "print(\"F1 score for the model on test data is {:.2f}\\n\".format(f1_bow))"
   ]
  },
  {
   "cell_type": "markdown",
   "metadata": {},
   "source": [
    "### 2.4 Checking sparsity with increasing value of lambda (decreasing C)"
   ]
  },
  {
   "cell_type": "code",
   "execution_count": 14,
   "metadata": {
    "collapsed": false
   },
   "outputs": [
    {
     "name": "stdout",
     "output_type": "stream",
     "text": [
      "lambda=0.0001 ; non-zeros=23471\n",
      "lambda=0.001 ; non-zeros=23732\n",
      "lambda=0.01 ; non-zeros=18284\n",
      "lambda=0.1 ; non-zeros=14487\n",
      "lambda=1.0 ; non-zeros=12288\n",
      "lambda=10.0 ; non-zeros=9669\n",
      "lambda=100.0 ; non-zeros=3145\n",
      "lambda=1000.0 ; non-zeros=55\n",
      "lambda=10000.0 ; non-zeros=0\n"
     ]
    }
   ],
   "source": [
    "lambd = [0.0001, 0.001, 0.01, 0.1, 1, 10, 100, 1000, 10000]\n",
    "for i in lambd[::-1]:\n",
    "    lrr = LogisticRegression(penalty = 'l1', C = i)\n",
    "    lrr.fit(X_train_bow, y_train_bow)\n",
    "    print(\"lambda=\"+str(1/i)+\" ; non-zeros=\"+str(np.count_nonzero(lrr.coef_)))"
   ]
  },
  {
   "cell_type": "markdown",
   "metadata": {},
   "source": [
    "As it is clear, when the value of λ increases, the number of non-zeros decrease. This implies that when alpha goes up, the number of non-zeros go down and hence number of zeros go up.\n",
    "\n",
    "As λ reaches ten-thousand, all the values of coefficients approach zero."
   ]
  },
  {
   "cell_type": "markdown",
   "metadata": {},
   "source": [
    "### 2.5 Checking for Multicollinearity"
   ]
  },
  {
   "cell_type": "code",
   "execution_count": 15,
   "metadata": {
    "collapsed": false
   },
   "outputs": [
    {
     "data": {
      "text/plain": [
       "LogisticRegression(C=0.01, class_weight=None, dual=False, fit_intercept=True,\n",
       "          intercept_scaling=1, max_iter=100, multi_class='ovr', n_jobs=1,\n",
       "          penalty='l2', random_state=None, solver='liblinear', tol=0.0001,\n",
       "          verbose=0, warm_start=False)"
      ]
     },
     "execution_count": 15,
     "metadata": {},
     "output_type": "execute_result"
    }
   ],
   "source": [
    "lr = LogisticRegression(penalty='l2', C=0.01)\n",
    "lr.fit(X_train_bow, y_train_bow)"
   ]
  },
  {
   "cell_type": "code",
   "execution_count": 16,
   "metadata": {
    "collapsed": false
   },
   "outputs": [
    {
     "name": "stdout",
     "output_type": "stream",
     "text": [
      "Noise= -0.1282136085523735\n"
     ]
    }
   ],
   "source": [
    "# Applying perturbation and checking if the coefficients differ too much\n",
    "# Will not add noise to zeros\n",
    "\n",
    "noise = np.random.normal(0 , 0.1 , 1)\n",
    "print(\"Noise= \"+str(noise[0]))\n",
    "X_train_bow.data = X_train_bow.data + noise[0]"
   ]
  },
  {
   "cell_type": "code",
   "execution_count": 17,
   "metadata": {
    "collapsed": false
   },
   "outputs": [
    {
     "data": {
      "text/plain": [
       "LogisticRegression(C=0.01, class_weight=None, dual=False, fit_intercept=True,\n",
       "          intercept_scaling=1, max_iter=100, multi_class='ovr', n_jobs=1,\n",
       "          penalty='l2', random_state=None, solver='liblinear', tol=0.0001,\n",
       "          verbose=0, warm_start=False)"
      ]
     },
     "execution_count": 17,
     "metadata": {},
     "output_type": "execute_result"
    }
   ],
   "source": [
    "# Fitting the new model on the transformed data\n",
    "\n",
    "lr2 = LogisticRegression(penalty='l2', C=0.01)\n",
    "lr2.fit(X_train_bow, y_train_bow)"
   ]
  },
  {
   "cell_type": "code",
   "execution_count": 19,
   "metadata": {
    "collapsed": false
   },
   "outputs": [
    {
     "name": "stdout",
     "output_type": "stream",
     "text": [
      "Number of features whose coefficients changed by more than 40% = 2790\n"
     ]
    }
   ],
   "source": [
    "# Calculating the percentage change between the old and new coefficients\n",
    "count=0\n",
    "for i in range(X_train_bow.shape[1]):\n",
    "    delta = abs((((lr.coef_[0][i] - lr2.coef_[0][i]) * 100))/ lr.coef_[0][i])\n",
    "    if delta>40:\n",
    "        count+=1\n",
    "        \n",
    "print(\"Number of features whose coefficients changed by more than 40% =\",count)"
   ]
  },
  {
   "cell_type": "markdown",
   "metadata": {},
   "source": [
    "Hence for most of the some features, the value of coefficients changed a lot. Hence features are multicollinear in nature."
   ]
  },
  {
   "cell_type": "code",
   "execution_count": 20,
   "metadata": {
    "collapsed": false
   },
   "outputs": [
    {
     "name": "stdout",
     "output_type": "stream",
     "text": [
      "Negative Words are:\n",
      " ['worst' 'disappoint' 'www' 'tast' 'aw' 'canida' 'context' 'unfortun'\n",
      " 'earth' 'terribl']\n",
      "\n",
      "Positive Words are:\n",
      " ['favorit' 'amaz' 'nice' 'addict' 'delici' 'good' 'perfect' 'love' 'best'\n",
      " 'great']\n"
     ]
    }
   ],
   "source": [
    "# Taking values for probabilities for BoW\n",
    "\n",
    "lr = LogisticRegression(penalty='l2', C=0.1)\n",
    "lr.fit(X_train_bow, y_train_bow)\n",
    "prob_score = lr.coef_\n",
    "probs = prob_score.argsort() # Probabilities of y=1 in ascending order\n",
    "\n",
    "# Taking words with Maximum Probabilities for negative and positive labels\n",
    "\n",
    "neg_words = np.take(bow.get_feature_names(), probs[0][:10]) # Lowest probabilities of y=1\n",
    "pos_words = np.take(bow.get_feature_names(), probs[0][-10:]) # highest probabilities of y=1\n",
    "\n",
    "print(\"Negative Words are:\\n\" , neg_words, end='\\n\\n')\n",
    "print(\"Positive Words are:\\n\" , pos_words)"
   ]
  },
  {
   "cell_type": "markdown",
   "metadata": {},
   "source": [
    "Hence, the positive and negative words are clearly demarcated from the logistic regression\n",
    "\n",
    "# 3.0 TF-IDF Vectors"
   ]
  },
  {
   "cell_type": "code",
   "execution_count": 10,
   "metadata": {
    "collapsed": true
   },
   "outputs": [],
   "source": [
    "# importing the right libraries\n",
    "\n",
    "from sklearn.feature_extraction.text import TfidfTransformer\n",
    "from sklearn.feature_extraction.text import TfidfVectorizer\n",
    "\n",
    "\n",
    "# making tf-idf vector\n",
    "\n",
    "tf_idf_vect = TfidfVectorizer() # using ngram_range as (1,1) due to computation restrictions\n",
    "X_train_tf = tf_idf_vect.fit_transform(X_train)\n",
    "X_test_tf = tf_idf_vect.transform(X_test)\n",
    "y_train_tf = y_train\n",
    "y_test_tf = y_test"
   ]
  },
  {
   "cell_type": "code",
   "execution_count": 10,
   "metadata": {
    "collapsed": true
   },
   "outputs": [],
   "source": [
    "# Converting 'Positive' and 'Negative' into True and False\n",
    "\n",
    "y_train_tf = y_train_tf == 'Positive'\n",
    "y_test_tf = y_test_tf == 'Positive'"
   ]
  },
  {
   "cell_type": "markdown",
   "metadata": {},
   "source": [
    "### 3.1 Grid Seach CV for Optimal λ (C) and Penalty (among L1 and L2)"
   ]
  },
  {
   "cell_type": "code",
   "execution_count": 12,
   "metadata": {
    "collapsed": false
   },
   "outputs": [
    {
     "name": "stdout",
     "output_type": "stream",
     "text": [
      "************************************************************************\n",
      "\n",
      "Using L1 regularization-\n",
      "\n",
      "LogisticRegression(C=1, class_weight=None, dual=False, fit_intercept=True,\n",
      "          intercept_scaling=1, max_iter=100, multi_class='ovr', n_jobs=1,\n",
      "          penalty='l1', random_state=None, solver='liblinear', tol=0.0001,\n",
      "          verbose=0, warm_start=False)\n",
      "\n",
      "Optimal F-score: 0.96\n",
      "\n",
      "\n",
      "************************************************************************\n",
      "\n",
      "\n",
      "Using L2 regularization- \n",
      "LogisticRegression(C=1, class_weight=None, dual=False, fit_intercept=True,\n",
      "          intercept_scaling=1, max_iter=100, multi_class='ovr', n_jobs=1,\n",
      "          penalty='l2', random_state=None, solver='liblinear', tol=0.0001,\n",
      "          verbose=0, warm_start=False)\n",
      "Optimal F-score: 0.95\n",
      "\n",
      "\n",
      "************************************************************************\n"
     ]
    }
   ],
   "source": [
    "# Finding the best parameters using Random Seach CV\n",
    "\n",
    "from sklearn.model_selection import GridSearchCV\n",
    "\n",
    "tuned_parameters = {'C': [10**-4, 10**-2, 1, 10**2, 10**4]}\n",
    "                   \n",
    "gridmodel1 = GridSearchCV(LogisticRegression(penalty='l1'), tuned_parameters, scoring = 'f1', cv=2)\n",
    "gridmodel1.fit(X_train_tf, y_train_tf)\n",
    "\n",
    "gridmodel2 = GridSearchCV(LogisticRegression(penalty='l2'), tuned_parameters, scoring = 'f1', cv=2)\n",
    "gridmodel2.fit(X_train_tf, y_train_tf)\n",
    "\n",
    "print(\"************************************************************************\")\n",
    "print(\"\\nUsing L1 regularization-\\n\")\n",
    "print(gridmodel1.best_estimator_)\n",
    "print(\"\\nOptimal F-score: {:.2f}\".format(gridmodel1.score(X_test_tf, y_test_tf)))\n",
    "print('\\n')\n",
    "print(\"************************************************************************\")\n",
    "print('\\n')\n",
    "print(\"Using L2 regularization- \")\n",
    "print(gridmodel2.best_estimator_)\n",
    "print(\"Optimal F-score: {:.2f}\".format(gridmodel2.score(X_test_tf, y_test_tf)))\n",
    "print('\\n')\n",
    "print(\"************************************************************************\")"
   ]
  },
  {
   "cell_type": "markdown",
   "metadata": {},
   "source": [
    "### 3.2 Random Seach CV for Optimal λ (C) and Penalty (among L1 and L2)"
   ]
  },
  {
   "cell_type": "code",
   "execution_count": 14,
   "metadata": {
    "collapsed": false
   },
   "outputs": [
    {
     "name": "stdout",
     "output_type": "stream",
     "text": [
      "************************************************************************\n",
      "\n",
      "Using L1 regularization-\n",
      "\n",
      "LogisticRegression(C=1, class_weight=None, dual=False, fit_intercept=True,\n",
      "          intercept_scaling=1, max_iter=100, multi_class='ovr', n_jobs=1,\n",
      "          penalty='l1', random_state=None, solver='liblinear', tol=0.0001,\n",
      "          verbose=0, warm_start=False)\n",
      "\n",
      "Optimal F-score: 0.96\n",
      "\n",
      "\n",
      "************************************************************************\n",
      "\n",
      "\n",
      "Using L2 regularization- \n",
      "LogisticRegression(C=10, class_weight=None, dual=False, fit_intercept=True,\n",
      "          intercept_scaling=1, max_iter=100, multi_class='ovr', n_jobs=1,\n",
      "          penalty='l2', random_state=None, solver='liblinear', tol=0.0001,\n",
      "          verbose=0, warm_start=False)\n",
      "\n",
      "Optimal F-score: 0.96\n",
      "\n",
      "\n",
      "************************************************************************\n"
     ]
    }
   ],
   "source": [
    "# Finding the best parameters using Random Seach CV\n",
    "\n",
    "from sklearn.model_selection import RandomizedSearchCV\n",
    "\n",
    "random_parameters = {'C': [10**-4, 10**-3, 10**-2, 0.1, 1, 10, 10**2, 10**3 , 10**4]}\n",
    "                   \n",
    "randommodel1 = RandomizedSearchCV(LogisticRegression(penalty='l1'), random_parameters, scoring = 'f1', cv=2, n_iter=4)\n",
    "randommodel1.fit(X_train_tf, y_train_tf)\n",
    "\n",
    "randommodel2 = RandomizedSearchCV(LogisticRegression(penalty='l2'), random_parameters, scoring = 'f1', cv=2, n_iter=4)\n",
    "randommodel2.fit(X_train_tf, y_train_tf)\n",
    "\n",
    "print(\"************************************************************************\")\n",
    "print(\"\\nUsing L1 regularization-\\n\")\n",
    "print(randommodel1.best_estimator_)\n",
    "print(\"\\nOptimal F-score: {:.2f}\".format(randommodel1.score(X_test_tf, y_test_tf)))\n",
    "print('\\n')\n",
    "print(\"************************************************************************\")\n",
    "print('\\n')\n",
    "print(\"Using L2 regularization- \")\n",
    "print(randommodel2.best_estimator_)\n",
    "print(\"\\nOptimal F-score: {:.2f}\".format(randommodel2.score(X_test_tf, y_test_tf)))\n",
    "print('\\n')\n",
    "print(\"************************************************************************\")"
   ]
  },
  {
   "cell_type": "markdown",
   "metadata": {},
   "source": [
    "Almost similar results for L1 and exactly same for L2.\n",
    "So, to get best model (highest F1 score), we will use L2 regularization with C=1\n",
    "\n",
    "### 3.3 Fitting the best model and calculating different performance metrics"
   ]
  },
  {
   "cell_type": "code",
   "execution_count": 15,
   "metadata": {
    "collapsed": false
   },
   "outputs": [
    {
     "name": "stdout",
     "output_type": "stream",
     "text": [
      "Confusion Matrix:\n"
     ]
    },
    {
     "data": {
      "image/png": "[encoded data removed]",
      "text/plain": [
       "<Figure size 432x288 with 2 Axes>"
      ]
     },
     "metadata": {},
     "output_type": "display_data"
    },
    {
     "name": "stdout",
     "output_type": "stream",
     "text": [
      "TPR for the model on test data is 0.97\n",
      "FPR for the model on test data is 0.40\n",
      "TNR for the model on test data is 0.60\n",
      "FNR for the model on test data is 0.03\n",
      "\n"
     ]
    }
   ],
   "source": [
    "# Fitting the best model\n",
    "\n",
    "lr = LogisticRegression(penalty='l2', C=10)\n",
    "lr.fit(X_train_tf, y_train_tf)\n",
    "y_pred_tf = lr.predict(X_test_tf)\n",
    "\n",
    "# Generating the confusion matrix\n",
    "cm_tf = confusion_matrix(y_test_tf , y_pred_tf)\n",
    "print(\"Confusion Matrix:\")\n",
    "sns.heatmap(cm_tf, annot=True, fmt='d')\n",
    "plt.show()\n",
    "\n",
    "# calculating TPR, FPR, TNR, FNR\n",
    "\n",
    "tn, fp, fn, tp = cm_tf.ravel()\n",
    "\n",
    "tnr_tf = tn/(tn+fp)\n",
    "fpr_tf = fp/(tn+fp)\n",
    "fnr_tf = fn/(fn+tp)\n",
    "tpr_tf = tp/(fn+tp)\n",
    "\n",
    "print(\"TPR for the model on test data is {:.2f}\".format(tpr_tf))\n",
    "print(\"FPR for the model on test data is {:.2f}\".format(fpr_tf))\n",
    "print(\"TNR for the model on test data is {:.2f}\".format(tnr_tf))\n",
    "print(\"FNR for the model on test data is {:.2f}\\n\".format(fnr_tf))"
   ]
  },
  {
   "cell_type": "code",
   "execution_count": 16,
   "metadata": {
    "collapsed": false
   },
   "outputs": [
    {
     "name": "stdout",
     "output_type": "stream",
     "text": [
      "Accuracy score for the model on test data is 0.92\n",
      "Precision score for the model on test data is 0.94\n",
      "Recall score for the model on test data is 0.97\n",
      "F1 score for the model on test data is 0.96\n",
      "\n"
     ]
    }
   ],
   "source": [
    "# calculating accuracy, precision and recall \n",
    "\n",
    "accuracy_tf = accuracy_score(y_test_tf , y_pred_tf)\n",
    "precision_tf = precision_score(y_test_tf , y_pred_tf)\n",
    "recall_tf = recall_score(y_test_tf , y_pred_tf)\n",
    "f1_tf = f1_score(y_test_tf , y_pred_tf)\n",
    "\n",
    "print(\"Accuracy score for the model on test data is {:.2f}\".format(accuracy_tf))\n",
    "print(\"Precision score for the model on test data is {:.2f}\".format(precision_tf))\n",
    "print(\"Recall score for the model on test data is {:.2f}\".format(recall_tf))\n",
    "print(\"F1 score for the model on test data is {:.2f}\\n\".format(f1_tf))"
   ]
  },
  {
   "cell_type": "markdown",
   "metadata": {},
   "source": [
    "### 3.4 Checking sparsity with increasing value of  λ (decreasing C)"
   ]
  },
  {
   "cell_type": "code",
   "execution_count": 17,
   "metadata": {
    "collapsed": false
   },
   "outputs": [
    {
     "name": "stdout",
     "output_type": "stream",
     "text": [
      "lambda=0.0001 ; non-zeros=14552\n",
      "lambda=0.001 ; non-zeros=13174\n",
      "lambda=0.01 ; non-zeros=11208\n",
      "lambda=0.1 ; non-zeros=6811\n",
      "lambda=1.0 ; non-zeros=1268\n",
      "lambda=10.0 ; non-zeros=185\n",
      "lambda=100.0 ; non-zeros=3\n",
      "lambda=1000.0 ; non-zeros=0\n",
      "lambda=10000.0 ; non-zeros=0\n"
     ]
    }
   ],
   "source": [
    "lambd = [0.0001, 0.001, 0.01, 0.1, 1, 10, 100, 1000, 10000]\n",
    "for i in lambd[::-1]:\n",
    "    lrr = LogisticRegression(penalty = 'l1', C = i)\n",
    "    lrr.fit(X_train_tf, y_train_tf)\n",
    "    print(\"lambda=\"+str(1/i)+\" ; non-zeros=\"+str(np.count_nonzero(lrr.coef_)))"
   ]
  },
  {
   "cell_type": "markdown",
   "metadata": {},
   "source": [
    "As it is clear, when the value of λ increases, the number of non-zeros decrease. This implies that when alpha goes up, the number of non-zeros go down and hence number of zeros go up.\n",
    "\n",
    "As λ reaches 1000, all the values of coefficients approach zero.\n",
    "\n",
    "### 3.5 Checking for Multicollinearity"
   ]
  },
  {
   "cell_type": "code",
   "execution_count": 18,
   "metadata": {
    "collapsed": false
   },
   "outputs": [
    {
     "name": "stdout",
     "output_type": "stream",
     "text": [
      "Noise= -0.15880593569504242\n"
     ]
    }
   ],
   "source": [
    "# Applying perturbation and checking if the coefficients differ too much\n",
    "\n",
    "noise = np.random.normal(0 , 0.1 , 1)\n",
    "print(\"Noise= \"+str(noise[0]))\n",
    "X_train_tf.data = X_train_tf.data + noise[0]"
   ]
  },
  {
   "cell_type": "code",
   "execution_count": 19,
   "metadata": {
    "collapsed": false
   },
   "outputs": [
    {
     "data": {
      "text/plain": [
       "LogisticRegression(C=1, class_weight=None, dual=False, fit_intercept=True,\n",
       "          intercept_scaling=1, max_iter=100, multi_class='ovr', n_jobs=1,\n",
       "          penalty='l2', random_state=None, solver='liblinear', tol=0.0001,\n",
       "          verbose=0, warm_start=False)"
      ]
     },
     "execution_count": 19,
     "metadata": {},
     "output_type": "execute_result"
    }
   ],
   "source": [
    "# Fitting the new model on the transformed data\n",
    "\n",
    "lr2 = LogisticRegression(penalty='l2', C=1)\n",
    "lr2.fit(X_train_tf, y_train_tf)"
   ]
  },
  {
   "cell_type": "code",
   "execution_count": 21,
   "metadata": {
    "collapsed": false
   },
   "outputs": [
    {
     "name": "stdout",
     "output_type": "stream",
     "text": [
      "Number of features whose coefficients changed by more than 40% = 28767\n"
     ]
    }
   ],
   "source": [
    "# Calculating the percentage change between the old and new coefficients\n",
    "\n",
    "# Calculating the percentage change between the old and new coefficients\n",
    "count=0\n",
    "for i in range(X_train_tf.shape[1]):\n",
    "    delta = abs((((lr.coef_[0][i] - lr2.coef_[0][i]) * 100))/ lr.coef_[0][i])\n",
    "    if delta>40:\n",
    "        count+=1\n",
    "        \n",
    "print(\"Number of features whose coefficients changed by more than 40% =\",count)"
   ]
  },
  {
   "cell_type": "markdown",
   "metadata": {},
   "source": [
    "The percentage change in the values of coefficients is quite small, hence we can conclude that features are quite independent of each other."
   ]
  },
  {
   "cell_type": "code",
   "execution_count": 22,
   "metadata": {
    "collapsed": false
   },
   "outputs": [
    {
     "name": "stdout",
     "output_type": "stream",
     "text": [
      "Negative Words are:\n",
      " ['worst' 'disappoint' 'terribl' 'aw' 'bland' 'threw' 'horribl' 'unfortun'\n",
      " 'tasteless' 'ugh']\n",
      "\n",
      "Positive Words are:\n",
      " ['nice' 'awesom' 'addict' 'amaz' 'excel' 'love' 'delici' 'perfect' 'best'\n",
      " 'great']\n"
     ]
    }
   ],
   "source": [
    "# Taking values for probabilities for BoW\n",
    "\n",
    "prob_score = lr.coef_\n",
    "probs = prob_score.argsort()\n",
    "\n",
    "# Taking words with Maximum Probabilities for negative and positive labels\n",
    "neg_words = np.take(tf_idf_vect.get_feature_names(), probs[0][:10])\n",
    "pos_words = np.take(tf_idf_vect.get_feature_names(), probs[0][-10:])\n",
    "\n",
    "print(\"Negative Words are:\\n\" , neg_words, end='\\n\\n')\n",
    "print(\"Positive Words are:\\n\" , pos_words)"
   ]
  },
  {
   "cell_type": "markdown",
   "metadata": {},
   "source": [
    "# 4.0 Word2Vec"
   ]
  },
  {
   "cell_type": "code",
   "execution_count": 11,
   "metadata": {
    "collapsed": true
   },
   "outputs": [],
   "source": [
    "import gensim\n",
    "from gensim.models import Word2Vec"
   ]
  },
  {
   "cell_type": "code",
   "execution_count": 12,
   "metadata": {
    "collapsed": true
   },
   "outputs": [],
   "source": [
    "i=0\n",
    "list_of_sent=[]\n",
    "for sent in X_train:\n",
    "    list_of_sent.append(sent.split())"
   ]
  },
  {
   "cell_type": "code",
   "execution_count": 13,
   "metadata": {
    "collapsed": false
   },
   "outputs": [
    {
     "name": "stdout",
     "output_type": "stream",
     "text": [
      "like\n"
     ]
    }
   ],
   "source": [
    "# min_count = 5 considers only words that occured atleast 5 times\n",
    "w2v_model=Word2Vec(list_of_sent,min_count=5,size=50, workers=4)\n",
    "w2v_words = list(w2v_model.wv.vocab)\n",
    "count_vect_feat = bow.get_feature_names() # list of words in the BoW\n",
    "print(count_vect_feat[count_vect_feat.index('like')])"
   ]
  },
  {
   "cell_type": "markdown",
   "metadata": {},
   "source": [
    "## 4.1 Average Word2Vec"
   ]
  },
  {
   "cell_type": "code",
   "execution_count": 14,
   "metadata": {
    "collapsed": false
   },
   "outputs": [
    {
     "name": "stdout",
     "output_type": "stream",
     "text": [
      "70000\n",
      "50\n"
     ]
    }
   ],
   "source": [
    "# average Word2Vec\n",
    "# compute average word2vec for each review.\n",
    "sent_vectors = []; # the avg-w2v for each sentence/review is stored in this list\n",
    "for sent in list_of_sent: # for each review/sentence\n",
    "    sent_vec = np.zeros(50) # as word vectors are of zero length\n",
    "    cnt_words =0; # num of words with a valid vector in the sentence/review\n",
    "    for word in sent: # for each word in a review/sentence\n",
    "        if word in w2v_words:\n",
    "            vec = w2v_model.wv[word]\n",
    "            sent_vec += vec\n",
    "            cnt_words += 1\n",
    "    if cnt_words != 0:\n",
    "        sent_vec /= cnt_words\n",
    "    sent_vectors.append(sent_vec)\n",
    "print(len(sent_vectors))\n",
    "print(len(sent_vectors[0]))"
   ]
  },
  {
   "cell_type": "code",
   "execution_count": 15,
   "metadata": {
    "collapsed": false
   },
   "outputs": [
    {
     "name": "stdout",
     "output_type": "stream",
     "text": [
      "30000\n",
      "50\n"
     ]
    }
   ],
   "source": [
    "list_of_sent_tst=[]\n",
    "for sent in X_test:\n",
    "    list_of_sent_tst.append(sent.split())\n",
    "    \n",
    "sent_vectors_test = []; # the avg-w2v for each sentence/review is stored in this list\n",
    "for sent in list_of_sent_tst: # for each review/sentence\n",
    "    sent_vec = np.zeros(50) # as word vectors are of zero length\n",
    "    cnt_words =0; # num of words with a valid vector in the sentence/review\n",
    "    for word in sent: # for each word in a review/sentence\n",
    "        if word in w2v_words:\n",
    "            vec = w2v_model.wv[word]\n",
    "            sent_vec += vec\n",
    "            cnt_words += 1\n",
    "    if cnt_words != 0:\n",
    "        sent_vec /= cnt_words\n",
    "    sent_vectors_test.append(sent_vec)\n",
    "print(len(sent_vectors_test))\n",
    "print(len(sent_vectors_test[0]))"
   ]
  },
  {
   "cell_type": "code",
   "execution_count": 16,
   "metadata": {
    "collapsed": false
   },
   "outputs": [
    {
     "name": "stdout",
     "output_type": "stream",
     "text": [
      "Length of X_train : 70000\n",
      "Length of X_test : 30000\n"
     ]
    }
   ],
   "source": [
    "X_train_avg = sent_vectors\n",
    "X_test_avg = sent_vectors_test\n",
    "y_train_avg = y_train\n",
    "y_test_avg = y_test\n",
    "\n",
    "print(\"Length of X_train :\",len(X_train_avg))\n",
    "print(\"Length of X_test :\",len(X_test_avg))"
   ]
  },
  {
   "cell_type": "code",
   "execution_count": 17,
   "metadata": {
    "collapsed": true
   },
   "outputs": [],
   "source": [
    "# Converting 'Positive' and 'Negative' into True and False\n",
    "\n",
    "y_train_avg = y_train_avg == 'Positive'\n",
    "y_test_avg = y_test_avg == 'Positive'"
   ]
  },
  {
   "cell_type": "markdown",
   "metadata": {},
   "source": [
    "### 4.1.1 Grid Seach CV for Optimal λ (C) and Penalty (among L1 and L2)"
   ]
  },
  {
   "cell_type": "code",
   "execution_count": 19,
   "metadata": {
    "collapsed": false
   },
   "outputs": [
    {
     "name": "stdout",
     "output_type": "stream",
     "text": [
      "************************************************************************\n",
      "\n",
      "Using L1 regularization-\n",
      "\n",
      "LogisticRegression(C=1, class_weight=None, dual=False, fit_intercept=True,\n",
      "          intercept_scaling=1, max_iter=100, multi_class='ovr', n_jobs=1,\n",
      "          penalty='l1', random_state=None, solver='liblinear', tol=0.0001,\n",
      "          verbose=0, warm_start=False)\n",
      "\n",
      "Optimal F-score: 0.94\n",
      "\n",
      "\n",
      "************************************************************************\n",
      "\n",
      "\n",
      "Using L2 regularization-\n",
      "\n",
      "LogisticRegression(C=1, class_weight=None, dual=False, fit_intercept=True,\n",
      "          intercept_scaling=1, max_iter=100, multi_class='ovr', n_jobs=1,\n",
      "          penalty='l2', random_state=None, solver='liblinear', tol=0.0001,\n",
      "          verbose=0, warm_start=False)\n",
      "Optimal F-score: 0.94\n",
      "\n",
      "\n",
      "************************************************************************\n"
     ]
    }
   ],
   "source": [
    "# Finding the best parameters using Random Seach CV\n",
    "\n",
    "from sklearn.model_selection import GridSearchCV\n",
    "\n",
    "tuned_parameters = {'C': [10**-4, 10**-2, 1, 10**2, 10**4]}\n",
    "                   \n",
    "gridmodel1 = GridSearchCV(LogisticRegression(penalty='l1'), tuned_parameters, scoring = 'f1', cv=2)\n",
    "gridmodel1.fit(X_train_avg, y_train_avg)\n",
    "\n",
    "gridmodel2 = GridSearchCV(LogisticRegression(penalty='l2'), tuned_parameters, scoring = 'f1', cv=2)\n",
    "gridmodel2.fit(X_train_avg, y_train_avg)\n",
    "\n",
    "print(\"************************************************************************\")\n",
    "print(\"\\nUsing L1 regularization-\\n\")\n",
    "print(gridmodel1.best_estimator_)\n",
    "print(\"\\nOptimal F-score: {:.2f}\".format(gridmodel1.score(X_test_avg, y_test_avg)))\n",
    "print('\\n')\n",
    "print(\"************************************************************************\")\n",
    "print('\\n')\n",
    "print(\"Using L2 regularization-\\n\")\n",
    "print(gridmodel2.best_estimator_)\n",
    "print(\"Optimal F-score: {:.2f}\".format(gridmodel2.score(X_test_avg, y_test_avg)))\n",
    "print('\\n')\n",
    "print(\"************************************************************************\")"
   ]
  },
  {
   "cell_type": "markdown",
   "metadata": {},
   "source": [
    "### 4.1.2 Random Seach CV for Optimal λ (C) and Penalty (among L1 and L2)"
   ]
  },
  {
   "cell_type": "code",
   "execution_count": 20,
   "metadata": {
    "collapsed": false
   },
   "outputs": [
    {
     "name": "stdout",
     "output_type": "stream",
     "text": [
      "************************************************************************\n",
      "\n",
      "Using L1 regularization-\n",
      "\n",
      "LogisticRegression(C=100, class_weight=None, dual=False, fit_intercept=True,\n",
      "          intercept_scaling=1, max_iter=100, multi_class='ovr', n_jobs=1,\n",
      "          penalty='l1', random_state=None, solver='liblinear', tol=0.0001,\n",
      "          verbose=0, warm_start=False)\n",
      "\n",
      "Optimal F-score: 0.94\n",
      "\n",
      "\n",
      "************************************************************************\n",
      "\n",
      "\n",
      "Using L2 regularization- \n",
      "LogisticRegression(C=10000, class_weight=None, dual=False, fit_intercept=True,\n",
      "          intercept_scaling=1, max_iter=100, multi_class='ovr', n_jobs=1,\n",
      "          penalty='l2', random_state=None, solver='liblinear', tol=0.0001,\n",
      "          verbose=0, warm_start=False)\n",
      "\n",
      "Optimal F-score: 0.94\n",
      "\n",
      "\n",
      "************************************************************************\n"
     ]
    }
   ],
   "source": [
    "# Finding the best parameters using Random Seach CV\n",
    "\n",
    "from sklearn.model_selection import RandomizedSearchCV\n",
    "\n",
    "random_parameters = {'C': [10**-4, 10**-3, 10**-2, 0.1, 1, 10, 10**2, 10**3 , 10**4]}\n",
    "                   \n",
    "randommodel1 = RandomizedSearchCV(LogisticRegression(penalty='l1'), random_parameters, scoring = 'f1', cv=2, n_iter=4)\n",
    "randommodel1.fit(X_train_avg, y_train_avg)\n",
    "\n",
    "randommodel2 = RandomizedSearchCV(LogisticRegression(penalty='l2'), random_parameters, scoring = 'f1', cv=2, n_iter=4)\n",
    "randommodel2.fit(X_train_avg, y_train_avg)\n",
    "\n",
    "print(\"************************************************************************\")\n",
    "print(\"\\nUsing L1 regularization-\\n\")\n",
    "print(randommodel1.best_estimator_)\n",
    "print(\"\\nOptimal F-score: {:.2f}\".format(randommodel1.score(X_test_avg, y_test_avg)))\n",
    "print('\\n')\n",
    "print(\"************************************************************************\")\n",
    "print('\\n')\n",
    "print(\"Using L2 regularization- \")\n",
    "print(randommodel2.best_estimator_)\n",
    "print(\"\\nOptimal F-score: {:.2f}\".format(randommodel2.score(X_test_avg, y_test_avg)))\n",
    "print('\\n')\n",
    "print(\"************************************************************************\")"
   ]
  },
  {
   "cell_type": "markdown",
   "metadata": {},
   "source": [
    "Hence we got almost similar results for L1 and exactly same for L2.\n",
    "C=10000 and C=1000 give almost similar result for L2 regularization\n",
    "So, to get best model (highest F1 score), we will use L1 regularization with C=10000\n",
    "\n",
    "### 4.1.3 Fitting the best model and calculating different performance metrics"
   ]
  },
  {
   "cell_type": "code",
   "execution_count": 21,
   "metadata": {
    "collapsed": false
   },
   "outputs": [
    {
     "name": "stdout",
     "output_type": "stream",
     "text": [
      "Confusion Matrix:\n"
     ]
    },
    {
     "data": {
      "image/png": "[encoded data removed]",
      "text/plain": [
       "<Figure size 432x288 with 2 Axes>"
      ]
     },
     "metadata": {},
     "output_type": "display_data"
    },
    {
     "name": "stdout",
     "output_type": "stream",
     "text": [
      "TPR for the model on test data is 0.98\n",
      "FPR for the model on test data is 0.64\n",
      "TNR for the model on test data is 0.36\n",
      "FNR for the model on test data is 0.02\n",
      "\n"
     ]
    }
   ],
   "source": [
    "# Fitting the best model\n",
    "\n",
    "lr = LogisticRegression(penalty='l2', C=1)\n",
    "lr.fit(X_train_avg, y_train_avg)\n",
    "y_pred_avg = lr.predict(X_test_avg)\n",
    "\n",
    "cm_avg = confusion_matrix(y_test_avg , y_pred_avg)\n",
    "print(\"Confusion Matrix:\")\n",
    "sns.heatmap(cm_avg, annot=True, fmt='d')\n",
    "plt.show()\n",
    "\n",
    "# calculating TPR, FPR, TNR, FNR\n",
    "\n",
    "tn, fp, fn, tp = cm_avg.ravel()\n",
    "\n",
    "tnr_avg = tn/(tn+fp)\n",
    "fpr_avg = fp/(tn+fp)\n",
    "fnr_avg = fn/(fn+tp)\n",
    "tpr_avg = tp/(fn+tp)\n",
    "\n",
    "print(\"TPR for the model on test data is {:.2f}\".format(tpr_avg))\n",
    "print(\"FPR for the model on test data is {:.2f}\".format(fpr_avg))\n",
    "print(\"TNR for the model on test data is {:.2f}\".format(tnr_avg))\n",
    "print(\"FNR for the model on test data is {:.2f}\\n\".format(fnr_avg))"
   ]
  },
  {
   "cell_type": "code",
   "execution_count": 22,
   "metadata": {
    "collapsed": false
   },
   "outputs": [
    {
     "name": "stdout",
     "output_type": "stream",
     "text": [
      "Accuracy score for the model on test data is 0.89\n",
      "Precision score for the model on test data is 0.91\n",
      "Recall score for the model on test data is 0.98\n",
      "F1 score for the model on test data is 0.94\n",
      "\n"
     ]
    }
   ],
   "source": [
    "# calculating accuracy, precision and recall \n",
    "\n",
    "accuracy_avg = accuracy_score(y_test_avg , y_pred_avg)\n",
    "precision_avg = precision_score(y_test_avg , y_pred_avg)\n",
    "recall_avg = recall_score(y_test_avg , y_pred_avg)\n",
    "f1_avg = f1_score(y_test_avg , y_pred_avg)\n",
    "\n",
    "print(\"Accuracy score for the model on test data is {:.2f}\".format(accuracy_avg))\n",
    "print(\"Precision score for the model on test data is {:.2f}\".format(precision_avg))\n",
    "print(\"Recall score for the model on test data is {:.2f}\".format(recall_avg))\n",
    "print(\"F1 score for the model on test data is {:.2f}\\n\".format(f1_avg))"
   ]
  },
  {
   "cell_type": "markdown",
   "metadata": {},
   "source": [
    "### 4.1.4 Checking sparsity with increasing value of  λ (decreasing C)"
   ]
  },
  {
   "cell_type": "code",
   "execution_count": 23,
   "metadata": {
    "collapsed": false
   },
   "outputs": [
    {
     "name": "stdout",
     "output_type": "stream",
     "text": [
      "lambda=0.0001 ; non-zeros=50\n",
      "lambda=0.001 ; non-zeros=50\n",
      "lambda=0.01 ; non-zeros=50\n",
      "lambda=0.1 ; non-zeros=50\n",
      "lambda=1.0 ; non-zeros=48\n",
      "lambda=10.0 ; non-zeros=48\n",
      "lambda=100.0 ; non-zeros=30\n",
      "lambda=1000.0 ; non-zeros=8\n",
      "lambda=10000.0 ; non-zeros=0\n"
     ]
    }
   ],
   "source": [
    "lambd = [0.0001, 0.001, 0.01, 0.1, 1, 10, 100, 1000, 10000]\n",
    "for i in lambd[::-1]:\n",
    "    lrr = LogisticRegression(penalty = 'l1', C = i)\n",
    "    lrr.fit(X_train_avg, y_train_avg)\n",
    "    print(\"lambda=\"+str(1/i)+\" ; non-zeros=\"+str(np.count_nonzero(lrr.coef_)))"
   ]
  },
  {
   "cell_type": "markdown",
   "metadata": {},
   "source": [
    "We can't check for multicollinearity for this vectorization technique as we don't have a single feature corresponding to a particular word. What we can do is just to extract most important features in the form of list."
   ]
  },
  {
   "cell_type": "code",
   "execution_count": 21,
   "metadata": {
    "collapsed": false
   },
   "outputs": [
    {
     "name": "stdout",
     "output_type": "stream",
     "text": [
      "Negative Words are:\n",
      " [-0.35828592 -0.00234891 -0.53356032  0.40707522 -0.40661463  0.63081045\n",
      " -0.05944975  0.35367625  0.06797562 -0.34554349]\n",
      "\n",
      "Positive Words are:\n",
      " [ 0.26721088  0.25417123 -0.08651268  0.79004333 -0.16602407  0.26591486\n",
      "  0.22550936 -0.36188176  0.54934199  0.30923101]\n"
     ]
    }
   ],
   "source": [
    "# Taking values for probabilities for Average-W2V\n",
    "\n",
    "prob_score = lr.coef_\n",
    "\n",
    "probs = prob_score.argsort()\n",
    "\n",
    "# Taking words with Maximum Probabilities for negative and positive labels\n",
    "neg_words = np.take(sent_vectors, probs[0][:10])\n",
    "pos_words = np.take(sent_vectors, probs[0][-10:])\n",
    "\n",
    "print(\"Negative Words are:\\n\" , neg_words, end='\\n\\n')\n",
    "print(\"Positive Words are:\\n\" , pos_words)"
   ]
  },
  {
   "cell_type": "markdown",
   "metadata": {},
   "source": [
    "### 4.2 TF-IDF Weighted Word2Vec"
   ]
  },
  {
   "cell_type": "code",
   "execution_count": 24,
   "metadata": {
    "collapsed": false
   },
   "outputs": [
    {
     "name": "stdout",
     "output_type": "stream",
     "text": [
      "70000\n",
      "50\n"
     ]
    }
   ],
   "source": [
    "# TF-IDF weighted Word2Vec\n",
    "tfidf_feat = tf_idf_vect.get_feature_names() # tfidf words/col-names\n",
    "\n",
    "tfidf_sent_vectors = []; # the tfidf-w2v for each sentence/review is stored in this list\n",
    "row=0;\n",
    "for sent in list_of_sent: # for each review/sentence \n",
    "    sent_vec = np.zeros(50) # as word vectors are of zero length\n",
    "    weight_sum =0; # num of words with a valid vector in the sentence/review\n",
    "    for word in sent: # for each word in a review/sentence\n",
    "        if word in w2v_words:\n",
    "            vec = w2v_model.wv[word]\n",
    "            # obtain the tf_idfidf of a word in a sentence/review\n",
    "            tf_idf = X_train_tf[row, tfidf_feat.index(word)]\n",
    "            sent_vec += (vec * tf_idf)\n",
    "            weight_sum += tf_idf\n",
    "    if weight_sum != 0:\n",
    "        sent_vec /= weight_sum\n",
    "    tfidf_sent_vectors.append(sent_vec)\n",
    "    row += 1\n",
    "    \n",
    "print(len(tfidf_sent_vectors))\n",
    "print(len(tfidf_sent_vectors[0]))"
   ]
  },
  {
   "cell_type": "code",
   "execution_count": 25,
   "metadata": {
    "collapsed": false
   },
   "outputs": [
    {
     "name": "stdout",
     "output_type": "stream",
     "text": [
      "30000\n",
      "50\n"
     ]
    }
   ],
   "source": [
    "list_of_sent_tst=[]\n",
    "for sent in X_test:\n",
    "    list_of_sent_tst.append(sent.split())\n",
    "\n",
    "tfidf_sent_vectors_tst=[]\n",
    "row=0\n",
    "for sent in list_of_sent_tst: # for each review/sentence \n",
    "    sent_vec = np.zeros(50) # as word vectors are of zero length\n",
    "    weight_sum =0; # num of words with a valid vector in the sentence/review\n",
    "    for word in sent: # for each word in a review/sentence\n",
    "        if word in w2v_words:\n",
    "            vec = w2v_model.wv[word]\n",
    "            # obtain the tf_idfidf of a word in a sentence/review\n",
    "            tf_idf = X_test_tf[row, tfidf_feat.index(word)]\n",
    "            sent_vec += (vec * tf_idf)\n",
    "            weight_sum += tf_idf\n",
    "    if weight_sum != 0:\n",
    "        sent_vec /= weight_sum\n",
    "    tfidf_sent_vectors_tst.append(sent_vec)\n",
    "    row += 1\n",
    "    \n",
    "print(len(tfidf_sent_vectors_tst))\n",
    "print(len(tfidf_sent_vectors_tst[0]))"
   ]
  },
  {
   "cell_type": "code",
   "execution_count": 26,
   "metadata": {
    "collapsed": false
   },
   "outputs": [
    {
     "name": "stdout",
     "output_type": "stream",
     "text": [
      "Length of X_train : 70000\n",
      "Length of X_test : 30000\n"
     ]
    }
   ],
   "source": [
    "X_train_w2v = tfidf_sent_vectors\n",
    "X_test_w2v = tfidf_sent_vectors_tst\n",
    "y_train_w2v = y_train\n",
    "y_test_w2v = y_test\n",
    "\n",
    "print(\"Length of X_train :\",len(X_train_w2v))\n",
    "print(\"Length of X_test :\",len(X_test_w2v))"
   ]
  },
  {
   "cell_type": "code",
   "execution_count": 27,
   "metadata": {
    "collapsed": true
   },
   "outputs": [],
   "source": [
    "# Converting 'Positive' and 'Negative' into True and False\n",
    "\n",
    "y_train_w2v = y_train_w2v == 'Positive'\n",
    "y_test_w2v = y_test_w2v == 'Positive'"
   ]
  },
  {
   "cell_type": "markdown",
   "metadata": {},
   "source": [
    "### 4.2.1 Grid Seach CV for Optimal λ (C) and Penalty (among L1 and L2)"
   ]
  },
  {
   "cell_type": "code",
   "execution_count": 29,
   "metadata": {
    "collapsed": false
   },
   "outputs": [
    {
     "name": "stdout",
     "output_type": "stream",
     "text": [
      "************************************************************************\n",
      "\n",
      "Using L1 regularization-\n",
      "\n",
      "LogisticRegression(C=100, class_weight=None, dual=False, fit_intercept=True,\n",
      "          intercept_scaling=1, max_iter=100, multi_class='ovr', n_jobs=1,\n",
      "          penalty='l1', random_state=None, solver='liblinear', tol=0.0001,\n",
      "          verbose=0, warm_start=False)\n",
      "\n",
      "Optimal F-score: 0.94\n",
      "\n",
      "\n",
      "************************************************************************\n",
      "\n",
      "\n",
      "Using L2 regularization-\n",
      "\n",
      "LogisticRegression(C=1, class_weight=None, dual=False, fit_intercept=True,\n",
      "          intercept_scaling=1, max_iter=100, multi_class='ovr', n_jobs=1,\n",
      "          penalty='l2', random_state=None, solver='liblinear', tol=0.0001,\n",
      "          verbose=0, warm_start=False)\n",
      "Optimal F-score: 0.94\n",
      "\n",
      "\n",
      "************************************************************************\n"
     ]
    }
   ],
   "source": [
    "# Finding the best parameters using Random Seach CV\n",
    "\n",
    "from sklearn.model_selection import GridSearchCV\n",
    "\n",
    "tuned_parameters = {'C': [10**-4, 10**-2, 1, 10**2, 10**4]}\n",
    "                   \n",
    "gridmodel1 = GridSearchCV(LogisticRegression(penalty='l1'), tuned_parameters, scoring = 'f1', cv=2)\n",
    "gridmodel1.fit(X_train_w2v, y_train_w2v)\n",
    "\n",
    "gridmodel2 = GridSearchCV(LogisticRegression(penalty='l2'), tuned_parameters, scoring = 'f1', cv=2)\n",
    "gridmodel2.fit(X_train_w2v, y_train_w2v)\n",
    "\n",
    "print(\"************************************************************************\")\n",
    "print(\"\\nUsing L1 regularization-\\n\")\n",
    "print(gridmodel1.best_estimator_)\n",
    "print(\"\\nOptimal F-score: {:.2f}\".format(gridmodel1.score(X_test_w2v, y_test_w2v)))\n",
    "print('\\n')\n",
    "print(\"************************************************************************\")\n",
    "print('\\n')\n",
    "print(\"Using L2 regularization-\\n\")\n",
    "print(gridmodel2.best_estimator_)\n",
    "print(\"Optimal F-score: {:.2f}\".format(gridmodel2.score(X_test_w2v, y_test_w2v)))\n",
    "print('\\n')\n",
    "print(\"************************************************************************\")"
   ]
  },
  {
   "cell_type": "markdown",
   "metadata": {},
   "source": [
    "### 4.1.2 Random Seach CV for Optimal λ (C) and Penalty (among L1 and L2)"
   ]
  },
  {
   "cell_type": "code",
   "execution_count": 30,
   "metadata": {
    "collapsed": false
   },
   "outputs": [
    {
     "name": "stdout",
     "output_type": "stream",
     "text": [
      "************************************************************************\n",
      "\n",
      "Using L1 regularization-\n",
      "\n",
      "LogisticRegression(C=10, class_weight=None, dual=False, fit_intercept=True,\n",
      "          intercept_scaling=1, max_iter=100, multi_class='ovr', n_jobs=1,\n",
      "          penalty='l1', random_state=None, solver='liblinear', tol=0.0001,\n",
      "          verbose=0, warm_start=False)\n",
      "\n",
      "Optimal F-score: 0.94\n",
      "\n",
      "\n",
      "************************************************************************\n",
      "\n",
      "\n",
      "Using L2 regularization- \n",
      "LogisticRegression(C=1, class_weight=None, dual=False, fit_intercept=True,\n",
      "          intercept_scaling=1, max_iter=100, multi_class='ovr', n_jobs=1,\n",
      "          penalty='l2', random_state=None, solver='liblinear', tol=0.0001,\n",
      "          verbose=0, warm_start=False)\n",
      "\n",
      "Optimal F-score: 0.94\n",
      "\n",
      "\n",
      "************************************************************************\n"
     ]
    }
   ],
   "source": [
    "# Finding the best parameters using Random Seach CV\n",
    "\n",
    "from sklearn.model_selection import RandomizedSearchCV\n",
    "\n",
    "random_parameters = {'C': [10**-4, 10**-3, 10**-2, 0.1, 1, 10, 10**2, 10**3 , 10**4]}\n",
    "                   \n",
    "randommodel1 = RandomizedSearchCV(LogisticRegression(penalty='l1'), random_parameters, scoring = 'f1', cv=2, n_iter=4)\n",
    "randommodel1.fit(X_train_w2v, y_train_w2v)\n",
    "\n",
    "randommodel2 = RandomizedSearchCV(LogisticRegression(penalty='l2'), random_parameters, scoring = 'f1', cv=2, n_iter=4)\n",
    "randommodel2.fit(X_train_w2v, y_train_w2v)\n",
    "\n",
    "print(\"************************************************************************\")\n",
    "print(\"\\nUsing L1 regularization-\\n\")\n",
    "print(randommodel1.best_estimator_)\n",
    "print(\"\\nOptimal F-score: {:.2f}\".format(randommodel1.score(X_test_w2v, y_test_w2v)))\n",
    "print('\\n')\n",
    "print(\"************************************************************************\")\n",
    "print('\\n')\n",
    "print(\"Using L2 regularization- \")\n",
    "print(randommodel2.best_estimator_)\n",
    "print(\"\\nOptimal F-score: {:.2f}\".format(randommodel2.score(X_test_w2v, y_test_w2v)))\n",
    "print('\\n')\n",
    "print(\"************************************************************************\")"
   ]
  },
  {
   "cell_type": "markdown",
   "metadata": {},
   "source": [
    "Here we got exactly the same value of F-Score everytime, both for L1 and L2 regularization. We will take optimal model as L2 regularization for C=10000\n",
    "\n",
    "### 4.2.3 Fitting the best model and calculating different performance metrics"
   ]
  },
  {
   "cell_type": "code",
   "execution_count": 31,
   "metadata": {
    "collapsed": false
   },
   "outputs": [
    {
     "name": "stdout",
     "output_type": "stream",
     "text": [
      "Confusion Matrix:\n"
     ]
    },
    {
     "data": {
      "image/png": "[encoded data removed]",
      "text/plain": [
       "<Figure size 432x288 with 2 Axes>"
      ]
     },
     "metadata": {},
     "output_type": "display_data"
    },
    {
     "name": "stdout",
     "output_type": "stream",
     "text": [
      "TPR for the model on test data is 0.98\n",
      "FPR for the model on test data is 0.73\n",
      "TNR for the model on test data is 0.27\n",
      "FNR for the model on test data is 0.02\n",
      "\n"
     ]
    }
   ],
   "source": [
    "# Fitting the best model\n",
    "\n",
    "lr = LogisticRegression(penalty='l2', C=1)\n",
    "lr.fit(X_train_w2v, y_train_w2v)\n",
    "y_pred_w2v = lr.predict(X_test_w2v)\n",
    "\n",
    "# Generating the confusion matrix\n",
    "cm_w2v = confusion_matrix(y_test_w2v , y_pred_w2v)\n",
    "print(\"Confusion Matrix:\")\n",
    "sns.heatmap(cm_w2v, annot=True, fmt='d')\n",
    "plt.show()\n",
    "\n",
    "# calculating TPR, FPR, TNR, FNR\n",
    "\n",
    "tn, fp, fn, tp = cm_w2v.ravel()\n",
    "\n",
    "tnr_w2v = tn/(tn+fp)\n",
    "fpr_w2v = fp/(tn+fp)\n",
    "fnr_w2v = fn/(fn+tp)\n",
    "tpr_w2v = tp/(fn+tp)\n",
    "\n",
    "print(\"TPR for the model on test data is {:.2f}\".format(tpr_w2v))\n",
    "print(\"FPR for the model on test data is {:.2f}\".format(fpr_w2v))\n",
    "print(\"TNR for the model on test data is {:.2f}\".format(tnr_w2v))\n",
    "print(\"FNR for the model on test data is {:.2f}\\n\".format(fnr_w2v))"
   ]
  },
  {
   "cell_type": "code",
   "execution_count": 32,
   "metadata": {
    "collapsed": false
   },
   "outputs": [
    {
     "name": "stdout",
     "output_type": "stream",
     "text": [
      "Accuracy score for the model on test data is 0.88\n",
      "Precision score for the model on test data is 0.90\n",
      "Recall score for the model on test data is 0.98\n",
      "F1 score for the model on test data is 0.94\n",
      "\n"
     ]
    }
   ],
   "source": [
    "# calculating accuracy, precision and recall \n",
    "\n",
    "accuracy_w2v = accuracy_score(y_test_w2v , y_pred_w2v)\n",
    "precision_w2v = precision_score(y_test_w2v , y_pred_w2v)\n",
    "recall_w2v = recall_score(y_test_w2v , y_pred_w2v)\n",
    "f1_w2v = f1_score(y_test_w2v , y_pred_w2v)\n",
    "\n",
    "print(\"Accuracy score for the model on test data is {:.2f}\".format(accuracy_w2v))\n",
    "print(\"Precision score for the model on test data is {:.2f}\".format(precision_w2v))\n",
    "print(\"Recall score for the model on test data is {:.2f}\".format(recall_w2v))\n",
    "print(\"F1 score for the model on test data is {:.2f}\\n\".format(f1_w2v))"
   ]
  },
  {
   "cell_type": "markdown",
   "metadata": {},
   "source": [
    "### 4.2.4 Checking for sparsity with increasing value of  λ (decreasing C)"
   ]
  },
  {
   "cell_type": "code",
   "execution_count": 33,
   "metadata": {
    "collapsed": false
   },
   "outputs": [
    {
     "name": "stdout",
     "output_type": "stream",
     "text": [
      "lambda=0.0001 ; non-zeros=50\n",
      "lambda=0.001 ; non-zeros=50\n",
      "lambda=0.01 ; non-zeros=50\n",
      "lambda=0.1 ; non-zeros=50\n",
      "lambda=1.0 ; non-zeros=50\n",
      "lambda=10.0 ; non-zeros=49\n",
      "lambda=100.0 ; non-zeros=34\n",
      "lambda=1000.0 ; non-zeros=9\n",
      "lambda=10000.0 ; non-zeros=0\n"
     ]
    }
   ],
   "source": [
    "lambd = [0.0001, 0.001, 0.01, 0.1, 1, 10, 100, 1000, 10000]\n",
    "for i in lambd[::-1]:\n",
    "    lrr = LogisticRegression(penalty = 'l1', C = i)\n",
    "    lrr.fit(X_train_w2v, y_train_w2v)\n",
    "    print(\"lambda=\"+str(1/i)+\" ; non-zeros=\"+str(np.count_nonzero(lrr.coef_)))"
   ]
  },
  {
   "cell_type": "markdown",
   "metadata": {},
   "source": [
    "Again, we can't check for multicollinearity for this vectorization technique as we don't have any feature corresponding to a particular word.  What we can do is just to extract most important features in the form of list."
   ]
  },
  {
   "cell_type": "code",
   "execution_count": 34,
   "metadata": {
    "collapsed": false
   },
   "outputs": [
    {
     "name": "stdout",
     "output_type": "stream",
     "text": [
      "Negative Words are:\n",
      " [-0.16725518  0.47582129 -0.0032757   0.70867107  0.34610551  0.05484068\n",
      " -0.71122109  0.13882007 -1.10426409 -1.70038425]\n",
      "\n",
      "Positive Words are:\n",
      " [-0.86806124 -0.03538375  0.03252355  1.52272252  0.19294682 -0.48993716\n",
      "  0.28793287  0.72952546  0.43488519 -0.54336549]\n"
     ]
    }
   ],
   "source": [
    "# Taking values for probabilities for Average-W2V\n",
    "\n",
    "prob_score = lr.predict_log_proba(X_train_w2v)\n",
    "\n",
    "neg_bow = prob_score[:,0].argsort()\n",
    "pos_bow = prob_score[:,1].argsort()\n",
    "\n",
    "# Taking words with Maximum Probabilities for negative and positive labels\n",
    "neg_words = np.take(tfidf_sent_vectors, neg_bow[-10:])\n",
    "pos_words = np.take(tfidf_sent_vectors, pos_bow[-10:])\n",
    "\n",
    "print(\"Negative Words are:\\n\" , neg_words, end='\\n\\n')\n",
    "print(\"Positive Words are:\\n\" , pos_words)"
   ]
  },
  {
   "cell_type": "markdown",
   "metadata": {},
   "source": [
    "# 5.0 Conclusion"
   ]
  },
  {
   "cell_type": "markdown",
   "metadata": {},
   "source": [
    "Logistic regression was successfully applied on all the text-processing techniques.\n",
    "\n",
    "In order to accomplish this task, 4 types of Text processing techniques were applied. First the optimal value of lambda was estimated using grid-search and then the model was fit using the value of optimal lambda.\n",
    "\n",
    "Post successful fitting of the model, the polarity (labels) on the test dataset was estimated using the model and was checked against the true polarity. Based on this, Accuracy, Precision-Score, Recall Score and F1-Score were calculated.\n",
    "\n",
    "The values of all the parameters are tabulated in the following table-\n",
    "\n",
    "\n",
    "\n",
    "<html>\n",
    "<head>\n",
    "\n",
    "<style>\n",
    "table {\n",
    "    font-family: arial, sans-serif;\n",
    "    border-collapse: collapse;\n",
    "    width: 100%;\n",
    "}\n",
    "\n",
    "td, th {\n",
    "    border: 1px solid #dddddd;\n",
    "    text-align: left;\n",
    "    padding: 8px;\n",
    "}\n",
    "    \n",
    "tr:nth-child(even) {\n",
    "    background-color: #dddddd;\n",
    "}\n",
    "</style>\n",
    "</head>\n",
    "<body>\n",
    "\n",
    "<h2>Table 5.1: Values of different parameters with Model</h2>\n",
    "\n",
    "<table>\n",
    "  <tr>\n",
    "    <th>Model</th>\n",
    "    <th>Cross-Validation Technique</th>\n",
    "    <th>Regularization</th>\n",
    "    <th>Best C</th>\n",
    "    <th>Best λ=(1/C)</th>\n",
    "    <th>F1 Score</th>\n",
    "  </tr>\n",
    "  <tr>\n",
    "    <td>Bag-of-Words</td>\n",
    "    <td>GridSearchCV</td>\n",
    "    <td>L1</td>\n",
    "    <td>0.01</td>\n",
    "    <td>100</td>\n",
    "    <td>0.95</td>\n",
    "  </tr>\n",
    "  <tr>\n",
    "    <td>Bag-of-Words</td>\n",
    "    <td>GridSearchCV</td>\n",
    "    <td>L2</td>\n",
    "    <td>0.01</td>\n",
    "    <td>100</td>\n",
    "    <td>0.95</td>\n",
    "  </tr>\n",
    "  <tr>\n",
    "      <td>Bag-of-Words</td>\n",
    "    <td>RandomSearchCV</td>\n",
    "    <td>L1</td>\n",
    "    <td>1</td>\n",
    "    <td>1</td>\n",
    "    <td>0.93</td>\n",
    "   </tr>\n",
    "  <tr>\n",
    "      <td>Bag-of-Words</td>\n",
    "    <td>RandomSearchCV</td>\n",
    "    <td>L2</td>\n",
    "    <td>0.1</td>\n",
    "    <td>10</td>\n",
    "    <td>0.94</td>\n",
    "  </tr>\n",
    "  <tr>\n",
    "    <td>TF-IDF</td>\n",
    "    <td>GridSearchCV</td>\n",
    "    <td>L1</td>\n",
    "    <td>100</td>\n",
    "    <td>0.01</td>\n",
    "    <td>0.95</td>\n",
    "  </tr>\n",
    "  <tr>\n",
    "      <td>TF-IDF</td>\n",
    "    <td>GridSearchCV</td>\n",
    "    <td>L2</td>\n",
    "    <td>0.01</td>\n",
    "    <td>100</td>\n",
    "    <td>0.95</td>\n",
    "  </tr>\n",
    "  <tr>\n",
    "    <td>TF-IDF</td>\n",
    "    <td>RandomSearchCV</td>\n",
    "    <td>L1</td>\n",
    "    <td>1</td>\n",
    "    <td>1</td>\n",
    "    <td>0.93</td>\n",
    "   </tr>\n",
    "  <tr>\n",
    "      <td>TF-IDF</td>\n",
    "    <td>RandomSearchCV</td>\n",
    "    <td>L2</td>\n",
    "    <td>100</td>\n",
    "    <td>0.01</td>\n",
    "    <td>0.94</td>\n",
    "  </tr>\n",
    "  <tr>\n",
    "    <td>Average W2V</td>\n",
    "    <td>GridSearchCV</td>\n",
    "    <td>L1</td>\n",
    "    <td>1</td>\n",
    "    <td>1</td>\n",
    "    <td>0.96</td>\n",
    "  </tr>\n",
    "  <tr>\n",
    "      <td>Average W2V</td>\n",
    "    <td>GridSearchCV</td>\n",
    "    <td>L2</td>\n",
    "    <td>1</td>\n",
    "    <td>1</td>\n",
    "    <td>0.96</td>\n",
    "  </tr>\n",
    "  <tr>\n",
    "    <td>Average W2V</td>\n",
    "    <td>RandomSearchCV</td>\n",
    "    <td>L1</td>\n",
    "    <td>1</td>\n",
    "    <td>1</td>\n",
    "    <td>0.96</td>\n",
    "   </tr>\n",
    "  <tr>\n",
    "      <td>Average W2V</td>\n",
    "    <td>RandomSearchCV</td>\n",
    "    <td>L2</td>\n",
    "    <td>10</td>\n",
    "    <td>0.1</td>\n",
    "    <td>0.96</td>\n",
    "  </tr>\n",
    "  <tr>\n",
    "    <td>Weighted W2V</td>\n",
    "    <td>GridSearchCV</td>\n",
    "    <td>L1</td>\n",
    "    <td>100</td>\n",
    "    <td>0.01</td>\n",
    "    <td>0.94</td>\n",
    "  </tr>\n",
    "  <tr>\n",
    "      <td>Weighted W2V</td>\n",
    "    <td>GridSearchCV</td>\n",
    "    <td>L2</td>\n",
    "    <td>1</td>\n",
    "    <td>1</td>\n",
    "    <td>0.94</td>\n",
    "  </tr>\n",
    "  <tr>\n",
    "      <td>Weighted W2V</td>\n",
    "      <td>RandomSearchCV</td>\n",
    "    <td>L1</td>\n",
    "    <td>10</td>\n",
    "    <td>0.1</td>\n",
    "    <td>0.94</td>\n",
    "   </tr>\n",
    "  <tr>\n",
    "      <td>Weighted W2V</td>\n",
    "      <td>RandomSearchCV</td>\n",
    "    <td>L2</td>\n",
    "    <td>10</td>\n",
    "    <td>0.1</td>\n",
    "    <td>0.94</td>\n",
    "  </tr> \n",
    "</table>\n",
    "\n",
    "\n",
    "\n",
    "\n",
    "<h2>Table 5.2: Test Metrics</h2>\n",
    "\n",
    "<table>\n",
    "  <tr>\n",
    "    <th>Model</th>\n",
    "    <th>λ=(1/C)</th>\n",
    "    <th>Penalty</th>\n",
    "    <th>Test Accuracy</th>\n",
    "    <th>Precision Score</th>\n",
    "    <th>Recall Score</th>\n",
    "    <th>F1 Score</th>\n",
    "  </tr>\n",
    "  <tr>\n",
    "    <td>Bag-of-Words</td>\n",
    "    <td>100</td>\n",
    "    <td>L2</td>\n",
    "    <td>91 %</td>\n",
    "    <td>0.94</td>\n",
    "    <td>0.95</td>\n",
    "    <td>0.96</td>\n",
    "  </tr>\n",
    "  <tr>\n",
    "    <td>TF-IDF</td>\n",
    "    <td>0.1</td>\n",
    "    <td>L2</td>\n",
    "    <td>92 %</td>\n",
    "    <td>0.94</td>\n",
    "    <td>0.97</td>\n",
    "    <td>0.96</td>\n",
    "  </tr>\n",
    "  <tr>\n",
    "    <td>Average W2V</td>\n",
    "    <td>1</td>\n",
    "    <td>L1</td>\n",
    "    <td>89 %</td>\n",
    "    <td>0.91</td>\n",
    "    <td>0.98</td>\n",
    "    <td>0.94</td>\n",
    "  </tr>\n",
    "  <tr>\n",
    "    <td>Weighted W2V</td>\n",
    "    <td>1</td>\n",
    "    <td>L2</td>\n",
    "    <td>88 %</td>\n",
    "    <td>0.90</td>\n",
    "    <td>0.98</td>\n",
    "    <td>0.94</td>\n",
    "  </tr>\n",
    "</table>\n",
    "\n",
    "</body>\n",
    "</html>\n",
    "\n",
    "So, from the table data we can conclude that Grid-Search and Random-Search result in almost similar outcomes. \n",
    "\n",
    "Also, the sparsity increases (non-zeros decrease) with increasing values of λ."
   ]
  },
  {
   "cell_type": "code",
   "execution_count": null,
   "metadata": {
    "collapsed": true
   },
   "outputs": [],
   "source": []
  },
  {
   "cell_type": "code",
   "execution_count": null,
   "metadata": {
    "collapsed": true
   },
   "outputs": [],
   "source": []
  }
 ],
 "metadata": {
  "kernelspec": {
   "display_name": "Python 3",
   "language": "python",
   "name": "python3"
  },
  "language_info": {
   "codemirror_mode": {
    "name": "ipython",
    "version": 3
   },
   "file_extension": ".py",
   "mimetype": "text/x-python",
   "name": "python",
   "nbconvert_exporter": "python",
   "pygments_lexer": "ipython3",
   "version": "3.5.2"
  },
  "widgets": {
   "state": {},
   "version": "1.1.2"
  }
 },
 "nbformat": 4,
 "nbformat_minor": 2
}
