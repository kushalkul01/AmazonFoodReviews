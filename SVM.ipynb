{
 "cells": [
  {
   "cell_type": "code",
   "execution_count": 2,
   "metadata": {
    "collapsed": false
   },
   "outputs": [
    {
     "name": "stderr",
     "output_type": "stream",
     "text": [
      "/usr/local/lib/python3.5/dist-packages/sklearn/cross_validation.py:41: DeprecationWarning: This module was deprecated in version 0.18 in favor of the model_selection module into which all the refactored classes and functions are moved. Also note that the interface of the new CV iterators are different from that of this module. This module will be removed in 0.20.\n",
      "  \"This module will be removed in 0.20.\", DeprecationWarning)\n"
     ]
    }
   ],
   "source": [
    "import sqlite3\n",
    "import pandas as pd\n",
    "import numpy as np\n",
    "import matplotlib.pyplot as plt\n",
    "import seaborn as sns\n",
    "from sklearn.svm import SVC\n",
    "from sklearn.metrics import precision_score, recall_score, f1_score, confusion_matrix, accuracy_score\n",
    "from sklearn.cross_validation import cross_val_score\n",
    "from collections import Counter\n",
    "from sklearn import cross_validation\n",
    "import warnings\n",
    "warnings.filterwarnings('ignore')\n",
    "% matplotlib inline "
   ]
  },
  {
   "cell_type": "markdown",
   "metadata": {},
   "source": [
    "# 1.0 Data Preprocessing"
   ]
  },
  {
   "cell_type": "code",
   "execution_count": 3,
   "metadata": {
    "collapsed": false
   },
   "outputs": [
    {
     "data": {
      "text/plain": [
       "(364171, 11)"
      ]
     },
     "execution_count": 3,
     "metadata": {},
     "output_type": "execute_result"
    }
   ],
   "source": [
    "# I did this on IBM cloud where file size limit was 256 MB. Hence I removed duplicates.\n",
    "# Also, the score has been turned into binary class- Positive and Negative\n",
    "\n",
    "con = sqlite3.connect(r\"/resources/data/samples/Amazon_Fine_Food/final.sqlite\")\n",
    "filtered_data = pd.read_sql_query(\"\"\"\n",
    "SELECT *\n",
    "FROM Reviews\n",
    "\"\"\", con)\n",
    "filtered_data.shape"
   ]
  },
  {
   "cell_type": "code",
   "execution_count": 4,
   "metadata": {
    "collapsed": false
   },
   "outputs": [
    {
     "data": {
      "text/plain": [
       "Positive    8868\n",
       "Negative    1132\n",
       "Name: Score, dtype: int64"
      ]
     },
     "execution_count": 4,
     "metadata": {},
     "output_type": "execute_result"
    }
   ],
   "source": [
    "# Taking first 100,000 points for analysis\n",
    "\n",
    "filtered_data = filtered_data.sort_values(by=['Time'])\n",
    "final = filtered_data[:10000]\n",
    "final.Score.value_counts()"
   ]
  },
  {
   "cell_type": "code",
   "execution_count": 5,
   "metadata": {
    "collapsed": false
   },
   "outputs": [
    {
     "name": "stdout",
     "output_type": "stream",
     "text": [
      "[nltk_data] Downloading package stopwords to\n",
      "[nltk_data]     /home/notebook/nltk_data...\n",
      "[nltk_data]   Package stopwords is already up-to-date!\n"
     ]
    }
   ],
   "source": [
    "import re\n",
    "import string\n",
    "import nltk\n",
    "nltk.download('stopwords')\n",
    "from nltk.corpus import stopwords\n",
    "from nltk.stem.wordnet import WordNetLemmatizer\n",
    "from nltk.stem import SnowballStemmer\n",
    "\n",
    "i=0;\n",
    "for sent in final['Text'].values:\n",
    "    if (len(re.findall('<.*?>', sent))):\n",
    "        #print(i)\n",
    "        #print(sent)\n",
    "        break;\n",
    "    i += 1;    \n",
    "\n",
    "def cleanhtml(sentence): #function to clean the word of any html-tags\n",
    "    cleanr = re.compile('<.*?>')\n",
    "    cleantext = re.sub(cleanr, ' ', sentence)\n",
    "    return cleantext\n",
    "\n",
    "stop = set(stopwords.words('english')) #set of stopwords\n",
    "sno = SnowballStemmer('english') #initialising the snowball stemmer\n",
    "\n",
    "def cleanpunc(sentence): #function to clean the word of any punctuation or special characters\n",
    "    cleaned = re.sub(r'[?|!|\\'|\"|#]',r'',sentence)\n",
    "    cleaned = re.sub(r'[.|,|)|(|\\|/]',r' ',cleaned)\n",
    "    return  cleaned"
   ]
  },
  {
   "cell_type": "code",
   "execution_count": 6,
   "metadata": {
    "collapsed": true
   },
   "outputs": [],
   "source": [
    "i=0\n",
    "str1=' '\n",
    "final_string=[]\n",
    "all_positive_words=[] # store words from +ve reviews here\n",
    "all_negative_words=[] # store words from -ve reviews here.\n",
    "s=''\n",
    "for sent in final['Text'].values:\n",
    "    filtered_sentence=[]\n",
    "    #print(sent);\n",
    "    sent=cleanhtml(sent) # remove HTMl tags\n",
    "    for w in sent.split():\n",
    "        for cleaned_words in cleanpunc(w).split():\n",
    "            if((cleaned_words.isalpha()) & (len(cleaned_words)>2)):    \n",
    "                if(cleaned_words.lower() not in stop):\n",
    "                    s=(sno.stem(cleaned_words.lower())).encode('utf8')\n",
    "                    filtered_sentence.append(s)\n",
    "                    if (final['Score'].values)[i] == 'Positive': \n",
    "                        all_positive_words.append(s) #list of all words used to describe positive reviews\n",
    "                    if(final['Score'].values)[i] == 'Negative':\n",
    "                        all_negative_words.append(s) #list of all words used to describe negative reviews reviews\n",
    "                else:\n",
    "                    continue\n",
    "            else:\n",
    "                continue \n",
    "    #print(filtered_sentence)\n",
    "    str1 = b\" \".join(filtered_sentence) #final string of cleaned words\n",
    "    #print(\"***********************************************************************\")\n",
    "    \n",
    "    final_string.append(str1)\n",
    "    i+=1"
   ]
  },
  {
   "cell_type": "code",
   "execution_count": 7,
   "metadata": {
    "collapsed": true
   },
   "outputs": [],
   "source": [
    "final['CleanedText']=final_string #adding a column of CleanedText which displays the data after pre-processing of the review \n",
    "final['CleanedText']=final['CleanedText'].str.decode(\"utf-8\")"
   ]
  },
  {
   "cell_type": "code",
   "execution_count": 8,
   "metadata": {
    "collapsed": false
   },
   "outputs": [
    {
     "name": "stdout",
     "output_type": "stream",
     "text": [
      "Shape of y-vector is (10000,)\n"
     ]
    }
   ],
   "source": [
    "final = final.sort_values(by=['Time']) #Just to be double sure that dataframe is sorted according to time\n",
    "\n",
    "# Taking labels to make y-dimension\n",
    "labels=final['Score'].values\n",
    "\n",
    "# Checking the shape of labels\n",
    "print(\"Shape of y-vector is\",labels.shape)"
   ]
  },
  {
   "cell_type": "code",
   "execution_count": 9,
   "metadata": {
    "collapsed": true
   },
   "outputs": [],
   "source": [
    "# Taking initial 70% data as training data and remaining 30% as test data\n",
    "\n",
    "l = 0.7 * final.shape[0]\n",
    "X_train = final['CleanedText'][0:int(l)]\n",
    "X_test = final['CleanedText'][int(l):]\n",
    "y_train = labels[0:int(l)]\n",
    "y_test = labels[int(l):]"
   ]
  },
  {
   "cell_type": "markdown",
   "metadata": {},
   "source": [
    "# 2.0 Bag-of-Words Model"
   ]
  },
  {
   "cell_type": "code",
   "execution_count": 20,
   "metadata": {
    "collapsed": false
   },
   "outputs": [
    {
     "name": "stdout",
     "output_type": "stream",
     "text": [
      "The type of count vectorizer  <class 'scipy.sparse.csr.csr_matrix'>\n",
      "The shape of count vectorizer  (7000, 12680)\n"
     ]
    }
   ],
   "source": [
    "# Making the bag of words model\n",
    "# Fitting the model on Training data and transforming the test data on the fitted model\n",
    "# This helps in taking care of data leakage\n",
    "\n",
    "from sklearn.feature_extraction.text import CountVectorizer\n",
    "bow = CountVectorizer()\n",
    "X_train_bow = bow.fit_transform(X_train)\n",
    "X_test_bow = bow.transform(X_test)\n",
    "y_train_bow = y_train\n",
    "y_test_bow = y_test\n",
    "print(\"The type of count vectorizer \",type(X_train_bow))\n",
    "print(\"The shape of count vectorizer \",X_train_bow.get_shape())"
   ]
  },
  {
   "cell_type": "code",
   "execution_count": 11,
   "metadata": {
    "collapsed": true
   },
   "outputs": [],
   "source": [
    "# Normalizing the data\n",
    "\n",
    "from sklearn.preprocessing import StandardScaler\n",
    "ss = StandardScaler(with_mean=False)\n",
    "X_train_bow = ss.fit_transform(X_train_bow)\n",
    "X_test_bow = ss.transform(X_test_bow)"
   ]
  },
  {
   "cell_type": "code",
   "execution_count": 12,
   "metadata": {
    "collapsed": true
   },
   "outputs": [],
   "source": [
    "# Converting 'Positive' and 'Negative' into True and False\n",
    "\n",
    "y_train_bow = y_train_bow=='Positive'\n",
    "y_test_bow = y_test_bow=='Positive'"
   ]
  },
  {
   "cell_type": "markdown",
   "metadata": {},
   "source": [
    "Since such a dimensionality of the dataset is way too high for SVM, which is quite slow algorithm, we need to reduce the dimensionality of the dataset using TruncatedSVD."
   ]
  },
  {
   "cell_type": "code",
   "execution_count": 13,
   "metadata": {
    "collapsed": false
   },
   "outputs": [
    {
     "name": "stdout",
     "output_type": "stream",
     "text": [
      "Explained Variance = 0.12613330256233257\n"
     ]
    }
   ],
   "source": [
    "# Making a matrix using TruncatedSVD\n",
    "\n",
    "from sklearn.decomposition import TruncatedSVD\n",
    "svd = TruncatedSVD(n_components=50, n_iter=5, random_state=0)\n",
    "svd.fit(X_train_bow)\n",
    "print(\"Explained Variance = \"+str(svd.explained_variance_ratio_.sum()))"
   ]
  },
  {
   "cell_type": "code",
   "execution_count": 14,
   "metadata": {
    "collapsed": true
   },
   "outputs": [],
   "source": [
    "X_train_svd = svd.transform(X_train_bow)\n",
    "X_test_svd = svd.transform(X_test_bow)\n",
    "y_train_svd = y_train_bow\n",
    "y_test_svd = y_test_bow"
   ]
  },
  {
   "cell_type": "markdown",
   "metadata": {},
   "source": [
    "### 2.1 Grid Seach CV"
   ]
  },
  {
   "cell_type": "code",
   "execution_count": 15,
   "metadata": {
    "collapsed": false
   },
   "outputs": [
    {
     "name": "stdout",
     "output_type": "stream",
     "text": [
      "SVC(C=100, cache_size=200, class_weight=None, coef0=0.0,\n",
      "  decision_function_shape='ovr', degree=3, gamma=0.1, kernel='rbf',\n",
      "  max_iter=-1, probability=False, random_state=None, shrinking=True,\n",
      "  tol=0.001, verbose=False)\n",
      "Optimal F-score: 0.84\n"
     ]
    }
   ],
   "source": [
    "# Finding the best parameters using Grid Seach CV using 10-fold Cross-Validation in Logistic Regression\n",
    "\n",
    "from sklearn.model_selection import GridSearchCV\n",
    "\n",
    "tuned_parameters = {'C': [10**-4 , 10**-2, 1, 100, 10000, 100000] , \n",
    "                     'gamma' : [10**-8, 10**-7,  10**-6, 10**-5, 10**-4, 10**-3, 0.01, 0.1, 1, 10, 100, 1000] }\n",
    "\n",
    "gridmodel = GridSearchCV(SVC(kernel = 'rbf'), tuned_parameters, scoring = 'f1_weighted', cv=3, n_jobs=-1)\n",
    "gridmodel.fit(X_train_svd, y_train_svd)\n",
    "\n",
    "print(gridmodel.best_estimator_)\n",
    "print(\"Optimal F-score: {:.2f}\".format(gridmodel.score(X_test_svd, y_test_svd)))"
   ]
  },
  {
   "cell_type": "markdown",
   "metadata": {},
   "source": [
    "### 2.2 Randomized Search CV"
   ]
  },
  {
   "cell_type": "code",
   "execution_count": 19,
   "metadata": {
    "collapsed": false
   },
   "outputs": [
    {
     "name": "stdout",
     "output_type": "stream",
     "text": [
      "SVC(C=100000, cache_size=200, class_weight=None, coef0=0.0,\n",
      "  decision_function_shape='ovr', degree=3, gamma=1000, kernel='rbf',\n",
      "  max_iter=-1, probability=False, random_state=None, shrinking=True,\n",
      "  tol=0.001, verbose=False)\n",
      "Optimal F-score: 0.84\n"
     ]
    }
   ],
   "source": [
    "# Finding the best parameters using Random Seach CV\n",
    "\n",
    "from sklearn.model_selection import RandomizedSearchCV\n",
    "random_parameters =  {'C': [10**-4 , 10**-2, 1, 100, 10000, 100000] , \n",
    "                     'gamma' : [10**-8, 10**-7,  10**-6, 10**-5, 10**-4, 10**-3, 0.01, 0.1, 1, 10, 100, 1000] }\n",
    "\n",
    "randommodel = RandomizedSearchCV(SVC(kernel='rbf'), random_parameters, scoring = 'f1_weighted', cv=3, n_iter=20, n_jobs=-1)\n",
    "randommodel.fit(X_train_svd, y_train_svd)\n",
    "\n",
    "print(randommodel.best_estimator_)\n",
    "print(\"Optimal F-score: {:.2f}\".format(randommodel.score(X_test_svd, y_test_svd)))"
   ]
  },
  {
   "cell_type": "code",
   "execution_count": 21,
   "metadata": {
    "collapsed": false
   },
   "outputs": [
    {
     "name": "stdout",
     "output_type": "stream",
     "text": [
      "Confusion Matrix:\n"
     ]
    },
    {
     "data": {
      "image/png": "[encoded data removed]",
      "text/plain": [
       "<matplotlib.figure.Figure at 0x7f4f17214e48>"
      ]
     },
     "metadata": {},
     "output_type": "display_data"
    },
    {
     "name": "stdout",
     "output_type": "stream",
     "text": [
      "TPR for the model on test data is 0.95\n",
      "FPR for the model on test data is 0.89\n",
      "TNR for the model on test data is 0.11\n",
      "FNR for the model on test data is 0.05\n",
      "\n"
     ]
    }
   ],
   "source": [
    "# Fitting the best model\n",
    "\n",
    "model = SVC(kernel='rbf', C=100, gamma=0.1)\n",
    "model.fit(X_train_svd, y_train_svd)\n",
    "y_pred_bow = model.predict(X_test_svd)\n",
    "\n",
    "cm_bow=confusion_matrix(y_test_bow,y_pred_bow)\n",
    "print(\"Confusion Matrix:\")\n",
    "sns.heatmap(cm_bow, annot=True, fmt='d')\n",
    "plt.show()\n",
    "\n",
    "# calculating TPR, FPR, TNR, FNR\n",
    "\n",
    "tn, fp, fn, tp = cm_bow.ravel()\n",
    "\n",
    "tnr_bow = tn/(tn+fp)\n",
    "fpr_bow = fp/(tn+fp)\n",
    "fnr_bow = fn/(fn+tp)\n",
    "tpr_bow = tp/(fn+tp)\n",
    "\n",
    "print(\"TPR for the model on test data is {:.2f}\".format(tpr_bow))\n",
    "print(\"FPR for the model on test data is {:.2f}\".format(fpr_bow))\n",
    "print(\"TNR for the model on test data is {:.2f}\".format(tnr_bow))\n",
    "print(\"FNR for the model on test data is {:.2f}\\n\".format(fnr_bow))"
   ]
  },
  {
   "cell_type": "code",
   "execution_count": 22,
   "metadata": {
    "collapsed": false
   },
   "outputs": [
    {
     "name": "stdout",
     "output_type": "stream",
     "text": [
      "Accuracy score for the model on test data is 0.86\n",
      "Precision score for the model on test data is 0.90\n",
      "Recall score for the model on test data is 0.95\n",
      "F1 score for the model on test data is 0.92\n",
      "\n"
     ]
    }
   ],
   "source": [
    "# calculating precision and recall \n",
    "\n",
    "accuracy_bow = accuracy_score(y_test_bow , y_pred_bow)\n",
    "precision_bow = precision_score(y_test_bow , y_pred_bow)\n",
    "recall_bow = recall_score(y_test_bow , y_pred_bow)\n",
    "f1_bow = f1_score(y_test_bow , y_pred_bow)\n",
    "\n",
    "print(\"Accuracy score for the model on test data is {:.2f}\".format(accuracy_bow))\n",
    "print(\"Precision score for the model on test data is {:.2f}\".format(precision_bow))\n",
    "print(\"Recall score for the model on test data is {:.2f}\".format(recall_bow))\n",
    "print(\"F1 score for the model on test data is {:.2f}\\n\".format(f1_bow))"
   ]
  },
  {
   "cell_type": "markdown",
   "metadata": {},
   "source": [
    "Hence, the positive and negative words are clearly demarcated from the logistic regression\n",
    "\n",
    "# 3.0 TF-IDF Vectors"
   ]
  },
  {
   "cell_type": "code",
   "execution_count": 10,
   "metadata": {
    "collapsed": false
   },
   "outputs": [
    {
     "name": "stdout",
     "output_type": "stream",
     "text": [
      "The type of TF-IDF vectorizer  <class 'scipy.sparse.csr.csr_matrix'>\n",
      "The shape of TF-IDF vectorizer  (7000, 12680)\n"
     ]
    }
   ],
   "source": [
    "# importing the right libraries\n",
    "\n",
    "from sklearn.feature_extraction.text import TfidfTransformer\n",
    "from sklearn.feature_extraction.text import TfidfVectorizer\n",
    "\n",
    "\n",
    "# making tf-idf vector\n",
    "\n",
    "tf_idf_vect = TfidfVectorizer() # using ngram_range as (1,1) due to computation restrictions\n",
    "X_train_tf = tf_idf_vect.fit_transform(X_train)\n",
    "X_test_tf = tf_idf_vect.transform(X_test)\n",
    "y_train_tf = y_train\n",
    "y_test_tf = y_test\n",
    "\n",
    "print(\"The type of TF-IDF vectorizer \",type(X_train_tf))\n",
    "print(\"The shape of TF-IDF vectorizer \",X_train_tf.get_shape())"
   ]
  },
  {
   "cell_type": "code",
   "execution_count": 11,
   "metadata": {
    "collapsed": true
   },
   "outputs": [],
   "source": [
    "# Converting 'Positive' and 'Negative' into True and False\n",
    "\n",
    "y_train_tf = y_train_tf == 'Positive'\n",
    "y_test_tf = y_test_tf == 'Positive'"
   ]
  },
  {
   "cell_type": "code",
   "execution_count": 12,
   "metadata": {
    "collapsed": false
   },
   "outputs": [
    {
     "name": "stdout",
     "output_type": "stream",
     "text": [
      "Explained Variance = 0.15199904880781603\n"
     ]
    }
   ],
   "source": [
    "# Making a matrix using TruncatedSVD\n",
    "\n",
    "from sklearn.decomposition import TruncatedSVD\n",
    "svd = TruncatedSVD(n_components=50, n_iter=5, random_state=0)\n",
    "svd.fit(X_train_tf)\n",
    "print(\"Explained Variance = \"+str(svd.explained_variance_ratio_.sum()))"
   ]
  },
  {
   "cell_type": "code",
   "execution_count": 13,
   "metadata": {
    "collapsed": true
   },
   "outputs": [],
   "source": [
    "X_train_svd = svd.transform(X_train_tf)\n",
    "X_test_svd = svd.transform(X_test_tf)\n",
    "y_train_svd = y_train_tf\n",
    "y_test_svd = y_test_tf"
   ]
  },
  {
   "cell_type": "markdown",
   "metadata": {},
   "source": [
    "### 3.1 Grid Seach CV for Optimal C and gamma"
   ]
  },
  {
   "cell_type": "code",
   "execution_count": 13,
   "metadata": {
    "collapsed": false,
    "scrolled": true
   },
   "outputs": [
    {
     "name": "stdout",
     "output_type": "stream",
     "text": [
      "SVC(C=100, cache_size=200, class_weight=None, coef0=0.0,\n",
      "  decision_function_shape='ovr', degree=3, gamma=1, kernel='rbf',\n",
      "  max_iter=-1, probability=False, random_state=None, shrinking=True,\n",
      "  tol=0.001, verbose=False)\n",
      "\n",
      "Optimal F-score: 0.88\n"
     ]
    }
   ],
   "source": [
    "# Finding the best parameters using Random Seach CV\n",
    "\n",
    "from sklearn.model_selection import GridSearchCV\n",
    "                 \n",
    "tuned_parameters = {'C': [10**-4 , 10**-2, 1, 100, 10000, 100000] , \n",
    "                     'gamma' : [10**-8, 10**-7,  10**-6, 10**-5, 10**-4, 10**-3, 0.01, 0.1, 1, 10, 100, 1000] }\n",
    "\n",
    "gridmodel = GridSearchCV(SVC(kernel = 'rbf'), tuned_parameters, scoring = 'f1_weighted', cv=3, n_jobs=-1)\n",
    "gridmodel.fit(X_train_svd, y_train_svd)\n",
    "\n",
    "print(gridmodel.best_estimator_)\n",
    "print(\"\\nOptimal F-score: {:.2f}\".format(gridmodel.score(X_test_svd, y_test_svd)))"
   ]
  },
  {
   "cell_type": "markdown",
   "metadata": {},
   "source": [
    "### 3.2 Random Seach CV for Optimal λ (C) and Penalty (among L1 and L2)"
   ]
  },
  {
   "cell_type": "code",
   "execution_count": 14,
   "metadata": {
    "collapsed": false
   },
   "outputs": [
    {
     "name": "stdout",
     "output_type": "stream",
     "text": [
      "SVC(C=1000, cache_size=200, class_weight=None, coef0=0.0,\n",
      "  decision_function_shape='ovr', degree=3, gamma=100, kernel='rbf',\n",
      "  max_iter=-1, probability=False, random_state=None, shrinking=True,\n",
      "  tol=0.001, verbose=False)\n",
      "Optimal F-score: 0.85\n"
     ]
    }
   ],
   "source": [
    "# Finding the best parameters using Random Seach CV\n",
    "\n",
    "from sklearn.model_selection import RandomizedSearchCV\n",
    "random_parameters =  {'C': [10**-4,10**-3,10**-2,10**-1, 1, 10, 100, 1000, 10000] , \n",
    "                     'gamma' : [10**-8, 10**-7, 10**-6,10**-5,10**-4,10**-3, 0.001, 0.01, 0.1, 1, 10, 100] }\n",
    "\n",
    "randommodel = RandomizedSearchCV(SVC(kernel='rbf'), random_parameters, scoring = 'f1_weighted', cv=3, n_iter=10, n_jobs=-1)\n",
    "randommodel.fit(X_train_svd, y_train_svd)\n",
    "\n",
    "print(randommodel.best_estimator_)\n",
    "print(\"Optimal F-score: {:.2f}\".format(randommodel.score(X_test_svd, y_test_svd)))"
   ]
  },
  {
   "cell_type": "markdown",
   "metadata": {},
   "source": [
    "### 3.3 Fitting the best model and calculating different performance metrics"
   ]
  },
  {
   "cell_type": "code",
   "execution_count": 15,
   "metadata": {
    "collapsed": false
   },
   "outputs": [
    {
     "name": "stdout",
     "output_type": "stream",
     "text": [
      "Confusion Matrix:\n"
     ]
    },
    {
     "data": {
      "image/png": "[encoded data removed]",
      "text/plain": [
       "<matplotlib.figure.Figure at 0x7f4725c84198>"
      ]
     },
     "metadata": {},
     "output_type": "display_data"
    },
    {
     "name": "stdout",
     "output_type": "stream",
     "text": [
      "TPR for the model on test data is 0.99\n",
      "FPR for the model on test data is 0.65\n",
      "TNR for the model on test data is 0.35\n",
      "FNR for the model on test data is 0.01\n",
      "\n"
     ]
    }
   ],
   "source": [
    "# Fitting the best model\n",
    "\n",
    "model = SVC(kernel='rbf', C=100, gamma=1)\n",
    "model.fit(X_train_tf, y_train_tf)\n",
    "y_pred_tf = model.predict(X_test_tf)\n",
    "\n",
    "# Generating the confusion matrix\n",
    "cm_tf = confusion_matrix(y_test_tf , y_pred_tf)\n",
    "print(\"Confusion Matrix:\")\n",
    "sns.heatmap(cm_tf, annot=True, fmt='d')\n",
    "plt.show()\n",
    "\n",
    "# calculating TPR, FPR, TNR, FNR\n",
    "\n",
    "tn, fp, fn, tp = cm_tf.ravel()\n",
    "\n",
    "tnr_tf = tn/(tn+fp)\n",
    "fpr_tf = fp/(tn+fp)\n",
    "fnr_tf = fn/(fn+tp)\n",
    "tpr_tf = tp/(fn+tp)\n",
    "\n",
    "print(\"TPR for the model on test data is {:.2f}\".format(tpr_tf))\n",
    "print(\"FPR for the model on test data is {:.2f}\".format(fpr_tf))\n",
    "print(\"TNR for the model on test data is {:.2f}\".format(tnr_tf))\n",
    "print(\"FNR for the model on test data is {:.2f}\\n\".format(fnr_tf))"
   ]
  },
  {
   "cell_type": "code",
   "execution_count": 16,
   "metadata": {
    "collapsed": false
   },
   "outputs": [
    {
     "name": "stdout",
     "output_type": "stream",
     "text": [
      "Accuracy score for the model on test data is 0.92\n",
      "Precision score for the model on test data is 0.93\n",
      "Recall score for the model on test data is 0.99\n",
      "F1 score for the model on test data is 0.96\n",
      "\n"
     ]
    }
   ],
   "source": [
    "# calculating accuracy, precision and recall \n",
    "\n",
    "accuracy_tf = accuracy_score(y_test_tf , y_pred_tf)\n",
    "precision_tf = precision_score(y_test_tf , y_pred_tf)\n",
    "recall_tf = recall_score(y_test_tf , y_pred_tf)\n",
    "f1_tf = f1_score(y_test_tf , y_pred_tf)\n",
    "\n",
    "print(\"Accuracy score for the model on test data is {:.2f}\".format(accuracy_tf))\n",
    "print(\"Precision score for the model on test data is {:.2f}\".format(precision_tf))\n",
    "print(\"Recall score for the model on test data is {:.2f}\".format(recall_tf))\n",
    "print(\"F1 score for the model on test data is {:.2f}\\n\".format(f1_tf))"
   ]
  },
  {
   "cell_type": "markdown",
   "metadata": {},
   "source": [
    "# 4.0 Word2Vec"
   ]
  },
  {
   "cell_type": "code",
   "execution_count": 17,
   "metadata": {
    "collapsed": true
   },
   "outputs": [],
   "source": [
    "import gensim\n",
    "from gensim.models import Word2Vec"
   ]
  },
  {
   "cell_type": "code",
   "execution_count": 18,
   "metadata": {
    "collapsed": true
   },
   "outputs": [],
   "source": [
    "i=0\n",
    "list_of_sent=[]\n",
    "for sent in X_train:\n",
    "    list_of_sent.append(sent.split())\n",
    "    \n",
    "list_of_sent_tst=[]\n",
    "for sent in X_test:\n",
    "    list_of_sent_tst.append(sent.split())"
   ]
  },
  {
   "cell_type": "code",
   "execution_count": 21,
   "metadata": {
    "collapsed": false
   },
   "outputs": [
    {
     "name": "stdout",
     "output_type": "stream",
     "text": [
      "like\n"
     ]
    }
   ],
   "source": [
    "# min_count = 5 considers only words that occured atleast 5 times\n",
    "w2v_model=Word2Vec(list_of_sent,min_count=5,size=50, workers=4)\n",
    "w2v_words = list(w2v_model.wv.vocab)\n",
    "count_vect_feat = bow.get_feature_names() # list of words in the BoW\n",
    "print(count_vect_feat[count_vect_feat.index('like')])"
   ]
  },
  {
   "cell_type": "markdown",
   "metadata": {},
   "source": [
    "## 4.1 Average Word2Vec"
   ]
  },
  {
   "cell_type": "code",
   "execution_count": 22,
   "metadata": {
    "collapsed": false
   },
   "outputs": [
    {
     "name": "stdout",
     "output_type": "stream",
     "text": [
      "7000\n",
      "50\n"
     ]
    }
   ],
   "source": [
    "# average Word2Vec\n",
    "# compute average word2vec for each review.\n",
    "sent_vectors = []; # the avg-w2v for each sentence/review is stored in this list\n",
    "for sent in list_of_sent: # for each review/sentence\n",
    "    sent_vec = np.zeros(50) # as word vectors are of zero length\n",
    "    cnt_words =0; # num of words with a valid vector in the sentence/review\n",
    "    for word in sent: # for each word in a review/sentence\n",
    "        if word in w2v_words:\n",
    "            vec = w2v_model.wv[word]\n",
    "            sent_vec += vec\n",
    "            cnt_words += 1\n",
    "    if cnt_words != 0:\n",
    "        sent_vec /= cnt_words\n",
    "    sent_vectors.append(sent_vec)\n",
    "print(len(sent_vectors))\n",
    "print(len(sent_vectors[0]))"
   ]
  },
  {
   "cell_type": "code",
   "execution_count": 23,
   "metadata": {
    "collapsed": false
   },
   "outputs": [
    {
     "name": "stdout",
     "output_type": "stream",
     "text": [
      "3000\n",
      "50\n"
     ]
    }
   ],
   "source": [
    "sent_vectors_test = []; # the avg-w2v for each sentence/review is stored in this list\n",
    "for sent in list_of_sent_tst: # for each review/sentence\n",
    "    sent_vec = np.zeros(50) # as word vectors are of zero length\n",
    "    cnt_words =0; # num of words with a valid vector in the sentence/review\n",
    "    for word in sent: # for each word in a review/sentence\n",
    "        if word in w2v_words:\n",
    "            vec = w2v_model.wv[word]\n",
    "            sent_vec += vec\n",
    "            cnt_words += 1\n",
    "    if cnt_words != 0:\n",
    "        sent_vec /= cnt_words\n",
    "    sent_vectors_test.append(sent_vec)\n",
    "print(len(sent_vectors_test))\n",
    "print(len(sent_vectors_test[0]))"
   ]
  },
  {
   "cell_type": "code",
   "execution_count": 24,
   "metadata": {
    "collapsed": false
   },
   "outputs": [
    {
     "name": "stdout",
     "output_type": "stream",
     "text": [
      "Length of X_train : 7000\n",
      "Length of X_test : 3000\n"
     ]
    }
   ],
   "source": [
    "X_train_avg = sent_vectors\n",
    "X_test_avg = sent_vectors_test\n",
    "y_train_avg = y_train\n",
    "y_test_avg = y_test\n",
    "\n",
    "print(\"Length of X_train :\",len(X_train_avg))\n",
    "print(\"Length of X_test :\",len(X_test_avg))"
   ]
  },
  {
   "cell_type": "code",
   "execution_count": 25,
   "metadata": {
    "collapsed": true
   },
   "outputs": [],
   "source": [
    "# Converting 'Positive' and 'Negative' into True and False\n",
    "\n",
    "y_train_avg = y_train_avg == 'Positive'\n",
    "y_test_avg = y_test_avg == 'Positive'"
   ]
  },
  {
   "cell_type": "markdown",
   "metadata": {},
   "source": [
    "### 4.1.1 Grid Seach CV for Optimal C and gamma"
   ]
  },
  {
   "cell_type": "code",
   "execution_count": null,
   "metadata": {
    "collapsed": false
   },
   "outputs": [
    {
     "name": "stdout",
     "output_type": "stream",
     "text": [
      "SVC(C=10000, cache_size=200, class_weight=None, coef0=0.0,\n",
      "  decision_function_shape='ovr', degree=3, gamma=0.1, kernel='rbf',\n",
      "  max_iter=-1, probability=False, random_state=None, shrinking=True,\n",
      "  tol=0.001, verbose=False)\n",
      "\n",
      "Optimal F-score: 0.87\n"
     ]
    }
   ],
   "source": [
    "# Finding the best parameters using Random Seach CV\n",
    "\n",
    "from sklearn.model_selection import GridSearchCV\n",
    "             \n",
    "tuned_parameters = {'C': [10**-4 , 10**-2, 1, 100, 10000, 100000] , \n",
    "                     'gamma' : [10**-8, 10**-7,  10**-6, 10**-5, 10**-4, 10**-3, 0.01, 0.1, 1, 10, 100, 1000] }\n",
    "\n",
    "gridmodel = GridSearchCV(SVC(kernel = 'rbf'), tuned_parameters, scoring = 'f1_weighted', cv=3, n_jobs=-1)\n",
    "gridmodel.fit(X_train_avg, y_train_avg)\n",
    "\n",
    "print(gridmodel.best_estimator_)\n",
    "print(\"\\nOptimal F-score: {:.2f}\".format(gridmodel.score(X_test_avg, y_test_avg)))"
   ]
  },
  {
   "cell_type": "markdown",
   "metadata": {},
   "source": [
    "### 4.1.2 Random Seach CV for C and gamma"
   ]
  },
  {
   "cell_type": "code",
   "execution_count": 27,
   "metadata": {
    "collapsed": false
   },
   "outputs": [
    {
     "name": "stdout",
     "output_type": "stream",
     "text": [
      "SVC(C=100, cache_size=200, class_weight=None, coef0=0.0,\n",
      "  decision_function_shape='ovr', degree=3, gamma=1, kernel='rbf',\n",
      "  max_iter=-1, probability=False, random_state=None, shrinking=True,\n",
      "  tol=0.001, verbose=False)\n",
      "\n",
      "Optimal F-score: 0.86\n"
     ]
    }
   ],
   "source": [
    "# Finding the best parameters using Random Seach CV\n",
    "\n",
    "from sklearn.model_selection import RandomizedSearchCV\n",
    "\n",
    "random_parameters =  {'C': [10**-4,10**-3,10**-2,10**-1, 1, 10, 100, 1000, 10000] , \n",
    "                     'gamma' : [10**-8, 10**-7, 10**-6,10**-5,10**-4,10**-3, 0.001, 0.01, 0.1, 1, 10, 100] }\n",
    "                  \n",
    "randommodel = RandomizedSearchCV(SVC(kernel='rbf'), random_parameters, scoring = 'f1_weighted', cv=3, n_iter=10, n_jobs=-1)\n",
    "randommodel.fit(X_train_avg, y_train_avg)\n",
    "\n",
    "print(randommodel.best_estimator_)\n",
    "print(\"\\nOptimal F-score: {:.2f}\".format(randommodel.score(X_test_avg, y_test_avg)))"
   ]
  },
  {
   "cell_type": "markdown",
   "metadata": {},
   "source": [
    "### 4.1.3 Fitting the best model and calculating different performance metrics"
   ]
  },
  {
   "cell_type": "code",
   "execution_count": 28,
   "metadata": {
    "collapsed": false
   },
   "outputs": [
    {
     "name": "stdout",
     "output_type": "stream",
     "text": [
      "Confusion Matrix:\n"
     ]
    },
    {
     "data": {
      "image/png": "[encoded data removed]",
      "text/plain": [
       "<matplotlib.figure.Figure at 0x7f46cbd149b0>"
      ]
     },
     "metadata": {},
     "output_type": "display_data"
    },
    {
     "name": "stdout",
     "output_type": "stream",
     "text": [
      "TPR for the model on test data is 0.97\n",
      "FPR for the model on test data is 0.77\n",
      "TNR for the model on test data is 0.23\n",
      "FNR for the model on test data is 0.03\n",
      "\n"
     ]
    }
   ],
   "source": [
    "# Fitting the best model\n",
    "\n",
    "model = SVC(kernel='rbf', C=10000 , gamma=0.1)\n",
    "model.fit(X_train_avg, y_train_avg)\n",
    "y_pred_avg = model.predict(X_test_avg)\n",
    "\n",
    "cm_avg = confusion_matrix(y_test_avg , y_pred_avg)\n",
    "print(\"Confusion Matrix:\")\n",
    "sns.heatmap(cm_avg, annot=True, fmt='d')\n",
    "plt.show()\n",
    "\n",
    "# calculating TPR, FPR, TNR, FNR\n",
    "\n",
    "tn, fp, fn, tp = cm_avg.ravel()\n",
    "\n",
    "tnr_avg = tn/(tn+fp)\n",
    "fpr_avg = fp/(tn+fp)\n",
    "fnr_avg = fn/(fn+tp)\n",
    "tpr_avg = tp/(fn+tp)\n",
    "\n",
    "print(\"TPR for the model on test data is {:.2f}\".format(tpr_avg))\n",
    "print(\"FPR for the model on test data is {:.2f}\".format(fpr_avg))\n",
    "print(\"TNR for the model on test data is {:.2f}\".format(tnr_avg))\n",
    "print(\"FNR for the model on test data is {:.2f}\\n\".format(fnr_avg))"
   ]
  },
  {
   "cell_type": "code",
   "execution_count": 29,
   "metadata": {
    "collapsed": false
   },
   "outputs": [
    {
     "name": "stdout",
     "output_type": "stream",
     "text": [
      "Accuracy score for the model on test data is 0.89\n",
      "Precision score for the model on test data is 0.91\n",
      "Recall score for the model on test data is 0.97\n",
      "F1 score for the model on test data is 0.94\n",
      "\n"
     ]
    }
   ],
   "source": [
    "# calculating accuracy, precision and recall \n",
    "\n",
    "accuracy_avg = accuracy_score(y_test_avg , y_pred_avg)\n",
    "precision_avg = precision_score(y_test_avg , y_pred_avg)\n",
    "recall_avg = recall_score(y_test_avg , y_pred_avg)\n",
    "f1_avg = f1_score(y_test_avg , y_pred_avg)\n",
    "\n",
    "print(\"Accuracy score for the model on test data is {:.2f}\".format(accuracy_avg))\n",
    "print(\"Precision score for the model on test data is {:.2f}\".format(precision_avg))\n",
    "print(\"Recall score for the model on test data is {:.2f}\".format(recall_avg))\n",
    "print(\"F1 score for the model on test data is {:.2f}\\n\".format(f1_avg))"
   ]
  },
  {
   "cell_type": "markdown",
   "metadata": {},
   "source": [
    "### 4.2 TF-IDF Weighted Word2Vec"
   ]
  },
  {
   "cell_type": "code",
   "execution_count": 30,
   "metadata": {
    "collapsed": false
   },
   "outputs": [
    {
     "name": "stdout",
     "output_type": "stream",
     "text": [
      "7000\n",
      "50\n"
     ]
    }
   ],
   "source": [
    "# TF-IDF weighted Word2Vec\n",
    "tfidf_feat = tf_idf_vect.get_feature_names() # tfidf words/col-names\n",
    "\n",
    "tfidf_sent_vectors = []; # the tfidf-w2v for each sentence/review is stored in this list\n",
    "row=0;\n",
    "for sent in list_of_sent: # for each review/sentence \n",
    "    sent_vec = np.zeros(50) # as word vectors are of zero length\n",
    "    weight_sum =0; # num of words with a valid vector in the sentence/review\n",
    "    for word in sent: # for each word in a review/sentence\n",
    "        if word in w2v_words:\n",
    "            vec = w2v_model.wv[word]\n",
    "            # obtain the tf_idfidf of a word in a sentence/review\n",
    "            tf_idf = X_train_tf[row, tfidf_feat.index(word)]\n",
    "            sent_vec += (vec * tf_idf)\n",
    "            weight_sum += tf_idf\n",
    "    if weight_sum != 0:\n",
    "        sent_vec /= weight_sum\n",
    "    tfidf_sent_vectors.append(sent_vec)\n",
    "    row += 1\n",
    "    \n",
    "print(len(tfidf_sent_vectors))\n",
    "print(len(tfidf_sent_vectors[0]))"
   ]
  },
  {
   "cell_type": "code",
   "execution_count": 31,
   "metadata": {
    "collapsed": false
   },
   "outputs": [
    {
     "name": "stdout",
     "output_type": "stream",
     "text": [
      "3000\n",
      "50\n"
     ]
    }
   ],
   "source": [
    "list_of_sent_tst=[]\n",
    "for sent in X_test:\n",
    "    list_of_sent_tst.append(sent.split())\n",
    "\n",
    "tfidf_sent_vectors_tst=[]\n",
    "row=0\n",
    "for sent in list_of_sent_tst: # for each review/sentence \n",
    "    sent_vec = np.zeros(50) # as word vectors are of zero length\n",
    "    weight_sum =0; # num of words with a valid vector in the sentence/review\n",
    "    for word in sent: # for each word in a review/sentence\n",
    "        if word in w2v_words:\n",
    "            vec = w2v_model.wv[word]\n",
    "            # obtain the tf_idfidf of a word in a sentence/review\n",
    "            tf_idf = X_test_tf[row, tfidf_feat.index(word)]\n",
    "            sent_vec += (vec * tf_idf)\n",
    "            weight_sum += tf_idf\n",
    "    if weight_sum != 0:\n",
    "        sent_vec /= weight_sum\n",
    "    tfidf_sent_vectors_tst.append(sent_vec)\n",
    "    row += 1\n",
    "    \n",
    "print(len(tfidf_sent_vectors_tst))\n",
    "print(len(tfidf_sent_vectors_tst[0]))"
   ]
  },
  {
   "cell_type": "code",
   "execution_count": 32,
   "metadata": {
    "collapsed": false
   },
   "outputs": [
    {
     "name": "stdout",
     "output_type": "stream",
     "text": [
      "Length of X_train : 7000\n",
      "Length of X_test : 3000\n"
     ]
    }
   ],
   "source": [
    "X_train_w2v = tfidf_sent_vectors\n",
    "X_test_w2v = tfidf_sent_vectors_tst\n",
    "y_train_w2v = y_train\n",
    "y_test_w2v = y_test\n",
    "\n",
    "print(\"Length of X_train :\",len(X_train_w2v))\n",
    "print(\"Length of X_test :\",len(X_test_w2v))"
   ]
  },
  {
   "cell_type": "code",
   "execution_count": 33,
   "metadata": {
    "collapsed": true
   },
   "outputs": [],
   "source": [
    "# Converting 'Positive' and 'Negative' into True and False\n",
    "\n",
    "y_train_w2v = y_train_w2v == 'Positive'\n",
    "y_test_w2v = y_test_w2v == 'Positive'"
   ]
  },
  {
   "cell_type": "markdown",
   "metadata": {},
   "source": [
    "### 4.2.1 Grid Seach CV for C and gamma"
   ]
  },
  {
   "cell_type": "code",
   "execution_count": 34,
   "metadata": {
    "collapsed": false
   },
   "outputs": [
    {
     "name": "stdout",
     "output_type": "stream",
     "text": [
      "SVC(C=10000, cache_size=200, class_weight=None, coef0=0.0,\n",
      "  decision_function_shape='ovr', degree=3, gamma=0.1, kernel='rbf',\n",
      "  max_iter=-1, probability=False, random_state=None, shrinking=True,\n",
      "  tol=0.001, verbose=False)\n",
      "Optimal F-score: 0.86\n"
     ]
    }
   ],
   "source": [
    "# Finding the best parameters using Random Seach CV\n",
    "\n",
    "from sklearn.model_selection import GridSearchCV\n",
    "\n",
    "tuned_parameters = {'C': [10**-4,10**-3,10**-2,10**-1, 1, 10, 100, 1000, 10000] , \n",
    "                     'gamma' : [10**-8, 10**-7, 10**-6,10**-5,10**-4,10**-3, 0.001, 0.01, 0.1, 1, 10, 100] }\n",
    "\n",
    "gridmodel = GridSearchCV(SVC(kernel = 'rbf'), tuned_parameters, scoring = 'f1_weighted', cv=3, n_jobs=-1)\n",
    "gridmodel.fit(X_train_w2v, y_train_w2v)\n",
    "\n",
    "print(gridmodel.best_estimator_)\n",
    "print(\"Optimal F-score: {:.2f}\".format(gridmodel.score(X_test_w2v, y_test_w2v)))"
   ]
  },
  {
   "cell_type": "markdown",
   "metadata": {},
   "source": [
    "### 4.1.2 Random Seach CV for Optimal λ (C) and Penalty (among L1 and L2)"
   ]
  },
  {
   "cell_type": "code",
   "execution_count": 36,
   "metadata": {
    "collapsed": false
   },
   "outputs": [
    {
     "name": "stdout",
     "output_type": "stream",
     "text": [
      "SVC(C=1000, cache_size=200, class_weight=None, coef0=0.0,\n",
      "  decision_function_shape='ovr', degree=3, gamma=10, kernel='rbf',\n",
      "  max_iter=-1, probability=False, random_state=None, shrinking=True,\n",
      "  tol=0.001, verbose=False)\n",
      "\n",
      "Optimal F-score: 0.85\n"
     ]
    }
   ],
   "source": [
    "# Finding the best parameters using Random Seach CV\n",
    "\n",
    "from sklearn.model_selection import RandomizedSearchCV\n",
    "\n",
    "random_parameters =  {'C': [10**-4,10**-3,10**-2,10**-1, 1, 10, 100, 1000, 10000] , \n",
    "                     'gamma' : [10**-8, 10**-7, 10**-6,10**-5,10**-4,10**-3, 0.001, 0.01, 0.1, 1, 10, 100] }\n",
    "                   \n",
    "randommodel = RandomizedSearchCV(SVC(kernel='rbf'), random_parameters, scoring = 'f1_weighted', cv=3, n_iter=20, n_jobs=-1)\n",
    "randommodel.fit(X_train_w2v, y_train_w2v)\n",
    "\n",
    "print(randommodel.best_estimator_)\n",
    "print(\"\\nOptimal F-score: {:.2f}\".format(randommodel.score(X_test_w2v, y_test_w2v)))"
   ]
  },
  {
   "cell_type": "markdown",
   "metadata": {},
   "source": [
    "Here we got exactly the same value of F-Score everytime, both for L1 and L2 regularization. We will take optimal model as L2 regularization for C=10000\n",
    "\n",
    "### 4.2.3 Fitting the best model and calculating different performance metrics"
   ]
  },
  {
   "cell_type": "code",
   "execution_count": 37,
   "metadata": {
    "collapsed": false
   },
   "outputs": [
    {
     "name": "stdout",
     "output_type": "stream",
     "text": [
      "Confusion Matrix:\n"
     ]
    },
    {
     "data": {
      "image/png": "[encoded data removed]",
      "text/plain": [
       "<matplotlib.figure.Figure at 0x7f46cb8c8e80>"
      ]
     },
     "metadata": {},
     "output_type": "display_data"
    },
    {
     "name": "stdout",
     "output_type": "stream",
     "text": [
      "TPR for the model on test data is 0.97\n",
      "FPR for the model on test data is 0.83\n",
      "TNR for the model on test data is 0.17\n",
      "FNR for the model on test data is 0.03\n",
      "\n"
     ]
    }
   ],
   "source": [
    "# Fitting the best model\n",
    "\n",
    "model = SVC(kernel='rbf', C=10000 , gamma=0.1)\n",
    "model.fit(X_train_w2v, y_train_w2v)\n",
    "y_pred_w2v = model.predict(X_test_w2v)\n",
    "\n",
    "# Generating the confusion matrix\n",
    "cm_w2v = confusion_matrix(y_test_w2v , y_pred_w2v)\n",
    "print(\"Confusion Matrix:\")\n",
    "sns.heatmap(cm_w2v, annot=True, fmt='d')\n",
    "plt.show()\n",
    "\n",
    "# calculating TPR, FPR, TNR, FNR\n",
    "\n",
    "tn, fp, fn, tp = cm_w2v.ravel()\n",
    "\n",
    "tnr_w2v = tn/(tn+fp)\n",
    "fpr_w2v = fp/(tn+fp)\n",
    "fnr_w2v = fn/(fn+tp)\n",
    "tpr_w2v = tp/(fn+tp)\n",
    "\n",
    "print(\"TPR for the model on test data is {:.2f}\".format(tpr_w2v))\n",
    "print(\"FPR for the model on test data is {:.2f}\".format(fpr_w2v))\n",
    "print(\"TNR for the model on test data is {:.2f}\".format(tnr_w2v))\n",
    "print(\"FNR for the model on test data is {:.2f}\\n\".format(fnr_w2v))"
   ]
  },
  {
   "cell_type": "code",
   "execution_count": 38,
   "metadata": {
    "collapsed": false
   },
   "outputs": [
    {
     "name": "stdout",
     "output_type": "stream",
     "text": [
      "Accuracy score for the model on test data is 0.89\n",
      "Precision score for the model on test data is 0.91\n",
      "Recall score for the model on test data is 0.97\n",
      "F1 score for the model on test data is 0.94\n",
      "\n"
     ]
    }
   ],
   "source": [
    "# calculating accuracy, precision and recall \n",
    "\n",
    "accuracy_w2v = accuracy_score(y_test_w2v , y_pred_w2v)\n",
    "precision_w2v = precision_score(y_test_w2v , y_pred_w2v)\n",
    "recall_w2v = recall_score(y_test_w2v , y_pred_w2v)\n",
    "f1_w2v = f1_score(y_test_w2v , y_pred_w2v)\n",
    "\n",
    "print(\"Accuracy score for the model on test data is {:.2f}\".format(accuracy_w2v))\n",
    "print(\"Precision score for the model on test data is {:.2f}\".format(precision_w2v))\n",
    "print(\"Recall score for the model on test data is {:.2f}\".format(recall_w2v))\n",
    "print(\"F1 score for the model on test data is {:.2f}\\n\".format(f1_w2v))"
   ]
  },
  {
   "cell_type": "markdown",
   "metadata": {},
   "source": [
    "# 5.0 Conclusion"
   ]
  },
  {
   "cell_type": "markdown",
   "metadata": {},
   "source": [
    "RBF-SVM was successfully applied on all the text-processing techniques.\n",
    "\n",
    "In order to accomplish this task, 4 types of Text processing techniques were applied. First the optimal values of C and gamma were estimated using grid-search and then the model was fit using the value of optimal lambda.\n",
    "\n",
    "Post successful fitting of the model, the polarity (labels) on the test dataset was estimated using the model and was checked against the true polarity. Based on this, Accuracy, Precision-Score, Recall Score and F1-Score were calculated.\n"
   ]
  },
  {
   "cell_type": "markdown",
   "metadata": {},
   "source": []
  },
  {
   "cell_type": "code",
   "execution_count": null,
   "metadata": {
    "collapsed": true
   },
   "outputs": [],
   "source": []
  }
 ],
 "metadata": {
  "kernelspec": {
   "display_name": "Python 3",
   "language": "python",
   "name": "python3"
  },
  "language_info": {
   "codemirror_mode": {
    "name": "ipython",
    "version": 3
   },
   "file_extension": ".py",
   "mimetype": "text/x-python",
   "name": "python",
   "nbconvert_exporter": "python",
   "pygments_lexer": "ipython3",
   "version": "3.5.2"
  },
  "widgets": {
   "state": {},
   "version": "1.1.2"
  }
 },
 "nbformat": 4,
 "nbformat_minor": 2
}
