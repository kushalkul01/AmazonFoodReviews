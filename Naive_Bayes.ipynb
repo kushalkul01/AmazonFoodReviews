{
 "cells": [
  {
   "cell_type": "code",
   "execution_count": 1,
   "metadata": {
    "collapsed": false
   },
   "outputs": [
    {
     "name": "stderr",
     "output_type": "stream",
     "text": [
      "/usr/lib/python3/dist-packages/sklearn/cross_validation.py:44: DeprecationWarning: This module was deprecated in version 0.18 in favor of the model_selection module into which all the refactored classes and functions are moved. Also note that the interface of the new CV iterators are different from that of this module. This module will be removed in 0.20.\n",
      "  \"This module will be removed in 0.20.\", DeprecationWarning)\n"
     ]
    }
   ],
   "source": [
    "import sqlite3\n",
    "import pandas as pd\n",
    "import numpy as np\n",
    "import matplotlib.pyplot as plt\n",
    "import seaborn as sns\n",
    "from sklearn.naive_bayes import BernoulliNB, MultinomialNB\n",
    "from sklearn.metrics import precision_score, recall_score, f1_score, confusion_matrix, accuracy_score\n",
    "from sklearn.cross_validation import cross_val_score\n",
    "from collections import Counter\n",
    "from sklearn import cross_validation\n",
    "import warnings\n",
    "warnings.filterwarnings('ignore')\n",
    "% matplotlib inline"
   ]
  },
  {
   "cell_type": "markdown",
   "metadata": {},
   "source": [
    "# 1.0 Data Preprocessing"
   ]
  },
  {
   "cell_type": "code",
   "execution_count": 3,
   "metadata": {
    "collapsed": false
   },
   "outputs": [
    {
     "data": {
      "text/plain": [
       "(364171, 11)"
      ]
     },
     "execution_count": 3,
     "metadata": {},
     "output_type": "execute_result"
    }
   ],
   "source": [
    "# I did this on IBM cloud where file size limit was 256 MB. Hence I removed duplicates.\n",
    "# Also, the score has been turned into binary class- Positive and Negative\n",
    "\n",
    "con = sqlite3.connect(r\"final.sqlite\")\n",
    "filtered_data = pd.read_sql_query(\"\"\"\n",
    "SELECT *\n",
    "FROM Reviews\n",
    "\"\"\", con)\n",
    "filtered_data.shape"
   ]
  },
  {
   "cell_type": "code",
   "execution_count": 4,
   "metadata": {
    "collapsed": false
   },
   "outputs": [
    {
     "data": {
      "text/plain": [
       "Positive    87729\n",
       "Negative    12271\n",
       "Name: Score, dtype: int64"
      ]
     },
     "execution_count": 4,
     "metadata": {},
     "output_type": "execute_result"
    }
   ],
   "source": [
    "# Taking first 100,000 points for analysis\n",
    "\n",
    "filtered_data = filtered_data.sort_values(by=['Time'])\n",
    "final = filtered_data[:100000]\n",
    "final.Score.value_counts()"
   ]
  },
  {
   "cell_type": "code",
   "execution_count": 5,
   "metadata": {
    "collapsed": false
   },
   "outputs": [
    {
     "name": "stdout",
     "output_type": "stream",
     "text": [
      "[nltk_data] Downloading package stopwords to\n",
      "[nltk_data]     /home/kushalkul01/nltk_data...\n",
      "[nltk_data]   Package stopwords is already up-to-date!\n"
     ]
    }
   ],
   "source": [
    "import re\n",
    "import string\n",
    "import nltk\n",
    "nltk.download('stopwords')\n",
    "from nltk.corpus import stopwords\n",
    "from nltk.stem.wordnet import WordNetLemmatizer\n",
    "from nltk.stem import SnowballStemmer\n",
    "\n",
    "i=0;\n",
    "for sent in final['Text'].values:\n",
    "    if (len(re.findall('<.*?>', sent))):\n",
    "        #print(i)\n",
    "        #print(sent)\n",
    "        break;\n",
    "    i += 1;    \n",
    "\n",
    "def cleanhtml(sentence): #function to clean the word of any html-tags\n",
    "    cleanr = re.compile('<.*?>')\n",
    "    cleantext = re.sub(cleanr, ' ', sentence)\n",
    "    return cleantext\n",
    "\n",
    "stop = set(stopwords.words('english')) #set of stopwords\n",
    "sno = SnowballStemmer('english') #initialising the snowball stemmer\n",
    "\n",
    "def cleanpunc(sentence): #function to clean the word of any punctuation or special characters\n",
    "    cleaned = re.sub(r'[?|!|\\'|\"|#]',r'',sentence)\n",
    "    cleaned = re.sub(r'[.|,|)|(|\\|/]',r' ',cleaned)\n",
    "    return  cleaned"
   ]
  },
  {
   "cell_type": "code",
   "execution_count": 6,
   "metadata": {
    "collapsed": true
   },
   "outputs": [],
   "source": [
    "i=0\n",
    "str1=' '\n",
    "final_string=[]\n",
    "all_positive_words=[] # store words from +ve reviews here\n",
    "all_negative_words=[] # store words from -ve reviews here.\n",
    "s=''\n",
    "for sent in final['Text'].values:\n",
    "    filtered_sentence=[]\n",
    "    #print(sent);\n",
    "    sent=cleanhtml(sent) # remove HTMl tags\n",
    "    for w in sent.split():\n",
    "        for cleaned_words in cleanpunc(w).split():\n",
    "            if((cleaned_words.isalpha()) & (len(cleaned_words)>2)):    \n",
    "                if(cleaned_words.lower() not in stop):\n",
    "                    s=(sno.stem(cleaned_words.lower())).encode('utf8')\n",
    "                    filtered_sentence.append(s)\n",
    "                    if (final['Score'].values)[i] == 'Positive': \n",
    "                        all_positive_words.append(s) #list of all words used to describe positive reviews\n",
    "                    if(final['Score'].values)[i] == 'Negative':\n",
    "                        all_negative_words.append(s) #list of all words used to describe negative reviews reviews\n",
    "                else:\n",
    "                    continue\n",
    "            else:\n",
    "                continue \n",
    "    #print(filtered_sentence)\n",
    "    str1 = b\" \".join(filtered_sentence) #final string of cleaned words\n",
    "    #print(\"***********************************************************************\")\n",
    "    \n",
    "    final_string.append(str1)\n",
    "    i+=1"
   ]
  },
  {
   "cell_type": "code",
   "execution_count": 7,
   "metadata": {
    "collapsed": true
   },
   "outputs": [],
   "source": [
    "final['CleanedText']=final_string #adding a column of CleanedText which displays the data after pre-processing of the review \n",
    "final['CleanedText']=final['CleanedText'].str.decode(\"utf-8\")"
   ]
  },
  {
   "cell_type": "code",
   "execution_count": 8,
   "metadata": {
    "collapsed": false
   },
   "outputs": [
    {
     "name": "stdout",
     "output_type": "stream",
     "text": [
      "Shape of y-vector is (100000,)\n"
     ]
    }
   ],
   "source": [
    "final = final.sort_values(by=['Time']) #Just to be double sure that dataframe is sorted according to time\n",
    "\n",
    "# Taking labels to make y-dimension\n",
    "labels=final['Score'].values\n",
    "\n",
    "# Checking the shape of labels\n",
    "print(\"Shape of y-vector is\",labels.shape)"
   ]
  },
  {
   "cell_type": "markdown",
   "metadata": {},
   "source": [
    "# 2.0 Bag of Words Model"
   ]
  },
  {
   "cell_type": "code",
   "execution_count": 10,
   "metadata": {
    "collapsed": true
   },
   "outputs": [],
   "source": [
    "# Making the bag of words model\n",
    "\n",
    "from sklearn.feature_extraction.text import CountVectorizer\n",
    "bow=CountVectorizer()\n",
    "final_counts=bow.fit_transform(final['CleanedText'])"
   ]
  },
  {
   "cell_type": "code",
   "execution_count": 11,
   "metadata": {
    "collapsed": true
   },
   "outputs": [],
   "source": [
    "# Taking first 70% as Training-data and remaining 30% as Test-data. As data is already sorted\n",
    "# according to timestamp, merely index-based splitting will give us Time Based Splitting\n",
    "\n",
    "l = 0.7 * final_counts.shape[0]\n",
    "X_train_bow = final_counts[0:int(l)]\n",
    "y_train_bow = labels[0:int(l)]\n",
    "X_test_bow = final_counts[int(l):]\n",
    "y_test_bow = labels[int(l):]"
   ]
  },
  {
   "cell_type": "markdown",
   "metadata": {},
   "source": [
    "### 2.1 Bernoulli Naive Bayes"
   ]
  },
  {
   "cell_type": "code",
   "execution_count": 13,
   "metadata": {
    "collapsed": true
   },
   "outputs": [],
   "source": [
    "# Applying Bernoulli Naive-Bayes \n",
    "\n",
    "alpha=np.linspace(10**-4,10**1, 50) # taking 50 values between 10^-4 to 10 to do CV \n",
    "cv_scores = []\n",
    "for i in alpha:\n",
    "    nb_bow=BernoulliNB(alpha=i)\n",
    "    scores = cross_val_score(nb_bow, X_train_bow, y_train_bow, cv=10, scoring='accuracy', n_jobs=-1)\n",
    "    cv_scores.append(scores.mean())"
   ]
  },
  {
   "cell_type": "code",
   "execution_count": 14,
   "metadata": {
    "collapsed": false
   },
   "outputs": [
    {
     "name": "stdout",
     "output_type": "stream",
     "text": [
      "\n",
      "The optimal alhpa value for Bernoulli Naive-Bayes on Bag-of-Words (BoW) model is 0.000100.\n",
      "Maximum score the model is 90.14 %.\n"
     ]
    }
   ],
   "source": [
    "# changing to misclassification error\n",
    "MSE = [1 - x for x in cv_scores]\n",
    "\n",
    "# determining best alpha\n",
    "bern_bow_alpha = alpha[MSE.index(min(MSE))]\n",
    "print('\\nThe optimal alhpa value for Bernoulli Naive-Bayes on Bag-of-Words (BoW) model is %f.' % bern_bow_alpha)\n",
    "print(\"Maximum score the model is {:.2f} %.\".format(max(cv_scores) * 100))"
   ]
  },
  {
   "cell_type": "code",
   "execution_count": 15,
   "metadata": {
    "collapsed": false
   },
   "outputs": [
    {
     "data": {
      "text/plain": [
       "BernoulliNB(alpha=0.0001, binarize=0.0, class_prior=None, fit_prior=True)"
      ]
     },
     "execution_count": 15,
     "metadata": {},
     "output_type": "execute_result"
    }
   ],
   "source": [
    "# Fitting Bernoulli Naive-Bayes with optimal alpha\n",
    "\n",
    "bn_bow = BernoulliNB(alpha=bern_bow_alpha)\n",
    "bn_bow.fit(X_train_bow , y_train_bow)"
   ]
  },
  {
   "cell_type": "code",
   "execution_count": 16,
   "metadata": {
    "collapsed": false
   },
   "outputs": [
    {
     "name": "stdout",
     "output_type": "stream",
     "text": [
      "Accuracy score for the model on test data is 89.24 %.\n"
     ]
    }
   ],
   "source": [
    "# predicting the values and calculating accuracy score\n",
    "\n",
    "y_pred_bow = bn_bow.predict(X_test_bow)\n",
    "accuracy_bow = accuracy_score(y_pred_bow,y_test_bow)\n",
    "print(\"Accuracy score for the model on test data is {:.2f} %.\".format(accuracy_bow * 100))"
   ]
  },
  {
   "cell_type": "code",
   "execution_count": 17,
   "metadata": {
    "collapsed": false
   },
   "outputs": [
    {
     "name": "stdout",
     "output_type": "stream",
     "text": [
      "Confusion Matrix:\n"
     ]
    },
    {
     "data": {
      "image/png": "[encoded data removed]",
      "text/plain": [
       "<Figure size 432x288 with 2 Axes>"
      ]
     },
     "metadata": {},
     "output_type": "display_data"
    },
    {
     "name": "stdout",
     "output_type": "stream",
     "text": [
      "TPR for the model on test data is 94.65\n",
      "FPR for the model on test data is 44.92\n",
      "TNR for the model on test data is 55.08\n",
      "FNR for the model on test data is 5.35\n",
      "\n"
     ]
    }
   ],
   "source": [
    "# Printing the confusion matrix\n",
    "\n",
    "cm_bern_bow = confusion_matrix(y_test_bow , y_pred_bow)\n",
    "print(\"Confusion Matrix:\")\n",
    "sns.heatmap(cm_bern_bow, annot =True, fmt='d')\n",
    "plt.show()\n",
    "\n",
    "# calculating TPR, FPR, TNR, FNR\n",
    "\n",
    "tn, fp, fn, tp = cm_bern_bow.ravel()\n",
    "\n",
    "tnr_bow = tn/(tn+fp)\n",
    "fpr_bow = fp/(tn+fp)\n",
    "fnr_bow = fn/(fn+tp)\n",
    "tpr_bow = tp/(fn+tp)\n",
    "\n",
    "print(\"TPR for the model on test data is {:.2f}\".format(tpr_bow*100))\n",
    "print(\"FPR for the model on test data is {:.2f}\".format(fpr_bow*100))\n",
    "print(\"TNR for the model on test data is {:.2f}\".format(tnr_bow*100))\n",
    "print(\"FNR for the model on test data is {:.2f}\\n\".format(fnr_bow*100))"
   ]
  },
  {
   "cell_type": "code",
   "execution_count": 18,
   "metadata": {
    "collapsed": false
   },
   "outputs": [
    {
     "name": "stdout",
     "output_type": "stream",
     "text": [
      "Precision score for the model on test data is 0.93\n",
      "Recall score for the model on test data is 0.95\n",
      "F1 score for the model on test data is 0.94\n",
      "\n"
     ]
    }
   ],
   "source": [
    "# calculating precision, recall and confusion-matrix \n",
    "# as precision_score expect matrix in [0,1] form instead of [Positive, Negative]\n",
    "# Same goes with recall_score and f1_score\n",
    "\n",
    "yTestBow = y_test_bow=='Positive'\n",
    "yPredBow = y_pred_bow=='Positive'\n",
    "precision_bow = precision_score(yTestBow , yPredBow)\n",
    "recall_bow = recall_score(yTestBow , yPredBow)\n",
    "f1_bow = f1_score(yTestBow , yPredBow)\n",
    "\n",
    "print(\"Precision score for the model on test data is {:.2f}\".format(precision_bow))\n",
    "print(\"Recall score for the model on test data is {:.2f}\".format(recall_bow))\n",
    "print(\"F1 score for the model on test data is {:.2f}\\n\".format(f1_bow))"
   ]
  },
  {
   "cell_type": "code",
   "execution_count": 19,
   "metadata": {
    "collapsed": false
   },
   "outputs": [
    {
     "name": "stdout",
     "output_type": "stream",
     "text": [
      "Negative Words are:\n",
      " ['get' 'buy' 'flavor' 'good' 'tri' 'would' 'one' 'product' 'like' 'tast']\n",
      "\n",
      "Positive Words are:\n",
      " ['tri' 'product' 'use' 'one' 'flavor' 'love' 'good' 'great' 'like' 'tast']\n"
     ]
    }
   ],
   "source": [
    "# Taking values for probabilities for BoW\n",
    "\n",
    "neg_bow = bn_bow.feature_log_prob_[0, :].argsort()\n",
    "pos_bow = bn_bow.feature_log_prob_[1, :].argsort()\n",
    "\n",
    "# Taking words with Maximum Probabilities\n",
    "neg_words = np.take(bow.get_feature_names(), neg_bow[-10:])\n",
    "pos_words = np.take(bow.get_feature_names(), pos_bow[-10:])\n",
    "\n",
    "print(\"Negative Words are:\\n\" , neg_words, end='\\n\\n')\n",
    "print(\"Positive Words are:\\n\" , pos_words)"
   ]
  },
  {
   "cell_type": "markdown",
   "metadata": {},
   "source": [
    "### 2.2 Multinomial Naive Bayes"
   ]
  },
  {
   "cell_type": "code",
   "execution_count": 20,
   "metadata": {
    "collapsed": true
   },
   "outputs": [],
   "source": [
    "# Applying Multinomial Naive-Bayes \n",
    "\n",
    "alpha=np.linspace(10**-4,10**1, 50) # taking 50 values between 10^-4 to 10 to do CV \n",
    "cv_scores = []\n",
    "for i in alpha:\n",
    "    mb_bow=MultinomialNB(alpha=i)\n",
    "    scores = cross_val_score(mb_bow, X_train_bow, y_train_bow, cv=10, scoring='accuracy', n_jobs=-1)\n",
    "    cv_scores.append(scores.mean())"
   ]
  },
  {
   "cell_type": "code",
   "execution_count": 21,
   "metadata": {
    "collapsed": false
   },
   "outputs": [
    {
     "name": "stdout",
     "output_type": "stream",
     "text": [
      "\n",
      "The optimal alhpa value for the model is 1.428657.\n",
      "Maximum score for BoW model is 91.09 %.\n"
     ]
    }
   ],
   "source": [
    "# changing to misclassification error\n",
    "MSE = [1 - x for x in cv_scores]\n",
    "\n",
    "# determining best alpha\n",
    "mult_bow_alpha = alpha[MSE.index(min(MSE))]\n",
    "print('\\nThe optimal alhpa value for the model is %f.' % mult_bow_alpha)\n",
    "print(\"Maximum score for BoW model is {:.2f} %.\".format(max(cv_scores) * 100))"
   ]
  },
  {
   "cell_type": "code",
   "execution_count": 22,
   "metadata": {
    "collapsed": false
   },
   "outputs": [
    {
     "data": {
      "text/plain": [
       "MultinomialNB(alpha=1.4286571428571428, class_prior=None, fit_prior=True)"
      ]
     },
     "execution_count": 22,
     "metadata": {},
     "output_type": "execute_result"
    }
   ],
   "source": [
    "# Fitting Multinomial Naive-Bayes with optimal alpha\n",
    "\n",
    "mb_bow = MultinomialNB(alpha=mult_bow_alpha)\n",
    "mb_bow.fit(X_train_bow , y_train_bow)"
   ]
  },
  {
   "cell_type": "code",
   "execution_count": 23,
   "metadata": {
    "collapsed": false
   },
   "outputs": [
    {
     "name": "stdout",
     "output_type": "stream",
     "text": [
      "Accuracy score for the model on test data is 90.24 %.\n"
     ]
    }
   ],
   "source": [
    "# predicting the values and calculating accuracy score\n",
    "\n",
    "y_pred_bow = mb_bow.predict(X_test_bow)\n",
    "accuracy_bow = accuracy_score(y_pred_bow,y_test_bow)\n",
    "print(\"Accuracy score for the model on test data is {:.2f} %.\".format(accuracy_bow * 100))"
   ]
  },
  {
   "cell_type": "code",
   "execution_count": 24,
   "metadata": {
    "collapsed": false
   },
   "outputs": [
    {
     "name": "stdout",
     "output_type": "stream",
     "text": [
      "Confusion Matrix:\n"
     ]
    },
    {
     "data": {
      "image/png": "[encoded data removed]",
      "text/plain": [
       "<Figure size 432x288 with 2 Axes>"
      ]
     },
     "metadata": {},
     "output_type": "display_data"
    },
    {
     "name": "stdout",
     "output_type": "stream",
     "text": [
      "TPR for BoW model on test data is 96.57\n",
      "FPR for BoW model on test data is 49.73\n",
      "TNR for BoW model on test data is 50.27\n",
      "FNR for BoW model on test data is 3.43\n",
      "\n"
     ]
    }
   ],
   "source": [
    "# Printing the confusion matrix\n",
    "\n",
    "cm_mult_bow = confusion_matrix(y_test_bow , y_pred_bow)\n",
    "print(\"Confusion Matrix:\")\n",
    "sns.heatmap(cm_mult_bow, annot=True, fmt='d')\n",
    "plt.show()\n",
    "\n",
    "# calculating TPR, FPR, TNR, FNR\n",
    "\n",
    "tn, fp, fn, tp = cm_mult_bow.ravel()\n",
    "\n",
    "tnr_bow = tn/(tn+fp)\n",
    "fpr_bow = fp/(tn+fp)\n",
    "fnr_bow = fn/(fn+tp)\n",
    "tpr_bow = tp/(fn+tp)\n",
    "\n",
    "print(\"TPR for BoW model on test data is {:.2f}\".format(tpr_bow*100))\n",
    "print(\"FPR for BoW model on test data is {:.2f}\".format(fpr_bow*100))\n",
    "print(\"TNR for BoW model on test data is {:.2f}\".format(tnr_bow*100))\n",
    "print(\"FNR for BoW model on test data is {:.2f}\\n\".format(fnr_bow*100))"
   ]
  },
  {
   "cell_type": "code",
   "execution_count": 25,
   "metadata": {
    "collapsed": false
   },
   "outputs": [
    {
     "name": "stdout",
     "output_type": "stream",
     "text": [
      "Precision score for BoW model on test data is 0.92\n",
      "Recall score for BoW model on test data is 0.97\n",
      "F1 score for BoW model on test data is 0.94\n",
      "\n"
     ]
    }
   ],
   "source": [
    "# calculating precision and recall\n",
    "# as precision_score expect matrix in [0,1] form instead of [Positive, Negative]\n",
    "# Same goes with recall_score and f1_score\n",
    "\n",
    "yTestBow = y_test_bow=='Positive'\n",
    "yPredBow = y_pred_bow=='Positive'\n",
    "precision_bow = precision_score(yTestBow , yPredBow)\n",
    "recall_bow = recall_score(yTestBow , yPredBow)\n",
    "f1_bow = f1_score(yTestBow , yPredBow)\n",
    "\n",
    "\n",
    "print(\"Precision score for BoW model on test data is {:.2f}\".format(precision_bow))\n",
    "print(\"Recall score for BoW model on test data is {:.2f}\".format(recall_bow))\n",
    "print(\"F1 score for BoW model on test data is {:.2f}\\n\".format(f1_bow))"
   ]
  },
  {
   "cell_type": "code",
   "execution_count": 26,
   "metadata": {
    "collapsed": false
   },
   "outputs": [
    {
     "name": "stdout",
     "output_type": "stream",
     "text": [
      "Negative Words are:\n",
      " ['tea' 'use' 'good' 'would' 'tri' 'flavor' 'one' 'product' 'like' 'tast']\n",
      "\n",
      "Positive Words are:\n",
      " ['product' 'one' 'use' 'love' 'great' 'flavor' 'good' 'tea' 'tast' 'like']\n"
     ]
    }
   ],
   "source": [
    "# Taking values for probabilities for BoW\n",
    "\n",
    "neg_bow = mb_bow.feature_log_prob_[0, :].argsort()\n",
    "pos_bow = mb_bow.feature_log_prob_[1, :].argsort()\n",
    "\n",
    "# Taking words with Maximum Probabilities\n",
    "neg_words = np.take(bow.get_feature_names(), neg_bow[-10:])\n",
    "pos_words = np.take(bow.get_feature_names(), pos_bow[-10:])\n",
    "\n",
    "print(\"Negative Words are:\\n\" , neg_words, end='\\n\\n')\n",
    "print(\"Positive Words are:\\n\" , pos_words)"
   ]
  },
  {
   "cell_type": "markdown",
   "metadata": {},
   "source": [
    "# 3.0 TF-IDF"
   ]
  },
  {
   "cell_type": "code",
   "execution_count": 27,
   "metadata": {
    "collapsed": false
   },
   "outputs": [
    {
     "name": "stdout",
     "output_type": "stream",
     "text": [
      "The type of count vectorizer  <class 'scipy.sparse.csr.csr_matrix'>\n",
      "The shape of out text TFIDF vectorizer  (100000, 1190020)\n",
      "The number of unique words including both unigrams and bigrams  1190020\n"
     ]
    }
   ],
   "source": [
    "# importing the right libraries\n",
    "\n",
    "from sklearn.feature_extraction.text import TfidfTransformer\n",
    "from sklearn.feature_extraction.text import TfidfVectorizer\n",
    "\n",
    "\n",
    "# making tf-idf vector\n",
    "\n",
    "tf_idf_vect = TfidfVectorizer(ngram_range=(1,2))\n",
    "final_tf_idf = tf_idf_vect.fit_transform(final['CleanedText'].values)\n",
    "\n",
    "\n",
    "# checking the properties of tf-idf vector\n",
    "\n",
    "print(\"The type of count vectorizer \",type(final_tf_idf))\n",
    "print(\"The shape of out text TFIDF vectorizer \",final_tf_idf.get_shape())\n",
    "print(\"The number of unique words including both unigrams and bigrams \", final_tf_idf.get_shape()[1])"
   ]
  },
  {
   "cell_type": "code",
   "execution_count": 28,
   "metadata": {
    "collapsed": true
   },
   "outputs": [],
   "source": [
    "# Taking first 70% as Training-data and remaining 30% as Test-data\n",
    "\n",
    "l = 0.7 * final_tf_idf.shape[0]\n",
    "X_train_tf = final_tf_idf[0:int(l)]\n",
    "y_train_tf = labels[0:int(l)]\n",
    "X_test_tf = final_tf_idf[int(l):]\n",
    "y_test_tf = labels[int(l):]"
   ]
  },
  {
   "cell_type": "markdown",
   "metadata": {},
   "source": [
    "### Bernoulli Naive-Bayes"
   ]
  },
  {
   "cell_type": "code",
   "execution_count": 29,
   "metadata": {
    "collapsed": true
   },
   "outputs": [],
   "source": [
    "# Applying Cross-Validation to find optimal alpha \n",
    "\n",
    "alpha=np.linspace(10**-5,10, 50) # taking 100 values between 10^-4 to 10 to do CV \n",
    "cv_scores = []\n",
    "for i in alpha:\n",
    "    nb_tf=BernoulliNB(alpha=i)\n",
    "    scores = cross_val_score(nb_tf, X_train_tf, y_train_tf, cv=10, scoring='accuracy', n_jobs=-1)\n",
    "    cv_scores.append(scores.mean())"
   ]
  },
  {
   "cell_type": "code",
   "execution_count": 30,
   "metadata": {
    "collapsed": false
   },
   "outputs": [
    {
     "name": "stdout",
     "output_type": "stream",
     "text": [
      "\n",
      "The optimal alhpa value for the model is 0.000010.\n",
      "Maximum score for the model is 90.03 %.\n"
     ]
    }
   ],
   "source": [
    "# changing to misclassification error\n",
    "MSE = [1 - x for x in cv_scores]\n",
    "\n",
    "# determining best alpha\n",
    "bern_tf_alpha = alpha[MSE.index(min(MSE))]\n",
    "print('\\nThe optimal alhpa value for the model is %f.' % bern_tf_alpha)\n",
    "print(\"Maximum score for the model is {:.2f} %.\".format(max(cv_scores) * 100))"
   ]
  },
  {
   "cell_type": "code",
   "execution_count": 31,
   "metadata": {
    "collapsed": false
   },
   "outputs": [
    {
     "data": {
      "text/plain": [
       "BernoulliNB(alpha=1e-05, binarize=0.0, class_prior=None, fit_prior=True)"
      ]
     },
     "execution_count": 31,
     "metadata": {},
     "output_type": "execute_result"
    }
   ],
   "source": [
    "# Fitting Bernoulli Naive-Bayes with optimal alpha\n",
    "\n",
    "bn_tf=BernoulliNB(alpha=bern_tf_alpha)\n",
    "bn_tf.fit(X_train_tf , y_train_tf)"
   ]
  },
  {
   "cell_type": "code",
   "execution_count": 32,
   "metadata": {
    "collapsed": false
   },
   "outputs": [
    {
     "name": "stdout",
     "output_type": "stream",
     "text": [
      "Accuracy score for TF-IDF model on test data is 88.56 %.\n"
     ]
    }
   ],
   "source": [
    "# predicting the values and calculating accuracy score\n",
    "\n",
    "y_pred_tf = bn_tf.predict(X_test_tf)\n",
    "accuracy_tf = accuracy_score(y_test_tf , y_pred_tf)\n",
    "print(\"Accuracy score for TF-IDF model on test data is {:.2f} %.\".format(accuracy_tf * 100))"
   ]
  },
  {
   "cell_type": "code",
   "execution_count": 33,
   "metadata": {
    "collapsed": false
   },
   "outputs": [
    {
     "name": "stdout",
     "output_type": "stream",
     "text": [
      "Confusion Matrix:\n",
      "\n"
     ]
    },
    {
     "data": {
      "image/png": "[encoded data removed]",
      "text/plain": [
       "<Figure size 432x288 with 2 Axes>"
      ]
     },
     "metadata": {},
     "output_type": "display_data"
    },
    {
     "name": "stdout",
     "output_type": "stream",
     "text": [
      "TPR for TF-IDF model on test data is 98.43\n",
      "FPR for TF-IDF model on test data is 73.84\n",
      "TNR for TF-IDF model on test data is 26.16\n",
      "FNR for TF-IDF model on test data is 1.57\n"
     ]
    }
   ],
   "source": [
    "# Printing the confusion matrix\n",
    "\n",
    "cm_bern_tf = confusion_matrix(y_test_tf , y_pred_tf)\n",
    "print(\"Confusion Matrix:\\n\")\n",
    "sns.heatmap(cm_bern_tf, annot=True, fmt='d')\n",
    "plt.show()\n",
    "\n",
    "# calculating TPR, FPR, TNR, FNR\n",
    "\n",
    "tn, fp, fn, tp = cm_bern_tf.ravel()\n",
    "\n",
    "tnr_tf = tn/(tn+fp)\n",
    "fpr_tf = fp/(tn+fp)\n",
    "fnr_tf = fn/(fn+tp)\n",
    "tpr_tf = tp/(fn+tp)\n",
    "\n",
    "print(\"TPR for TF-IDF model on test data is {:.2f}\".format(tpr_tf*100))\n",
    "print(\"FPR for TF-IDF model on test data is {:.2f}\".format(fpr_tf*100))\n",
    "print(\"TNR for TF-IDF model on test data is {:.2f}\".format(tnr_tf*100))\n",
    "print(\"FNR for TF-IDF model on test data is {:.2f}\".format(fnr_tf*100))"
   ]
  },
  {
   "cell_type": "code",
   "execution_count": 34,
   "metadata": {
    "collapsed": false
   },
   "outputs": [
    {
     "name": "stdout",
     "output_type": "stream",
     "text": [
      "Precision score for the model on test data is 0.89\n",
      "Recall score for the model on test data is 0.98\n",
      "F1 score for the model on test data is 0.94\n"
     ]
    }
   ],
   "source": [
    "# as precision_score expect matrix in [0,1] form instead of [Positive, Negative]\n",
    "# Same goes with recall_score and f1_score\n",
    "\n",
    "yTestTF = y_test_tf=='Positive'\n",
    "yPredTF = y_pred_tf=='Positive'\n",
    "\n",
    "# calculating precision, recall and confusion-matrix\n",
    "\n",
    "precision_tf = precision_score(yTestTF , yPredTF)\n",
    "recall_tf = recall_score(yTestTF , yPredTF)\n",
    "f1_tf = f1_score(yTestTF , yPredTF)\n",
    "\n",
    "\n",
    "print(\"Precision score for the model on test data is {:.2f}\".format(precision_tf))\n",
    "print(\"Recall score for the model on test data is {:.2f}\".format(recall_tf))\n",
    "print(\"F1 score for the model on test data is {:.2f}\".format(f1_tf))"
   ]
  },
  {
   "cell_type": "code",
   "execution_count": 35,
   "metadata": {
    "collapsed": false
   },
   "outputs": [
    {
     "name": "stdout",
     "output_type": "stream",
     "text": [
      "Negative Words are:\n",
      " ['get' 'buy' 'flavor' 'good' 'tri' 'would' 'one' 'product' 'like' 'tast']\n",
      "\n",
      "Positive Words are:\n",
      " ['tri' 'product' 'use' 'one' 'flavor' 'love' 'good' 'great' 'like' 'tast']\n"
     ]
    }
   ],
   "source": [
    "# Taking values for probabilities for BoW\n",
    "\n",
    "neg_tf = bn_tf.feature_log_prob_[0, :].argsort()\n",
    "pos_tf = bn_tf.feature_log_prob_[1, :].argsort()\n",
    "\n",
    "# Taking words with Maximum Probabilities for negative and positive labels\n",
    "neg_words = np.take(tf_idf_vect.get_feature_names(), neg_tf[-10:])\n",
    "pos_words = np.take(tf_idf_vect.get_feature_names(), pos_tf[-10:])\n",
    "\n",
    "print(\"Negative Words are:\\n\" , neg_words, end='\\n\\n')\n",
    "print(\"Positive Words are:\\n\" , pos_words)"
   ]
  },
  {
   "cell_type": "markdown",
   "metadata": {},
   "source": [
    "### Multinomial Naive-Bayes"
   ]
  },
  {
   "cell_type": "code",
   "execution_count": 37,
   "metadata": {
    "collapsed": true
   },
   "outputs": [],
   "source": [
    "# Applying Cross-Validation to find optimal alpha \n",
    "\n",
    "alpha=np.linspace(10**-5,10, 50) # taking 100 values between 10^-5 to 10 to do CV \n",
    "cv_scores = []\n",
    "for i in alpha:\n",
    "    nm_tf= MultinomialNB(alpha=i)\n",
    "    scores = cross_val_score(nm_tf, X_train_tf, y_train_tf, cv=10, scoring='accuracy', n_jobs=-1)\n",
    "    cv_scores.append(scores.mean())"
   ]
  },
  {
   "cell_type": "code",
   "execution_count": 38,
   "metadata": {
    "collapsed": false
   },
   "outputs": [
    {
     "name": "stdout",
     "output_type": "stream",
     "text": [
      "\n",
      "The optimal alhpa value for MultinomialNB on TF-IDF model is 0.000010.\n",
      "Maximum score for the model is 89.84 %.\n"
     ]
    }
   ],
   "source": [
    "# changing to misclassification error\n",
    "MSE = [1 - x for x in cv_scores]\n",
    "\n",
    "# determining best alpha\n",
    "mult_tf_alpha = alpha[MSE.index(min(MSE))]\n",
    "print('\\nThe optimal alhpa value for MultinomialNB on TF-IDF model is %f.' % mult_tf_alpha)\n",
    "print(\"Maximum score for the model is {:.2f} %.\".format(max(cv_scores) * 100))"
   ]
  },
  {
   "cell_type": "code",
   "execution_count": 39,
   "metadata": {
    "collapsed": false
   },
   "outputs": [
    {
     "data": {
      "text/plain": [
       "MultinomialNB(alpha=1e-05, class_prior=None, fit_prior=True)"
      ]
     },
     "execution_count": 39,
     "metadata": {},
     "output_type": "execute_result"
    }
   ],
   "source": [
    "# Fitting Multinomial Naive-Bayes with optimal alpha\n",
    "\n",
    "mn_tf=MultinomialNB(alpha=mult_tf_alpha)\n",
    "mn_tf.fit(X_train_tf , y_train_tf)"
   ]
  },
  {
   "cell_type": "code",
   "execution_count": 40,
   "metadata": {
    "collapsed": false
   },
   "outputs": [
    {
     "name": "stdout",
     "output_type": "stream",
     "text": [
      "Accuracy score for the test data is 88.32 %.\n"
     ]
    }
   ],
   "source": [
    "# predicting the values and calculating accuracy score\n",
    "\n",
    "y_pred_tf = mn_tf.predict(X_test_tf)\n",
    "accuracy_tf = accuracy_score(y_test_tf , y_pred_tf)\n",
    "print(\"Accuracy score for the test data is {:.2f} %.\".format(accuracy_tf * 100))"
   ]
  },
  {
   "cell_type": "code",
   "execution_count": 41,
   "metadata": {
    "collapsed": false
   },
   "outputs": [
    {
     "name": "stdout",
     "output_type": "stream",
     "text": [
      "Confusion Matrix:\n",
      "\n"
     ]
    },
    {
     "data": {
      "image/png": "[encoded data removed]",
      "text/plain": [
       "<Figure size 432x288 with 2 Axes>"
      ]
     },
     "metadata": {},
     "output_type": "display_data"
    },
    {
     "name": "stdout",
     "output_type": "stream",
     "text": [
      "TPR for the model on test data is 98.43\n",
      "FPR for the model on test data is 75.57\n",
      "TNR for the model on test data is 24.43\n",
      "FNR for the model on test data is 1.57\n"
     ]
    }
   ],
   "source": [
    "# Printing the confusion matrix\n",
    "\n",
    "cm_mult_tf = confusion_matrix(y_test_tf , y_pred_tf)\n",
    "print(\"Confusion Matrix:\\n\")\n",
    "sns.heatmap(cm_mult_tf, annot=True, fmt='d')\n",
    "plt.show()\n",
    "\n",
    "# calculating TPR, FPR, TNR, FNR\n",
    "\n",
    "tn, fp, fn, tp = cm_mult_tf.ravel()\n",
    "\n",
    "tnr_tf = tn/(tn+fp)\n",
    "fpr_tf = fp/(tn+fp)\n",
    "fnr_tf = fn/(fn+tp)\n",
    "tpr_tf = tp/(fn+tp)\n",
    "\n",
    "print(\"TPR for the model on test data is {:.2f}\".format(tpr_tf*100))\n",
    "print(\"FPR for the model on test data is {:.2f}\".format(fpr_tf*100))\n",
    "print(\"TNR for the model on test data is {:.2f}\".format(tnr_tf*100))\n",
    "print(\"FNR for the model on test data is {:.2f}\".format(fnr_tf*100))"
   ]
  },
  {
   "cell_type": "code",
   "execution_count": 42,
   "metadata": {
    "collapsed": false
   },
   "outputs": [
    {
     "name": "stdout",
     "output_type": "stream",
     "text": [
      "Precision score for the model on test data is 0.89\n",
      "Recall score for the model on test data is 0.98\n",
      "F1 score for the model on test data is 0.94\n"
     ]
    }
   ],
   "source": [
    "# as precision_score expect matrix in [0,1] form instead of [Positive, Negative]\n",
    "# Same goes with recall_score and f1_score\n",
    "\n",
    "yTestTF = y_test_tf=='Positive'\n",
    "yPredTF = y_pred_tf=='Positive'\n",
    "\n",
    "# calculating precision, recall and confusion-matrix\n",
    "\n",
    "precision_tf = precision_score(yTestTF , yPredTF)\n",
    "recall_tf = recall_score(yTestTF , yPredTF)\n",
    "f1_tf = f1_score(yTestTF , yPredTF)\n",
    "\n",
    "\n",
    "print(\"Precision score for the model on test data is {:.2f}\".format(precision_tf))\n",
    "print(\"Recall score for the model on test data is {:.2f}\".format(recall_tf))\n",
    "print(\"F1 score for the model on test data is {:.2f}\".format(f1_tf))"
   ]
  },
  {
   "cell_type": "code",
   "execution_count": 43,
   "metadata": {
    "collapsed": false
   },
   "outputs": [
    {
     "name": "stdout",
     "output_type": "stream",
     "text": [
      "Negative Words are:\n",
      " ['tea' 'buy' 'order' 'tri' 'flavor' 'one' 'would' 'product' 'like' 'tast']\n",
      "\n",
      "Positive Words are:\n",
      " ['one' 'use' 'product' 'flavor' 'like' 'love' 'good' 'tast' 'great' 'tea']\n"
     ]
    }
   ],
   "source": [
    "# Taking values for probabilities for BoW\n",
    "\n",
    "neg_tf = mn_tf.feature_log_prob_[0, :].argsort()\n",
    "pos_tf = mn_tf.feature_log_prob_[1, :].argsort()\n",
    "\n",
    "# Taking words with Maximum Probabilities for negative and positive labels\n",
    "neg_words = np.take(tf_idf_vect.get_feature_names(), neg_tf[-10:])\n",
    "pos_words = np.take(tf_idf_vect.get_feature_names(), pos_tf[-10:])\n",
    "\n",
    "print(\"Negative Words are:\\n\" , neg_words, end='\\n\\n')\n",
    "print(\"Positive Words are:\\n\" , pos_words)"
   ]
  },
  {
   "cell_type": "markdown",
   "metadata": {},
   "source": [
    "# 4.0 Conclusion\n",
    "\n",
    "Naive-Bayes algorithm was successfully applied on Amazon Food Reviews dataset to check for the polarity of the review.\n",
    "\n",
    "In order to accomplish this task, 2 types of Text processing techniques, namely Bag of Words and TF-IDF were applied. First the optimal value of alpha was estimated using cross validation and then the model was fit using the value of optimal alpha.\n",
    "\n",
    "Post successful fitting of the model, the polarity (labels) on the test dataset was estimated using the model and was checked against the true polarity. Based on this, Accuracy, Precision-Score, Recall Score and F1-Score were calculated. \n",
    "\n",
    "The values of all the parameters are tabulated in the following table-\n",
    "\n",
    "\n",
    "<html>\n",
    "<head>\n",
    "<style>\n",
    "table {\n",
    "    font-family: arial, sans-serif;\n",
    "    border-collapse: collapse;\n",
    "    width: 100%;\n",
    "}\n",
    "\n",
    "td, th {\n",
    "    border: 1px solid #dddddd;\n",
    "    text-align: left;\n",
    "    padding: 8px;\n",
    "}\n",
    "\n",
    "tr:nth-child(even) {\n",
    "    background-color: #dddddd;\n",
    "}\n",
    "</style>\n",
    "</head>\n",
    "<body>\n",
    "\n",
    "<table>\n",
    "  <tr>\n",
    "    <th>Model</th>\n",
    "    <th>Algorithm</th>\n",
    "    <th>Best Alpha</th>\n",
    "    <th>Cross Validation Accuracy</th>\n",
    "    <th>Test Accuracy</th>\n",
    "    <th>Precision Score</th>\n",
    "    <th>Recall Score</th>\n",
    "    <th>F1 Score</th>\n",
    "  </tr>\n",
    "  <tr>\n",
    "    <td>Bag-of-Words</td>\n",
    "    <td>BernoulliNB</td>\n",
    "    <td> 0.0001</td>\n",
    "    <td>90.14 %</td>\n",
    "    <td>89.24 %</td>\n",
    "    <td>0.93</td>\n",
    "    <td>0.95</td>\n",
    "    <td>0.94</td>\n",
    "  </tr>\n",
    "  <tr>\n",
    "    <td>Bag-of-Words</td>\n",
    "    <td>MultinomialNB</td>\n",
    "    <td>1.42</td>\n",
    "    <td>91.09 %</td>\n",
    "    <td>90.24 %</td>\n",
    "    <td>0.92</td>\n",
    "    <td>0.97</td>\n",
    "    <td>0.94</td>\n",
    "  </tr>\n",
    "  <tr>\n",
    "    <td>TF-IDF</td>\n",
    "    <td>BernoulliNB</td>\n",
    "    <td>0.00001</td>\n",
    "    <td>90.03 %</td>\n",
    "    <td>88.56 %</td>\n",
    "    <td>0.89</td>\n",
    "    <td>0.98</td>\n",
    "    <td>0.94</td>\n",
    "  </tr>\n",
    "  <tr>\n",
    "    <td>TF-IDF</td>\n",
    "    <td>MultinomialNB</td>\n",
    "    <td>0.00001</td>\n",
    "    <td>89.84 %</td>\n",
    "    <td>88.32 %</td>\n",
    "    <td>0.89</td>\n",
    "    <td>0.98</td>\n",
    "    <td>0.94</td>\n",
    "  </tr>\n",
    " \n",
    "</table>\n",
    "\n",
    "\n",
    "\n",
    "</body>\n",
    "</html>\n",
    "\n",
    "### Observations\n",
    "\n",
    "1. In terms of F1-Score, all techniques perform almost similar.\n",
    "2. The distinct words for both positive and negative reviews are quite similar."
   ]
  },
  {
   "cell_type": "markdown",
   "metadata": {},
   "source": []
  }
 ],
 "metadata": {
  "kernelspec": {
   "display_name": "Python 3",
   "language": "python",
   "name": "python3"
  },
  "language_info": {
   "codemirror_mode": {
    "name": "ipython",
    "version": 3
   },
   "file_extension": ".py",
   "mimetype": "text/x-python",
   "name": "python",
   "nbconvert_exporter": "python",
   "pygments_lexer": "ipython3",
   "version": "3.5.2"
  },
  "widgets": {
   "state": {},
   "version": "1.1.2"
  }
 },
 "nbformat": 4,
 "nbformat_minor": 2
}
