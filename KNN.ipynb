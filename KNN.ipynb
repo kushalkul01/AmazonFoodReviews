{
 "cells": [
  {
   "cell_type": "code",
   "execution_count": 1,
   "metadata": {},
   "outputs": [
    {
     "name": "stderr",
     "output_type": "stream",
     "text": [
      "/usr/lib/python3/dist-packages/sklearn/cross_validation.py:44: DeprecationWarning: This module was deprecated in version 0.18 in favor of the model_selection module into which all the refactored classes and functions are moved. Also note that the interface of the new CV iterators are different from that of this module. This module will be removed in 0.20.\n",
      "  \"This module will be removed in 0.20.\", DeprecationWarning)\n"
     ]
    }
   ],
   "source": [
    "# Importing the required libraries\n",
    "\n",
    "import sqlite3\n",
    "import pandas as pd\n",
    "import numpy as np\n",
    "import matplotlib.pyplot as plt\n",
    "import seaborn as sns\n",
    "from sklearn.cross_validation import train_test_split\n",
    "from sklearn.neighbors import KNeighborsClassifier\n",
    "from sklearn.metrics import accuracy_score, precision_score, recall_score, f1_score\n",
    "from sklearn.cross_validation import cross_val_score\n",
    "from collections import Counter\n",
    "from sklearn.metrics import accuracy_score\n",
    "from sklearn import cross_validation\n",
    "import time\n",
    "import warnings\n",
    "warnings.filterwarnings('ignore')\n",
    "%matplotlib inline "
   ]
  },
  {
   "cell_type": "markdown",
   "metadata": {},
   "source": [
    "# 1.0 Data Preprocessing"
   ]
  },
  {
   "cell_type": "code",
   "execution_count": 2,
   "metadata": {},
   "outputs": [
    {
     "data": {
      "text/plain": [
       "(364171, 11)"
      ]
     },
     "execution_count": 2,
     "metadata": {},
     "output_type": "execute_result"
    }
   ],
   "source": [
    "# The score has been turned into binary class- Positive and Negative\n",
    "\n",
    "con = sqlite3.connect(r\"final.sqlite\")\n",
    "filtered_data = pd.read_sql_query(\"\"\"\n",
    "SELECT *\n",
    "FROM Reviews\n",
    "\"\"\", con)\n",
    "filtered_data.shape"
   ]
  },
  {
   "cell_type": "code",
   "execution_count": 3,
   "metadata": {},
   "outputs": [
    {
     "data": {
      "text/plain": [
       "Positive    35595\n",
       "Negative     4405\n",
       "Name: Score, dtype: int64"
      ]
     },
     "execution_count": 3,
     "metadata": {},
     "output_type": "execute_result"
    }
   ],
   "source": [
    "# Taking first 40,000 points for analysis\n",
    "\n",
    "filtered_data = filtered_data.sort_values(by=['Time'])\n",
    "final = filtered_data[0:40000]\n",
    "final.Score.value_counts()"
   ]
  },
  {
   "cell_type": "code",
   "execution_count": 4,
   "metadata": {},
   "outputs": [
    {
     "name": "stdout",
     "output_type": "stream",
     "text": [
      "[nltk_data] Downloading package stopwords to\n",
      "[nltk_data]     /home/kushalkul01/nltk_data...\n",
      "[nltk_data]   Package stopwords is already up-to-date!\n"
     ]
    }
   ],
   "source": [
    "import re\n",
    "import string\n",
    "import nltk\n",
    "nltk.download('stopwords')\n",
    "from nltk.corpus import stopwords\n",
    "from nltk.stem.wordnet import WordNetLemmatizer\n",
    "from nltk.stem import SnowballStemmer\n",
    "\n",
    "i=0;\n",
    "for sent in final['Text'].values:\n",
    "    if (len(re.findall('<.*?>', sent))):\n",
    "        #print(i)\n",
    "        #print(sent)\n",
    "        break;\n",
    "    i += 1;    \n",
    "\n",
    "def cleanhtml(sentence): #function to clean the word of any html-tags\n",
    "    cleanr = re.compile('<.*?>')\n",
    "    cleantext = re.sub(cleanr, ' ', sentence)\n",
    "    return cleantext\n",
    "\n",
    "stop = set(stopwords.words('english')) #set of stopwords\n",
    "sno = SnowballStemmer('english') #initialising the snowball stemmer\n",
    "\n",
    "def cleanpunc(sentence): #function to clean the word of any punctuation or special characters\n",
    "    cleaned = re.sub(r'[?|!|\\'|\"|#]',r'',sentence)\n",
    "    cleaned = re.sub(r'[.|,|)|(|\\|/]',r' ',cleaned)\n",
    "    return  cleaned"
   ]
  },
  {
   "cell_type": "code",
   "execution_count": 5,
   "metadata": {},
   "outputs": [],
   "source": [
    "i=0\n",
    "str1=' '\n",
    "final_string=[]\n",
    "all_positive_words=[] # store words from +ve reviews here\n",
    "all_negative_words=[] # store words from -ve reviews here.\n",
    "s=''\n",
    "for sent in final['Text'].values:\n",
    "    filtered_sentence=[]\n",
    "    #print(sent);\n",
    "    sent=cleanhtml(sent) # remove HTMl tags\n",
    "    for w in sent.split():\n",
    "        for cleaned_words in cleanpunc(w).split():\n",
    "            if((cleaned_words.isalpha()) & (len(cleaned_words)>2)):    \n",
    "                if(cleaned_words.lower() not in stop):\n",
    "                    s=(sno.stem(cleaned_words.lower())).encode('utf8')\n",
    "                    filtered_sentence.append(s)\n",
    "                    if (final['Score'].values)[i] == 'Positive': \n",
    "                        all_positive_words.append(s) #list of all words used to describe positive reviews\n",
    "                    if(final['Score'].values)[i] == 'Negative':\n",
    "                        all_negative_words.append(s) #list of all words used to describe negative reviews reviews\n",
    "                else:\n",
    "                    continue\n",
    "            else:\n",
    "                continue \n",
    "    #print(filtered_sentence)\n",
    "    str1 = b\" \".join(filtered_sentence) #final string of cleaned words\n",
    "    #print(\"***********************************************************************\")\n",
    "    \n",
    "    final_string.append(str1)\n",
    "    i+=1"
   ]
  },
  {
   "cell_type": "code",
   "execution_count": 6,
   "metadata": {},
   "outputs": [],
   "source": [
    "final['CleanedText']=final_string #adding a column of CleanedText which displays the data after pre-processing of the review \n",
    "final['CleanedText']=final['CleanedText'].str.decode(\"utf-8\")"
   ]
  },
  {
   "cell_type": "code",
   "execution_count": 7,
   "metadata": {},
   "outputs": [
    {
     "name": "stdout",
     "output_type": "stream",
     "text": [
      "Shape of y-vector is (40000,)\n"
     ]
    }
   ],
   "source": [
    "final = final.sort_values(by=['Time']) #Just to be double sure that dataframe is sorted according to time\n",
    "\n",
    "# Taking labels to make y-dimension\n",
    "labels=final['Score'].values\n",
    "\n",
    "# Checking the shape of labels\n",
    "print(\"Shape of y-vector is\",labels.shape)"
   ]
  },
  {
   "cell_type": "code",
   "execution_count": 8,
   "metadata": {},
   "outputs": [],
   "source": [
    "# Taking initial 70% data as training data and remaining 30% as test data\n",
    "\n",
    "l = 0.7 * final.shape[0]\n",
    "X_train = final['CleanedText'][0:int(l)]\n",
    "X_test = final['CleanedText'][int(l):]\n",
    "y_train = labels[0:int(l)]\n",
    "y_test = labels[int(l):]"
   ]
  },
  {
   "cell_type": "markdown",
   "metadata": {},
   "source": [
    "# 2.0 Bag of Words"
   ]
  },
  {
   "cell_type": "code",
   "execution_count": 9,
   "metadata": {},
   "outputs": [
    {
     "name": "stdout",
     "output_type": "stream",
     "text": [
      "The type of count vectorizer  <class 'scipy.sparse.csr.csr_matrix'>\n"
     ]
    }
   ],
   "source": [
    "# Making the bag of words model\n",
    "# Fitting the model on Training data and transforming the test data on the fitted model\n",
    "# This helps in taking care of data leakage\n",
    "\n",
    "from sklearn.feature_extraction.text import CountVectorizer\n",
    "bow = CountVectorizer()\n",
    "X_train_bow = bow.fit_transform(X_train)\n",
    "X_test_bow = bow.transform(X_test)\n",
    "y_train_bow = y_train\n",
    "y_test_bow = y_test\n",
    "print(\"The type of count vectorizer \",type(X_train_bow))"
   ]
  },
  {
   "cell_type": "code",
   "execution_count": 10,
   "metadata": {},
   "outputs": [],
   "source": [
    "# Normalizing the data\n",
    "\n",
    "from sklearn.preprocessing import StandardScaler\n",
    "ss = StandardScaler(with_mean=False)\n",
    "X_train_bow = ss.fit_transform(X_train_bow)\n",
    "X_test_bow = ss.transform(X_test_bow)"
   ]
  },
  {
   "cell_type": "code",
   "execution_count": 11,
   "metadata": {},
   "outputs": [],
   "source": [
    "# Applying K-NN \n",
    "\n",
    "neighbors=list(range(1,51,2))\n",
    "cv_scores = []\n",
    "for i in neighbors:\n",
    "    knn_bow=KNeighborsClassifier(n_neighbors=i)\n",
    "    scores = cross_val_score(knn_bow, X_train_bow, y_train_bow, cv=10, scoring='accuracy', n_jobs=-1)\n",
    "    cv_scores.append(scores.mean())"
   ]
  },
  {
   "cell_type": "code",
   "execution_count": 12,
   "metadata": {},
   "outputs": [
    {
     "name": "stdout",
     "output_type": "stream",
     "text": [
      "\n",
      "The optimal number of neighbors is 5.\n",
      "Maximum score for BoW model is 89.21 %.\n"
     ]
    }
   ],
   "source": [
    "# changing to misclassification error\n",
    "MSE = [1 - x for x in cv_scores]\n",
    "\n",
    "# determining best k\n",
    "optimal_k = neighbors[MSE.index(min(MSE))]\n",
    "print('\\nThe optimal number of neighbors is %d.' % optimal_k)\n",
    "print(\"Maximum score for BoW model is {:.2f} %.\".format(max(cv_scores) * 100))"
   ]
  },
  {
   "cell_type": "code",
   "execution_count": 14,
   "metadata": {},
   "outputs": [
    {
     "data": {
      "image/png": "[encoded data removed]",
      "text/plain": [
       "<Figure size 432x288 with 1 Axes>"
      ]
     },
     "metadata": {},
     "output_type": "display_data"
    }
   ],
   "source": [
    "# Plot - K vs MSE\n",
    "\n",
    "plt.plot(neighbors , MSE)\n",
    "plt.xlabel(\"K-Nearest Neighbors\")\n",
    "plt.ylabel(\"Misclassification Error\")\n",
    "plt.title(\"Plot Showing variation of Error with K\")\n",
    "plt.show()"
   ]
  },
  {
   "cell_type": "markdown",
   "metadata": {},
   "source": [
    "### 2.3 Fitting the best model and calculating different performance metrics"
   ]
  },
  {
   "cell_type": "code",
   "execution_count": 15,
   "metadata": {},
   "outputs": [],
   "source": [
    "knn = KNeighborsClassifier(n_neighbors=optimal_k)\n",
    "knn.fit(X_train_bow , y_train_bow)\n",
    "y_pred_bow = knn.predict(X_test_bow)\n",
    "accuracy_bow = accuracy_score(y_test_bow , y_pred_bow)"
   ]
  },
  {
   "cell_type": "code",
   "execution_count": 16,
   "metadata": {},
   "outputs": [
    {
     "name": "stdout",
     "output_type": "stream",
     "text": [
      "Accuracy score for the model on test data is 88.94 %.\n"
     ]
    }
   ],
   "source": [
    "print(\"Accuracy score for the model on test data is {:.2f} %.\".format(accuracy_bow * 100))"
   ]
  },
  {
   "cell_type": "code",
   "execution_count": 17,
   "metadata": {},
   "outputs": [
    {
     "name": "stdout",
     "output_type": "stream",
     "text": [
      "Confusion Matrix:\n"
     ]
    },
    {
     "data": {
      "image/png": "[encoded data removed]",
      "text/plain": [
       "<Figure size 432x288 with 2 Axes>"
      ]
     },
     "metadata": {},
     "output_type": "display_data"
    },
    {
     "name": "stdout",
     "output_type": "stream",
     "text": [
      "TPR for the model on test data is 99.50\n",
      "FPR for the model on test data is 95.22\n",
      "TNR for the model on test data is 4.78\n",
      "FNR for the model on test data is 0.50\n",
      "\n"
     ]
    }
   ],
   "source": [
    "# Printing the confusion matrix\n",
    "\n",
    "from sklearn.metrics import confusion_matrix\n",
    "cm_bow = confusion_matrix(y_test_bow , y_pred_bow)\n",
    "print(\"Confusion Matrix:\")\n",
    "sns.heatmap(cm_bow, annot =True, fmt='d')\n",
    "plt.show()\n",
    "\n",
    "# calculating TPR, FPR, TNR, FNR\n",
    "\n",
    "tn, fp, fn, tp = cm_bow.ravel()\n",
    "\n",
    "tnr_bow = tn/(tn+fp)\n",
    "fpr_bow = fp/(tn+fp)\n",
    "fnr_bow = fn/(fn+tp)\n",
    "tpr_bow = tp/(fn+tp)\n",
    "\n",
    "print(\"TPR for the model on test data is {:.2f}\".format(tpr_bow*100))\n",
    "print(\"FPR for the model on test data is {:.2f}\".format(fpr_bow*100))\n",
    "print(\"TNR for the model on test data is {:.2f}\".format(tnr_bow*100))\n",
    "print(\"FNR for the model on test data is {:.2f}\\n\".format(fnr_bow*100))"
   ]
  },
  {
   "cell_type": "code",
   "execution_count": 18,
   "metadata": {},
   "outputs": [
    {
     "name": "stdout",
     "output_type": "stream",
     "text": [
      "Precision score for the model on test data is 0.89\n",
      "Recall score for the model on test data is 1.00\n",
      "F1 score for the model on test data is 0.94\n",
      "\n"
     ]
    }
   ],
   "source": [
    "# as precision_score expect matrix in [0,1] form instead of [Positive, Negative]\n",
    "# Same goes with recall_score and f1_score\n",
    "\n",
    "yTestBow = y_test_bow=='Positive'\n",
    "yPredBow = y_pred_bow=='Positive'\n",
    "\n",
    "# calculating precision, recall and confusion-matrix\n",
    "\n",
    "from sklearn.metrics import precision_score, recall_score, f1_score\n",
    "precision_bow = precision_score(yTestBow , yPredBow)\n",
    "recall_bow = recall_score(yTestBow , yPredBow)\n",
    "f1_bow = f1_score(yTestBow , yPredBow)\n",
    "\n",
    "print(\"Precision score for the model on test data is {:.2f}\".format(precision_bow))\n",
    "print(\"Recall score for the model on test data is {:.2f}\".format(recall_bow))\n",
    "print(\"F1 score for the model on test data is {:.2f}\\n\".format(f1_bow))"
   ]
  },
  {
   "cell_type": "code",
   "execution_count": 22,
   "metadata": {},
   "outputs": [
    {
     "name": "stdout",
     "output_type": "stream",
     "text": [
      "0.09366453396401496\n"
     ]
    }
   ],
   "source": [
    "# Making a dense matrix using TruncatedSVD\n",
    "from sklearn.decomposition import TruncatedSVD\n",
    "svd = TruncatedSVD(n_components=100, n_iter=5, random_state=0)\n",
    "svd.fit(X_train_bow, y_train_bow)\n",
    "print(svd.explained_variance_ratio_.sum())"
   ]
  },
  {
   "cell_type": "code",
   "execution_count": 23,
   "metadata": {},
   "outputs": [
    {
     "name": "stdout",
     "output_type": "stream",
     "text": [
      "Time taken by brute force is 0.129055 seconds\n",
      "Time taken by KDTree is 0.338820 seconds\n"
     ]
    }
   ],
   "source": [
    "X_train_svd = svd.transform(X_train_bow)\n",
    "y_train_svd = y_train_bow\n",
    "\n",
    "# Fitting K-NN with optimal K\n",
    "\n",
    "# Checking for time before and after fitting to check with KDTree\n",
    "\n",
    "# Using a subset of whole dataset\n",
    "\n",
    "knn_t1 = time.time()\n",
    "knn_bow = KNeighborsClassifier(n_neighbors=optimal_k, algorithm='brute')\n",
    "knn_bow.fit(X_train_svd , y_train_svd)\n",
    "knn_t2 = time.time()\n",
    "\n",
    "\n",
    "\n",
    "# Fitting Kd-tree with optimal K and taking start-time and end-time as well \n",
    "\n",
    "kd_t1 = time.time()\n",
    "kd_bow=KNeighborsClassifier(n_neighbors=optimal_k , algorithm='kd_tree')\n",
    "kd_bow.fit(X_train_svd , y_train_svd)\n",
    "kd_t2 = time.time()\n",
    "\n",
    "# calculating the time difference\n",
    "time_knn = knn_t2 - knn_t1\n",
    "time_kd = kd_t2 - kd_t1 \n",
    "\n",
    "print(\"Time taken by brute force is {:.6f} seconds\".format(time_knn))\n",
    "print(\"Time taken by KDTree is {:.6f} seconds\".format(time_kd))"
   ]
  },
  {
   "cell_type": "markdown",
   "metadata": {},
   "source": [
    "Clearly KDTree took more time. This might be due to high number of dimensions and rows. Let's try with fewer dimenstions and rows."
   ]
  },
  {
   "cell_type": "code",
   "execution_count": 26,
   "metadata": {},
   "outputs": [
    {
     "name": "stdout",
     "output_type": "stream",
     "text": [
      "Variance explained by SVD : 0.02059079332602449\n",
      "Time taken by brute force is 0.001941 seconds\n",
      "Time taken by KDTree is 0.001849 seconds\n"
     ]
    }
   ],
   "source": [
    "# Making a dense matrix using TruncatedSVD\n",
    "from sklearn.decomposition import TruncatedSVD\n",
    "svd = TruncatedSVD(n_components=10, n_iter=5, random_state=0)\n",
    "svd.fit(X_train_bow, y_train_bow)\n",
    "print(\"Variance explained by SVD :\",svd.explained_variance_ratio_.sum())\n",
    "\n",
    "X_train_svd = svd.transform(X_train_bow)\n",
    "y_train_svd = y_train_bow\n",
    "\n",
    "# Fitting K-NN with optimal K\n",
    "\n",
    "# Checking for time before and after fitting to check with KDTree\n",
    "\n",
    "# Using a subset of whole dataset\n",
    "\n",
    "knn_t1 = time.time()\n",
    "knn_bow = KNeighborsClassifier(n_neighbors=optimal_k, algorithm='brute')\n",
    "knn_bow.fit(X_train_svd[:1000] , y_train_svd[:1000])\n",
    "knn_t2 = time.time()\n",
    "\n",
    "\n",
    "\n",
    "# Fitting Kd-tree with optimal K and taking start-time and end-time as well \n",
    "\n",
    "kd_t1 = time.time()\n",
    "kd_bow=KNeighborsClassifier(n_neighbors=optimal_k , algorithm='kd_tree')\n",
    "kd_bow.fit(X_train_svd[:1000] , y_train_svd[:1000])\n",
    "kd_t2 = time.time()\n",
    "\n",
    "# calculating the time difference\n",
    "time_knn = knn_t2 - knn_t1\n",
    "time_kd = kd_t2 - kd_t1 \n",
    "\n",
    "print(\"Time taken by brute force is {:.6f} seconds\".format(time_knn))\n",
    "print(\"Time taken by KDTree is {:.6f} seconds\".format(time_kd))"
   ]
  },
  {
   "cell_type": "markdown",
   "metadata": {},
   "source": [
    "Now, time taken by KDTree is lesser than Brute force, which implies it depends on number of points and dimensionality."
   ]
  },
  {
   "cell_type": "markdown",
   "metadata": {},
   "source": [
    "# 3.0 TF-IDF"
   ]
  },
  {
   "cell_type": "code",
   "execution_count": 10,
   "metadata": {},
   "outputs": [
    {
     "name": "stdout",
     "output_type": "stream",
     "text": [
      "the type of count vectorizer  <class 'scipy.sparse.csr.csr_matrix'>\n",
      "the shape of out text TFIDF vectorizer  (28000, 20945)\n",
      "the number of unique words 20945\n"
     ]
    }
   ],
   "source": [
    "# importing the right libraries\n",
    "\n",
    "from sklearn.feature_extraction.text import TfidfTransformer\n",
    "from sklearn.feature_extraction.text import TfidfVectorizer\n",
    "\n",
    "\n",
    "# making tf-idf vector\n",
    "\n",
    "tf_idf_vect = TfidfVectorizer() # using ngram_range as (1,1) due to computation restrictions\n",
    "X_train_tf = tf_idf_vect.fit_transform(X_train)\n",
    "X_test_tf = tf_idf_vect.transform(X_test)\n",
    "y_train_tf = y_train\n",
    "y_test_tf = y_test\n",
    "\n",
    "\n",
    "# checking the properties of tf-idf vector\n",
    "\n",
    "print(\"the type of count vectorizer \",type(X_train_tf))\n",
    "print(\"the shape of out text TFIDF vectorizer \",X_train_tf.get_shape())\n",
    "print(\"the number of unique words\", X_train_tf.get_shape()[1])"
   ]
  },
  {
   "cell_type": "code",
   "execution_count": 28,
   "metadata": {},
   "outputs": [],
   "source": [
    "# Applying K-NN\n",
    "\n",
    "neighbors=list(range(1,51,2))\n",
    "cv_scores = []\n",
    "for i in neighbors:\n",
    "    knn_tfidf=KNeighborsClassifier(n_neighbors=i)\n",
    "    scores = cross_val_score(knn_tfidf, X_train_tf, y_train_tf, cv=10, scoring='accuracy', n_jobs=-1)\n",
    "    cv_scores.append(scores.mean())"
   ]
  },
  {
   "cell_type": "code",
   "execution_count": 29,
   "metadata": {},
   "outputs": [
    {
     "name": "stdout",
     "output_type": "stream",
     "text": [
      "\n",
      "The optimal number of neighbors is 9.\n",
      "Maximum score for TF-IDF model is 89.83 %.\n"
     ]
    }
   ],
   "source": [
    "# changing to misclassification error\n",
    "MSE = [1 - x for x in cv_scores]\n",
    "\n",
    "# determining best k\n",
    "optimal_k = neighbors[MSE.index(min(MSE))]\n",
    "print('\\nThe optimal number of neighbors is %d.' % optimal_k)\n",
    "print(\"Maximum score for TF-IDF model is {:.2f} %.\".format(max(cv_scores) * 100))"
   ]
  },
  {
   "cell_type": "code",
   "execution_count": 30,
   "metadata": {},
   "outputs": [
    {
     "name": "stdout",
     "output_type": "stream",
     "text": [
      "Accuracy score for TF-IDF model on test data is 89.39 %.\n"
     ]
    }
   ],
   "source": [
    "# Fitting K-NN with optimal K\n",
    "\n",
    "knn_tf = KNeighborsClassifier(n_neighbors = optimal_k)\n",
    "knn_tf.fit(X_train_tf , y_train_tf)\n",
    "\n",
    "# predicting the values and taking accuracy score\n",
    "\n",
    "y_pred_tf = knn_tf.predict(X_test_tf)\n",
    "accuracy_bow = accuracy_score(y_pred_tf , y_test_tf)\n",
    "print(\"Accuracy score for TF-IDF model on test data is {:.2f} %.\".format(accuracy_bow * 100))"
   ]
  },
  {
   "cell_type": "code",
   "execution_count": 31,
   "metadata": {},
   "outputs": [
    {
     "data": {
      "image/png": "[encoded data removed]",
      "text/plain": [
       "<Figure size 432x288 with 1 Axes>"
      ]
     },
     "metadata": {},
     "output_type": "display_data"
    }
   ],
   "source": [
    "# Plot - K vs MSE\n",
    "\n",
    "plt.plot(neighbors , MSE)\n",
    "plt.xlabel(\"K-Nearest Neighbors\")\n",
    "plt.ylabel(\"Misclassification Error\")\n",
    "plt.title(\"Plot Showing variation of Error with K\")\n",
    "plt.show()"
   ]
  },
  {
   "cell_type": "code",
   "execution_count": 32,
   "metadata": {},
   "outputs": [
    {
     "name": "stdout",
     "output_type": "stream",
     "text": [
      "Confusion Matrix:\n"
     ]
    },
    {
     "data": {
      "image/png": "[encoded data removed]",
      "text/plain": [
       "<Figure size 432x288 with 2 Axes>"
      ]
     },
     "metadata": {},
     "output_type": "display_data"
    },
    {
     "name": "stdout",
     "output_type": "stream",
     "text": [
      "TPR for the model on test data is 1.00\n",
      "FPR for the model on test data is 0.92\n",
      "TNR for the model on test data is 0.08\n",
      "FNR for the model on test data is 0.00\n",
      "\n"
     ]
    }
   ],
   "source": [
    "cm_tf = confusion_matrix(y_test_tf , y_pred_tf)\n",
    "print(\"Confusion Matrix:\")\n",
    "sns.heatmap(cm_tf, annot=True, fmt='d')\n",
    "plt.show()\n",
    "\n",
    "# calculating TPR, FPR, TNR, FNR\n",
    "\n",
    "tn, fp, fn, tp = cm_tf.ravel()\n",
    "\n",
    "tnr_tf = tn/(tn+fp)\n",
    "fpr_tf = fp/(tn+fp)\n",
    "fnr_tf = fn/(fn+tp)\n",
    "tpr_tf = tp/(fn+tp)\n",
    "\n",
    "print(\"TPR for the model on test data is {:.2f}\".format(tpr_tf))\n",
    "print(\"FPR for the model on test data is {:.2f}\".format(fpr_tf))\n",
    "print(\"TNR for the model on test data is {:.2f}\".format(tnr_tf))\n",
    "print(\"FNR for the model on test data is {:.2f}\\n\".format(fnr_tf))"
   ]
  },
  {
   "cell_type": "code",
   "execution_count": 33,
   "metadata": {},
   "outputs": [
    {
     "name": "stdout",
     "output_type": "stream",
     "text": [
      "Precision score for the model on test data is 0.90\n",
      "Recall score for the model on test data is 1.00\n",
      "F1 score for the model on test data is 0.94\n",
      "\n"
     ]
    }
   ],
   "source": [
    "# as precision_score expect matrix in [0,1] form instead of [Positive, Negative]\n",
    "# Same goes with recall_score and f1_score\n",
    "\n",
    "yTesttf = y_test_tf=='Positive'\n",
    "yPredtf = y_pred_tf=='Positive'\n",
    "\n",
    "# calculating precision, recall and confusion-matrix\n",
    "\n",
    "precision_tf = precision_score(yTesttf , yPredtf)\n",
    "recall_tf = recall_score(yTesttf , yPredtf)\n",
    "f1_tf = f1_score(yTesttf , yPredtf)\n",
    "\n",
    "print(\"Precision score for the model on test data is {:.2f}\".format(precision_tf))\n",
    "print(\"Recall score for the model on test data is {:.2f}\".format(recall_tf))\n",
    "print(\"F1 score for the model on test data is {:.2f}\\n\".format(f1_tf))"
   ]
  },
  {
   "cell_type": "markdown",
   "metadata": {},
   "source": [
    "# 4.0 Word2Vec"
   ]
  },
  {
   "cell_type": "code",
   "execution_count": 11,
   "metadata": {},
   "outputs": [],
   "source": [
    "import gensim\n",
    "from gensim.models import Word2Vec"
   ]
  },
  {
   "cell_type": "code",
   "execution_count": 12,
   "metadata": {},
   "outputs": [],
   "source": [
    "i=0\n",
    "list_of_sent=[]\n",
    "for sent in X_train:\n",
    "    list_of_sent.append(sent.split())\n",
    "    \n",
    "list_of_sent_tst=[]\n",
    "for sent in X_test:\n",
    "    list_of_sent_tst.append(sent.split())"
   ]
  },
  {
   "cell_type": "code",
   "execution_count": 13,
   "metadata": {},
   "outputs": [
    {
     "name": "stdout",
     "output_type": "stream",
     "text": [
      "like\n"
     ]
    }
   ],
   "source": [
    "# min_count = 5 considers only words that occured atleast 5 times\n",
    "w2v_model=Word2Vec(list_of_sent,min_count=5,size=50, workers=4)\n",
    "w2v_words = list(w2v_model.wv.vocab)\n",
    "count_vect_feat = bow.get_feature_names() # list of words in the BoW\n",
    "print(count_vect_feat[count_vect_feat.index('like')])"
   ]
  },
  {
   "cell_type": "markdown",
   "metadata": {},
   "source": [
    "### 4.1 Average Word2Vec"
   ]
  },
  {
   "cell_type": "code",
   "execution_count": 17,
   "metadata": {},
   "outputs": [
    {
     "name": "stdout",
     "output_type": "stream",
     "text": [
      "28000\n",
      "50\n"
     ]
    }
   ],
   "source": [
    "# average Word2Vec\n",
    "# compute average word2vec for each review.\n",
    "sent_vectors = []; # the avg-w2v for each sentence/review is stored in this list\n",
    "for sent in list_of_sent: # for each review/sentence\n",
    "    sent_vec = np.zeros(50) # as word vectors are of zero length\n",
    "    cnt_words =0; # num of words with a valid vector in the sentence/review\n",
    "    for word in sent: # for each word in a review/sentence\n",
    "        if word in w2v_words:\n",
    "            vec = w2v_model.wv[word]\n",
    "            sent_vec += vec\n",
    "            cnt_words += 1\n",
    "    if cnt_words != 0:\n",
    "        sent_vec /= cnt_words\n",
    "    sent_vectors.append(sent_vec)\n",
    "print(len(sent_vectors))\n",
    "print(len(sent_vectors[0]))"
   ]
  },
  {
   "cell_type": "code",
   "execution_count": 18,
   "metadata": {},
   "outputs": [
    {
     "name": "stdout",
     "output_type": "stream",
     "text": [
      "12000\n",
      "50\n"
     ]
    }
   ],
   "source": [
    "list_of_sent_tst=[]\n",
    "for sent in X_test:\n",
    "    list_of_sent_tst.append(sent.split())\n",
    "    \n",
    "sent_vectors_test = []; # the avg-w2v for each sentence/review is stored in this list\n",
    "for sent in list_of_sent_tst: # for each review/sentence\n",
    "    sent_vec = np.zeros(50) # as word vectors are of zero length\n",
    "    cnt_words =0; # num of words with a valid vector in the sentence/review\n",
    "    for word in sent: # for each word in a review/sentence\n",
    "        if word in w2v_words:\n",
    "            vec = w2v_model.wv[word]\n",
    "            sent_vec += vec\n",
    "            cnt_words += 1\n",
    "    if cnt_words != 0:\n",
    "        sent_vec /= cnt_words\n",
    "    sent_vectors_test.append(sent_vec)\n",
    "print(len(sent_vectors_test))\n",
    "print(len(sent_vectors_test[0]))"
   ]
  },
  {
   "cell_type": "code",
   "execution_count": 19,
   "metadata": {},
   "outputs": [
    {
     "name": "stdout",
     "output_type": "stream",
     "text": [
      "Length of X_train : 28000\n",
      "Length of X_test : 12000\n"
     ]
    }
   ],
   "source": [
    "X_train_avg = sent_vectors\n",
    "X_test_avg = sent_vectors_test\n",
    "y_train_avg = y_train\n",
    "y_test_avg = y_test\n",
    "\n",
    "print(\"Length of X_train :\",len(X_train_avg))\n",
    "print(\"Length of X_test :\",len(X_test_avg))"
   ]
  },
  {
   "cell_type": "code",
   "execution_count": 20,
   "metadata": {},
   "outputs": [],
   "source": [
    "# Converting 'Positive' and 'Negative' into True and False\n",
    "\n",
    "y_train_avg = y_train_avg == 'Positive'\n",
    "y_test_avg = y_test_avg == 'Positive'"
   ]
  },
  {
   "cell_type": "code",
   "execution_count": 21,
   "metadata": {},
   "outputs": [],
   "source": [
    "# Applying K-NN\n",
    "\n",
    "neighbors=list(range(1,51,2))\n",
    "cv_scores_avg = []\n",
    "for i in neighbors:\n",
    "    knn_avg=KNeighborsClassifier(n_neighbors=i)\n",
    "    scores = cross_val_score(knn_avg, X_train_avg, y_train_avg, cv=10, scoring='accuracy', n_jobs=-1)\n",
    "    cv_scores_avg.append(scores.mean())"
   ]
  },
  {
   "cell_type": "code",
   "execution_count": 22,
   "metadata": {},
   "outputs": [
    {
     "name": "stdout",
     "output_type": "stream",
     "text": [
      "\n",
      "The optimal number of neighbors is 19.\n",
      "Maximum score for average model is 89.98 %.\n"
     ]
    }
   ],
   "source": [
    "# changing to misclassification error\n",
    "MSE = [1 - x for x in cv_scores_avg]\n",
    "\n",
    "# determining best k\n",
    "optimal_k = neighbors[MSE.index(min(MSE))]\n",
    "print('\\nThe optimal number of neighbors is %d.' % optimal_k)\n",
    "print(\"Maximum score for average model is {:.2f} %.\".format(max(cv_scores_avg) * 100))"
   ]
  },
  {
   "cell_type": "code",
   "execution_count": 23,
   "metadata": {},
   "outputs": [
    {
     "data": {
      "image/png": "[encoded data removed]",
      "text/plain": [
       "<Figure size 432x288 with 1 Axes>"
      ]
     },
     "metadata": {},
     "output_type": "display_data"
    }
   ],
   "source": [
    "# Plot - K vs MSE\n",
    "\n",
    "plt.plot(neighbors , MSE)\n",
    "plt.xlabel(\"K-Nearest Neighbors\")\n",
    "plt.ylabel(\"Misclassification Error\")\n",
    "plt.title(\"Plot Showing variation of Error with K\")\n",
    "plt.show()"
   ]
  },
  {
   "cell_type": "code",
   "execution_count": 24,
   "metadata": {},
   "outputs": [
    {
     "name": "stdout",
     "output_type": "stream",
     "text": [
      "Accuracy score for Average-Word2Vec model on test data is 89.58 %.\n"
     ]
    }
   ],
   "source": [
    "# Fitting K-NN with optimal K\n",
    "\n",
    "knn_avg = KNeighborsClassifier(n_neighbors = optimal_k)\n",
    "knn_avg.fit(X_train_avg , y_train_avg)\n",
    "\n",
    "# predicting the values and taking accuracy score\n",
    "\n",
    "y_pred_avg = knn_avg.predict(X_test_avg)\n",
    "accuracy_avg = accuracy_score(y_pred_avg,y_test_avg)\n",
    "print(\"Accuracy score for Average-Word2Vec model on test data is {:.2f} %.\".format(accuracy_avg * 100))"
   ]
  },
  {
   "cell_type": "code",
   "execution_count": 25,
   "metadata": {},
   "outputs": [
    {
     "name": "stdout",
     "output_type": "stream",
     "text": [
      "Confusion Matrix:\n"
     ]
    },
    {
     "data": {
      "image/png": "[encoded data removed]",
      "text/plain": [
       "<Figure size 432x288 with 2 Axes>"
      ]
     },
     "metadata": {},
     "output_type": "display_data"
    },
    {
     "name": "stdout",
     "output_type": "stream",
     "text": [
      "TPR for the model on test data is 0.99\n",
      "FPR for the model on test data is 0.88\n",
      "TNR for the model on test data is 0.12\n",
      "FNR for the model on test data is 0.01\n",
      "\n"
     ]
    }
   ],
   "source": [
    "from sklearn.metrics import confusion_matrix\n",
    "cm_avg = confusion_matrix(y_test_avg , y_pred_avg)\n",
    "print(\"Confusion Matrix:\")\n",
    "sns.heatmap(cm_avg, annot=True, fmt='d')\n",
    "plt.show()\n",
    "\n",
    "# calculating TPR, FPR, TNR, FNR\n",
    "\n",
    "tn, fp, fn, tp = cm_avg.ravel()\n",
    "\n",
    "tnr_tf = tn/(tn+fp)\n",
    "fpr_tf = fp/(tn+fp)\n",
    "fnr_tf = fn/(fn+tp)\n",
    "tpr_tf = tp/(fn+tp)\n",
    "\n",
    "print(\"TPR for the model on test data is {:.2f}\".format(tpr_tf))\n",
    "print(\"FPR for the model on test data is {:.2f}\".format(fpr_tf))\n",
    "print(\"TNR for the model on test data is {:.2f}\".format(tnr_tf))\n",
    "from sklearn.metrics import accuracy_score, precision_score, recall_score, f1_scoreprint(\"FNR for the model on test data is {:.2f}\\n\".format(fnr_tf))"
   ]
  },
  {
   "cell_type": "code",
   "execution_count": 27,
   "metadata": {},
   "outputs": [
    {
     "name": "stdout",
     "output_type": "stream",
     "text": [
      "Accuracy score for the model on test data is 0.90\n",
      "Precision score for the model on test data is 0.99\n",
      "Recall score for the model on test data is 0.90\n",
      "F1 score for the model on test data is 0.94\n",
      "\n"
     ]
    }
   ],
   "source": [
    "from sklearn.metrics import accuracy_score, precision_score, recall_score, f1_score\n",
    "\n",
    "accuracy_avg = accuracy_score(y_pred_avg , y_test_avg)\n",
    "precision_avg = precision_score(y_pred_avg , y_test_avg)\n",
    "recall_avg = recall_score(y_pred_avg , y_test_avg)\n",
    "f1_avg = f1_score(y_pred_avg , y_test_avg)\n",
    "\n",
    "print(\"Accuracy score for the model on test data is {:.2f}\".format(accuracy_avg))\n",
    "print(\"Precision score for the model on test data is {:.2f}\".format(precision_avg))\n",
    "print(\"Recall score for the model on test data is {:.2f}\".format(recall_avg))\n",
    "print(\"F1 score for the model on test data is {:.2f}\\n\".format(f1_avg))"
   ]
  },
  {
   "cell_type": "markdown",
   "metadata": {},
   "source": [
    "### 4.2 TF-IDF Weighted Word2Vec"
   ]
  },
  {
   "cell_type": "code",
   "execution_count": 14,
   "metadata": {},
   "outputs": [
    {
     "name": "stdout",
     "output_type": "stream",
     "text": [
      "28000\n",
      "50\n"
     ]
    }
   ],
   "source": [
    "# TF-IDF weighted Word2Vec\n",
    "tfidf_feat = tf_idf_vect.get_feature_names() # tfidf words/col-names\n",
    "\n",
    "tfidf_sent_vectors = []; # the tfidf-w2v for each sentence/review is stored in this list\n",
    "row=0;\n",
    "for sent in list_of_sent: # for each review/sentence \n",
    "    sent_vec = np.zeros(50) # as word vectors are of zero length\n",
    "    weight_sum =0; # num of words with a valid vector in the sentence/review\n",
    "    for word in sent: # for each word in a review/sentence\n",
    "        if word in w2v_words:\n",
    "            vec = w2v_model.wv[word]\n",
    "            # obtain the tf_idfidf of a word in a sentence/review\n",
    "            tf_idf = X_train_tf[row, tfidf_feat.index(word)]\n",
    "            sent_vec += (vec * tf_idf)\n",
    "            weight_sum += tf_idf\n",
    "    if weight_sum != 0:\n",
    "        sent_vec /= weight_sum\n",
    "    tfidf_sent_vectors.append(sent_vec)\n",
    "    row += 1\n",
    "    \n",
    "print(len(tfidf_sent_vectors))\n",
    "print(len(tfidf_sent_vectors[0]))"
   ]
  },
  {
   "cell_type": "code",
   "execution_count": 15,
   "metadata": {},
   "outputs": [
    {
     "name": "stdout",
     "output_type": "stream",
     "text": [
      "12000\n",
      "50\n"
     ]
    }
   ],
   "source": [
    "tfidf_sent_vectors_tst=[]\n",
    "row=0\n",
    "for sent in list_of_sent_tst: # for each review/sentence \n",
    "    sent_vec = np.zeros(50) # as word vectors are of zero length\n",
    "    weight_sum =0; # num of words with a valid vector in the sentence/review\n",
    "    for word in sent: # for each word in a review/sentence\n",
    "        if word in w2v_words:\n",
    "            vec = w2v_model.wv[word]\n",
    "            # obtain the tf_idfidf of a word in a sentence/review\n",
    "            tf_idf = X_test_tf[row, tfidf_feat.index(word)]\n",
    "            sent_vec += (vec * tf_idf)\n",
    "            weight_sum += tf_idf\n",
    "    if weight_sum != 0:\n",
    "        sent_vec /= weight_sum\n",
    "    tfidf_sent_vectors_tst.append(sent_vec)\n",
    "    row += 1\n",
    "    \n",
    "print(len(tfidf_sent_vectors_tst))\n",
    "print(len(tfidf_sent_vectors_tst[0]))"
   ]
  },
  {
   "cell_type": "code",
   "execution_count": 16,
   "metadata": {},
   "outputs": [
    {
     "name": "stdout",
     "output_type": "stream",
     "text": [
      "Length of X_train : 28000\n",
      "Length of X_test : 12000\n"
     ]
    }
   ],
   "source": [
    "X_train_w2v = tfidf_sent_vectors\n",
    "X_test_w2v = tfidf_sent_vectors_tst\n",
    "y_train_w2v = y_train\n",
    "y_test_w2v = y_test\n",
    "\n",
    "print(\"Length of X_train :\",len(X_train_w2v))\n",
    "print(\"Length of X_test :\",len(X_test_w2v))"
   ]
  },
  {
   "cell_type": "code",
   "execution_count": 17,
   "metadata": {},
   "outputs": [],
   "source": [
    "# Applying K-NN\n",
    "\n",
    "neighbors=list(range(1,51,2))\n",
    "cv_scores_w2v = []\n",
    "for i in neighbors:\n",
    "    knn_w2v=KNeighborsClassifier(n_neighbors=i)\n",
    "    scores = cross_val_score(knn_w2v, X_train_w2v, y_train_w2v, cv=10, scoring='accuracy', n_jobs=-1)\n",
    "    cv_scores_w2v.append(scores.mean())"
   ]
  },
  {
   "cell_type": "code",
   "execution_count": 18,
   "metadata": {},
   "outputs": [
    {
     "name": "stdout",
     "output_type": "stream",
     "text": [
      "\n",
      "The optimal number of neighbors is 25.\n"
     ]
    }
   ],
   "source": [
    "# changing to misclassification error\n",
    "MSE = [1 - x for x in cv_scores_w2v]\n",
    "\n",
    "# determining best k\n",
    "optimal_k = neighbors[MSE.index(min(MSE))]\n",
    "print('\\nThe optimal number of neighbors is %d.' % optimal_k)"
   ]
  },
  {
   "cell_type": "code",
   "execution_count": 19,
   "metadata": {},
   "outputs": [
    {
     "name": "stdout",
     "output_type": "stream",
     "text": [
      "Maximum score for TF-IDF Weighted Word2Vec model is 89.59 %.\n"
     ]
    }
   ],
   "source": [
    "print(\"Maximum score for TF-IDF Weighted Word2Vec model is {:.2f} %.\".format(max(cv_scores_w2v) * 100))"
   ]
  },
  {
   "cell_type": "code",
   "execution_count": 21,
   "metadata": {},
   "outputs": [
    {
     "data": {
      "image/png": "[encoded data removed]",
      "text/plain": [
       "<Figure size 432x288 with 1 Axes>"
      ]
     },
     "metadata": {},
     "output_type": "display_data"
    }
   ],
   "source": [
    "# Plot - K vs MSE\n",
    "\n",
    "plt.plot(neighbors , MSE)\n",
    "plt.xlabel(\"K-Nearest Neighbors\")\n",
    "plt.ylabel(\"Misclassification Error\")\n",
    "plt.title(\"Plot Showing variation of Error with K\")\n",
    "plt.show()"
   ]
  },
  {
   "cell_type": "code",
   "execution_count": 22,
   "metadata": {},
   "outputs": [
    {
     "name": "stdout",
     "output_type": "stream",
     "text": [
      "Accuracy score for TF-IDF weighted-Word2Vec model on test data is 89.33 %.\n"
     ]
    }
   ],
   "source": [
    "# Fitting K-NN with optimal K\n",
    "\n",
    "knn_w2v = KNeighborsClassifier(n_neighbors = optimal_k)\n",
    "knn_w2v.fit(X_train_w2v , y_train_w2v)\n",
    "\n",
    "# predicting the values and taking accuracy score\n",
    "\n",
    "y_pred_w2v = knn_w2v.predict(X_test_w2v)\n",
    "accuracy_w2v = accuracy_score(y_pred_w2v,y_test_w2v)\n",
    "print(\"Accuracy score for TF-IDF weighted-Word2Vec model on test data is {:.2f} %.\".format(accuracy_w2v * 100))"
   ]
  },
  {
   "cell_type": "code",
   "execution_count": 23,
   "metadata": {},
   "outputs": [
    {
     "name": "stdout",
     "output_type": "stream",
     "text": [
      "Confusion Matrix:\n"
     ]
    },
    {
     "data": {
      "image/png": "[encoded data removed]",
      "text/plain": [
       "<Figure size 432x288 with 2 Axes>"
      ]
     },
     "metadata": {},
     "output_type": "display_data"
    },
    {
     "name": "stdout",
     "output_type": "stream",
     "text": [
      "TPR for the model on test data is 0.99\n",
      "FPR for the model on test data is 0.91\n",
      "TNR for the model on test data is 0.09\n",
      "FNR for the model on test data is 0.01\n",
      "\n"
     ]
    }
   ],
   "source": [
    "from sklearn.metrics import confusion_matrix\n",
    "cm_w2v = confusion_matrix(y_test_w2v , y_pred_w2v)\n",
    "print(\"Confusion Matrix:\")\n",
    "sns.heatmap(cm_w2v, annot=True, fmt='d')\n",
    "plt.show()\n",
    "\n",
    "# calculating TPR, FPR, TNR, FNR\n",
    "\n",
    "tn, fp, fn, tp = cm_w2v.ravel()\n",
    "\n",
    "tnr_tf = tn/(tn+fp)\n",
    "fpr_tf = fp/(tn+fp)\n",
    "fnr_tf = fn/(fn+tp)\n",
    "tpr_tf = tp/(fn+tp)\n",
    "\n",
    "print(\"TPR for the model on test data is {:.2f}\".format(tpr_tf))\n",
    "print(\"FPR for the model on test data is {:.2f}\".format(fpr_tf))\n",
    "print(\"TNR for the model on test data is {:.2f}\".format(tnr_tf))\n",
    "print(\"FNR for the model on test data is {:.2f}\\n\".format(fnr_tf))"
   ]
  },
  {
   "cell_type": "code",
   "execution_count": 24,
   "metadata": {},
   "outputs": [
    {
     "name": "stdout",
     "output_type": "stream",
     "text": [
      "Precision score for the model on test data is 0.99\n",
      "Recall score for the model on test data is 0.90\n",
      "F1 score for the model on test data is 0.94\n",
      "\n"
     ]
    }
   ],
   "source": [
    "# Checking Precision, Recall and F1 score\n",
    "\n",
    "# Converting 'Positive' and 'Negative' into True and False\n",
    "\n",
    "yPredW2V = y_pred_w2v == 'Positive'\n",
    "yTestW2V = y_test_w2v == 'Positive'\n",
    "\n",
    "from sklearn.metrics import precision_score, recall_score, f1_score\n",
    "precision_w2v = precision_score(yPredW2V , yTestW2V)\n",
    "recall_w2v = recall_score(yPredW2V , yTestW2V)\n",
    "f1_w2v = f1_score(yPredW2V , yTestW2V)\n",
    "\n",
    "print(\"Precision score for the model on test data is {:.2f}\".format(precision_w2v))\n",
    "print(\"Recall score for the model on test data is {:.2f}\".format(recall_w2v))\n",
    "print(\"F1 score for the model on test data is {:.2f}\\n\".format(f1_w2v))"
   ]
  },
  {
   "cell_type": "markdown",
   "metadata": {},
   "source": [
    "# Conclusions"
   ]
  },
  {
   "cell_type": "markdown",
   "metadata": {},
   "source": [
    "Values of different output parameters are tabulated in the following table\n",
    "\n",
    "\n",
    "<html>\n",
    "<head>\n",
    "<style>\n",
    "table {\n",
    "    font-family: arial, sans-serif;\n",
    "    border-collapse: collapse;\n",
    "    width: 100%;\n",
    "}\n",
    "\n",
    "td, th {\n",
    "    border: 1px solid #dddddd;\n",
    "    text-align: left;\n",
    "    padding: 8px;\n",
    "}\n",
    "\n",
    "tr:nth-child(even) {\n",
    "    background-color: #dddddd;\n",
    "}\n",
    "</style>\n",
    "</head>\n",
    "<body>\n",
    "\n",
    "
  <table>
  <tr>
    <th>Model</th>
    <th>Best K</th>
    <th>Cross Validation Accuracy</th>
    <th>Test Accuracy</th>
    <th>Precision Score</th>
    <th>Recall Score</th>
    <th>F1 Score</th>
  </tr>
  <tr>
    <td>Bag-of-Words</td>
    <td>7</td>
    <td>85.28 %</td>
    <td>82.95 %</td>
    <td>0.83</td>
    <td>0.99</td>
    <td>0.91</td>
  </tr>
  <tr>
    <td>TF-IDF</td>
    <td>11</td>
    <td>85.90 %</td>
    <td>83.93 %</td>
    <td>0.84</td>
    <td>0.99</td>
    <td>0.91</td>
  </tr>
  <tr>
    <td>Average Word2Vec</td>
    <td>9</td>
    <td>87.21 %</td>
    <td>85.39 %</td>
    <td>0.97</td>
    <td>0.97</td>
    <td>0.92</td>
  </tr>
  <tr>
    <td>Weighted Word2Vec</td>
    <td>25</td>
    <td>89.59 %</td>
    <td>84.33 %</td>
    <td>0.99</td>
    <td>0.90</td>
    <td>0.94</td>
  </tr>
</table>
    
    ",
    "\n",
    "</body>\n",
    "</html>\n",
    "\n",
    "\n"
   ]
  },
  {
   "cell_type": "code",
   "execution_count": null,
   "metadata": {},
   "outputs": [],
   "source": []
  }
 ],
 "metadata": {
  "kernelspec": {
   "display_name": "Python 3",
   "language": "python",
   "name": "python3"
  },
  "language_info": {
   "codemirror_mode": {
    "name": "ipython",
    "version": 3
   },
   "file_extension": ".py",
   "mimetype": "text/x-python",
   "name": "python",
   "nbconvert_exporter": "python",
   "pygments_lexer": "ipython3",
   "version": "3.6.5"
  },
  "widgets": {
   "state": {},
   "version": "1.1.2"
  }
 },
 "nbformat": 4,
 "nbformat_minor": 2
}
