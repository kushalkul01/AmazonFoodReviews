{
 "cells": [
  {
   "cell_type": "code",
   "execution_count": 1,
   "metadata": {},
   "outputs": [
    {
     "name": "stderr",
     "output_type": "stream",
     "text": [
      "/usr/lib/python3/dist-packages/sklearn/cross_validation.py:44: DeprecationWarning: This module was deprecated in version 0.18 in favor of the model_selection module into which all the refactored classes and functions are moved. Also note that the interface of the new CV iterators are different from that of this module. This module will be removed in 0.20.\n",
      "  \"This module will be removed in 0.20.\", DeprecationWarning)\n"
     ]
    }
   ],
   "source": [
    "# Importing the required libraries\n",
    "\n",
    "import sqlite3\n",
    "import pandas as pd\n",
    "import numpy as np\n",
    "import matplotlib.pyplot as plt\n",
    "import seaborn as sns\n",
    "from sklearn.cross_validation import train_test_split\n",
    "from sklearn.tree import DecisionTreeClassifier\n",
    "from sklearn.metrics import accuracy_score\n",
    "from sklearn.cross_validation import cross_val_score\n",
    "from collections import Counter\n",
    "from sklearn.metrics import accuracy_score\n",
    "from sklearn.metrics import mean_squared_error\n",
    "from sklearn import cross_validation\n",
    "from sklearn.metrics import precision_score, recall_score, f1_score, confusion_matrix\n",
    "import time\n",
    "import warnings\n",
    "warnings.filterwarnings('ignore')\n",
    "%matplotlib inline "
   ]
  },
  {
   "cell_type": "markdown",
   "metadata": {},
   "source": [
    "# 1.0 Data Preprocessing"
   ]
  },
  {
   "cell_type": "code",
   "execution_count": 2,
   "metadata": {},
   "outputs": [
    {
     "data": {
      "text/plain": [
       "(364171, 11)"
      ]
     },
     "execution_count": 2,
     "metadata": {},
     "output_type": "execute_result"
    }
   ],
   "source": [
    "# The score has been turned into binary class- Positive and Negative\n",
    "\n",
    "con = sqlite3.connect(r\"final.sqlite\")\n",
    "filtered_data = pd.read_sql_query(\"\"\"\n",
    "SELECT *\n",
    "FROM Reviews\n",
    "\"\"\", con)\n",
    "filtered_data.shape"
   ]
  },
  {
   "cell_type": "code",
   "execution_count": 3,
   "metadata": {},
   "outputs": [
    {
     "data": {
      "text/plain": [
       "Positive    87729\n",
       "Negative    12271\n",
       "Name: Score, dtype: int64"
      ]
     },
     "execution_count": 3,
     "metadata": {},
     "output_type": "execute_result"
    }
   ],
   "source": [
    "# Taking first 100,000 points for analysis\n",
    "\n",
    "filtered_data = filtered_data.sort_values(by=['Time'])\n",
    "final = filtered_data[0:100000]\n",
    "final.Score.value_counts()"
   ]
  },
  {
   "cell_type": "code",
   "execution_count": 4,
   "metadata": {},
   "outputs": [
    {
     "name": "stdout",
     "output_type": "stream",
     "text": [
      "[nltk_data] Downloading package stopwords to\n",
      "[nltk_data]     /home/kushalkul01/nltk_data...\n",
      "[nltk_data]   Package stopwords is already up-to-date!\n"
     ]
    }
   ],
   "source": [
    "import re\n",
    "import string\n",
    "import nltk\n",
    "nltk.download('stopwords')\n",
    "from nltk.corpus import stopwords\n",
    "from nltk.stem.wordnet import WordNetLemmatizer\n",
    "from nltk.stem import SnowballStemmer\n",
    "\n",
    "i=0;\n",
    "for sent in final['Text'].values:\n",
    "    if (len(re.findall('<.*?>', sent))):\n",
    "        #print(i)\n",
    "        #print(sent)\n",
    "        break;\n",
    "    i += 1;    \n",
    "\n",
    "def cleanhtml(sentence): #function to clean the word of any html-tags\n",
    "    cleanr = re.compile('<.*?>')\n",
    "    cleantext = re.sub(cleanr, ' ', sentence)\n",
    "    return cleantext\n",
    "\n",
    "stop = set(stopwords.words('english')) #set of stopwords\n",
    "sno = SnowballStemmer('english') #initialising the snowball stemmer\n",
    "\n",
    "def cleanpunc(sentence): #function to clean the word of any punctuation or special characters\n",
    "    cleaned = re.sub(r'[?|!|\\'|\"|#]',r'',sentence)\n",
    "    cleaned = re.sub(r'[.|,|)|(|\\|/]',r' ',cleaned)\n",
    "    return  cleaned"
   ]
  },
  {
   "cell_type": "code",
   "execution_count": 5,
   "metadata": {},
   "outputs": [],
   "source": [
    "i=0\n",
    "str1=' '\n",
    "final_string=[]\n",
    "all_positive_words=[] # store words from +ve reviews here\n",
    "all_negative_words=[] # store words from -ve reviews here.\n",
    "s=''\n",
    "for sent in final['Text'].values:\n",
    "    filtered_sentence=[]\n",
    "    #print(sent);\n",
    "    sent=cleanhtml(sent) # remove HTMl tags\n",
    "    for w in sent.split():\n",
    "        for cleaned_words in cleanpunc(w).split():\n",
    "            if((cleaned_words.isalpha()) & (len(cleaned_words)>2)):    \n",
    "                if(cleaned_words.lower() not in stop):\n",
    "                    s=(sno.stem(cleaned_words.lower())).encode('utf8')\n",
    "                    filtered_sentence.append(s)\n",
    "                    if (final['Score'].values)[i] == 'Positive': \n",
    "                        all_positive_words.append(s) #list of all words used to describe positive reviews\n",
    "                    if(final['Score'].values)[i] == 'Negative':\n",
    "                        all_negative_words.append(s) #list of all words used to describe negative reviews reviews\n",
    "                else:\n",
    "                    continue\n",
    "            else:\n",
    "                continue \n",
    "    #print(filtered_sentence)\n",
    "    str1 = b\" \".join(filtered_sentence) #final string of cleaned words\n",
    "    #print(\"***********************************************************************\")\n",
    "    \n",
    "    final_string.append(str1)\n",
    "    i+=1"
   ]
  },
  {
   "cell_type": "code",
   "execution_count": 6,
   "metadata": {},
   "outputs": [],
   "source": [
    "final['CleanedText']=final_string #adding a column of CleanedText which displays the data after pre-processing of the review \n",
    "final['CleanedText']=final['CleanedText'].str.decode(\"utf-8\")"
   ]
  },
  {
   "cell_type": "code",
   "execution_count": 7,
   "metadata": {},
   "outputs": [
    {
     "name": "stdout",
     "output_type": "stream",
     "text": [
      "Shape of y-vector is (100000,)\n"
     ]
    }
   ],
   "source": [
    "final = final.sort_values(by=['Time']) #Just to be double sure that dataframe is sorted according to time\n",
    "\n",
    "# Taking labels to make y-dimension\n",
    "labels=final['Score'].values\n",
    "\n",
    "# Checking the shape of labels\n",
    "print(\"Shape of y-vector is\",labels.shape)"
   ]
  },
  {
   "cell_type": "code",
   "execution_count": 8,
   "metadata": {},
   "outputs": [],
   "source": [
    "# Taking initial 70% data as training data and remaining 30% as test data\n",
    "\n",
    "l = 0.7 * final.shape[0]\n",
    "X_train = final['CleanedText'][0:int(l)]\n",
    "X_test = final['CleanedText'][int(l):]\n",
    "y_train = labels[0:int(l)]\n",
    "y_test = labels[int(l):]"
   ]
  },
  {
   "cell_type": "markdown",
   "metadata": {},
   "source": [
    "#### Bag of Words (To get average Word2Vec)"
   ]
  },
  {
   "cell_type": "code",
   "execution_count": 9,
   "metadata": {},
   "outputs": [
    {
     "name": "stdout",
     "output_type": "stream",
     "text": [
      "The type of count vectorizer  <class 'scipy.sparse.csr.csr_matrix'>\n",
      "the shape of out text TFIDF vectorizer  (70000, 31375)\n",
      "the number of unique words 31375\n"
     ]
    }
   ],
   "source": [
    "# Making the bag of words model\n",
    "# Fitting the model on Training data and transforming the test data on the fitted model\n",
    "# This helps in taking care of data leakage\n",
    "\n",
    "from sklearn.feature_extraction.text import CountVectorizer\n",
    "bow = CountVectorizer()\n",
    "X_train_bow = bow.fit_transform(X_train)\n",
    "X_test_bow = bow.transform(X_test)\n",
    "y_train_bow = y_train\n",
    "y_test_bow = y_test\n",
    "print(\"The type of count vectorizer \",type(X_train_bow))\n",
    "print(\"the shape of out text TFIDF vectorizer \",X_train_bow.get_shape())\n",
    "print(\"the number of unique words\", X_train_bow.get_shape()[1])"
   ]
  },
  {
   "cell_type": "markdown",
   "metadata": {},
   "source": [
    "#### TF-IDF (To get weighted Word2Vec)"
   ]
  },
  {
   "cell_type": "code",
   "execution_count": 10,
   "metadata": {},
   "outputs": [
    {
     "name": "stdout",
     "output_type": "stream",
     "text": [
      "the type of count vectorizer  <class 'scipy.sparse.csr.csr_matrix'>\n",
      "the shape of out text TFIDF vectorizer  (70000, 31375)\n",
      "the number of unique words 31375\n"
     ]
    }
   ],
   "source": [
    "# importing the right libraries\n",
    "\n",
    "from sklearn.feature_extraction.text import TfidfTransformer\n",
    "from sklearn.feature_extraction.text import TfidfVectorizer\n",
    "\n",
    "\n",
    "# making tf-idf vector\n",
    "\n",
    "tf_idf_vect = TfidfVectorizer() # using ngram_range as (1,1) due to computation restrictions\n",
    "X_train_tf = tf_idf_vect.fit_transform(X_train)\n",
    "X_test_tf = tf_idf_vect.transform(X_test)\n",
    "y_train_tf = y_train\n",
    "y_test_tf = y_test\n",
    "\n",
    "\n",
    "# checking the properties of tf-idf vector\n",
    "\n",
    "print(\"the type of count vectorizer \",type(X_train_tf))\n",
    "print(\"the shape of out text TFIDF vectorizer \",X_train_tf.get_shape())\n",
    "print(\"the number of unique words\", X_train_tf.get_shape()[1])"
   ]
  },
  {
   "cell_type": "markdown",
   "metadata": {},
   "source": [
    "# 4.0 Word2Vec"
   ]
  },
  {
   "cell_type": "code",
   "execution_count": 11,
   "metadata": {},
   "outputs": [],
   "source": [
    "import gensim\n",
    "from gensim.models import Word2Vec"
   ]
  },
  {
   "cell_type": "code",
   "execution_count": 12,
   "metadata": {},
   "outputs": [],
   "source": [
    "i=0\n",
    "list_of_sent=[]\n",
    "for sent in X_train:\n",
    "    list_of_sent.append(sent.split())\n",
    "    \n",
    "list_of_sent_tst=[]\n",
    "for sent in X_test:\n",
    "    list_of_sent_tst.append(sent.split())"
   ]
  },
  {
   "cell_type": "code",
   "execution_count": 13,
   "metadata": {},
   "outputs": [
    {
     "name": "stdout",
     "output_type": "stream",
     "text": [
      "like\n"
     ]
    }
   ],
   "source": [
    "# min_count = 5 considers only words that occured atleast 5 times\n",
    "w2v_model=Word2Vec(list_of_sent,min_count=5,size=50, workers=4)\n",
    "w2v_words = list(w2v_model.wv.vocab)\n",
    "count_vect_feat = bow.get_feature_names() # list of words in the BoW\n",
    "print(count_vect_feat[count_vect_feat.index('like')])"
   ]
  },
  {
   "cell_type": "markdown",
   "metadata": {},
   "source": [
    "### 4.1 Average Word2Vec"
   ]
  },
  {
   "cell_type": "code",
   "execution_count": 14,
   "metadata": {},
   "outputs": [
    {
     "name": "stdout",
     "output_type": "stream",
     "text": [
      "70000\n",
      "50\n"
     ]
    }
   ],
   "source": [
    "# average Word2Vec\n",
    "# compute average word2vec for each review.\n",
    "sent_vectors = []; # the avg-w2v for each sentence/review is stored in this list\n",
    "\n",
    "for sent in list_of_sent: # for each review/sentence\n",
    "    sent_vec = np.zeros(50) # as word vectors are of zero length\n",
    "    cnt_words =0; # num of words with a valid vector in the sentence/review\n",
    "    for word in sent: # for each word in a review/sentence\n",
    "        if word in w2v_words:\n",
    "            vec = w2v_model.wv[word]\n",
    "            sent_vec += vec\n",
    "            cnt_words += 1\n",
    "    if cnt_words != 0:\n",
    "        sent_vec /= cnt_words\n",
    "    sent_vectors.append(sent_vec)\n",
    "print(len(sent_vectors))\n",
    "print(len(sent_vectors[0]))"
   ]
  },
  {
   "cell_type": "code",
   "execution_count": 15,
   "metadata": {},
   "outputs": [
    {
     "name": "stdout",
     "output_type": "stream",
     "text": [
      "30000\n",
      "50\n"
     ]
    }
   ],
   "source": [
    "sent_vectors_test = []; # the avg-w2v for each sentence/review is stored in this list\n",
    "\n",
    "for sent in list_of_sent_tst: # for each review/sentence\n",
    "    sent_vec = np.zeros(50) # as word vectors are of zero length\n",
    "    cnt_words =0; # num of words with a valid vector in the sentence/review\n",
    "    for word in sent: # for each word in a review/sentence\n",
    "        if word in w2v_words:\n",
    "            vec = w2v_model.wv[word]\n",
    "            sent_vec += vec\n",
    "            cnt_words += 1\n",
    "    if cnt_words != 0:\n",
    "        sent_vec /= cnt_words\n",
    "    sent_vectors_test.append(sent_vec)\n",
    "print(len(sent_vectors_test))\n",
    "print(len(sent_vectors_test[0]))"
   ]
  },
  {
   "cell_type": "code",
   "execution_count": 16,
   "metadata": {},
   "outputs": [
    {
     "name": "stdout",
     "output_type": "stream",
     "text": [
      "Length of X_train : 70000\n",
      "Length of X_test : 30000\n"
     ]
    }
   ],
   "source": [
    "X_train_avg = sent_vectors\n",
    "X_test_avg = sent_vectors_test\n",
    "y_train_avg = y_train\n",
    "y_test_avg = y_test\n",
    "\n",
    "print(\"Length of X_train :\",len(X_train_avg))\n",
    "print(\"Length of X_test :\",len(X_test_avg))"
   ]
  },
  {
   "cell_type": "code",
   "execution_count": 17,
   "metadata": {},
   "outputs": [],
   "source": [
    "# Converting 'Positive' and 'Negative' into True and False\n",
    "\n",
    "y_train_avg = y_train_avg == 'Positive'\n",
    "y_test_avg = y_test_avg == 'Positive'"
   ]
  },
  {
   "cell_type": "code",
   "execution_count": null,
   "metadata": {},
   "outputs": [],
   "source": [
    "# Applying Decision Tree\n",
    "\n",
    "depth = list(range(2,10))\n",
    "cv_scores_avg = []\n",
    "MSE = []\n",
    "for i in depth:\n",
    "    tree_avg=DecisionTreeClassifier(max_depth = i)\n",
    "    scores = cross_val_score(tree_avg, X_train_avg, y_train_avg, cv=3, scoring='f1', n_jobs=-1)\n",
    "    cv_scores_avg.append(scores.mean())\n",
    "    tree_avg.fit(X_train_avg, y_train_avg)\n",
    "    y_pred = tree_avg.predict(X_test_avg)\n",
    "    error = mean_squared_error(y_test_avg.astype(np.float32) , y_pred.astype(np.float32))\n",
    "    MSE.append(error)"
   ]
  },
  {
   "cell_type": "code",
   "execution_count": 19,
   "metadata": {},
   "outputs": [
    {
     "name": "stdout",
     "output_type": "stream",
     "text": [
      "The optimal number of neighbors is 6.\n",
      "Maximum score for average model is 93.94 %.\n"
     ]
    }
   ],
   "source": [
    "# determining best depth\n",
    "\n",
    "optimal_depth = depth[MSE.index(min(MSE))]\n",
    "print('The optimal number of neighbors is %d.' % optimal_depth)\n",
    "print(\"Maximum score for average model is {:.2f} %.\".format(max(cv_scores_avg) * 100))"
   ]
  },
  {
   "cell_type": "code",
   "execution_count": 20,
   "metadata": {},
   "outputs": [
    {
     "data": {
      "image/png": "[encoded data removed]",
      "text/plain": [
       "<Figure size 432x288 with 1 Axes>"
      ]
     },
     "metadata": {},
     "output_type": "display_data"
    }
   ],
   "source": [
    "# Plot - Depth vs MSE\n",
    "\n",
    "plt.plot(depth , MSE)\n",
    "plt.xlabel(\"Depth\")\n",
    "plt.ylabel(\"Misclassification Error\")\n",
    "plt.title(\"Plot Showing variation of Error with Depth\")\n",
    "plt.show()"
   ]
  },
  {
   "cell_type": "code",
   "execution_count": 21,
   "metadata": {},
   "outputs": [
    {
     "name": "stdout",
     "output_type": "stream",
     "text": [
      "Accuracy score for Average-Word2Vec model on test data is 87.37 %.\n"
     ]
    }
   ],
   "source": [
    "# Fitting Decision Tree with optimal Depth\n",
    "\n",
    "classifier = DecisionTreeClassifier(max_depth = optimal_depth)\n",
    "classifier.fit(X_train_avg , y_train_avg)\n",
    "\n",
    "# predicting the values and taking accuracy score\n",
    "\n",
    "y_pred_avg = classifier.predict(X_test_avg)\n",
    "accuracy_avg = accuracy_score(y_pred_avg,y_test_avg)\n",
    "print(\"Accuracy score for Average-Word2Vec model on test data is {:.2f} %.\".format(accuracy_avg * 100))"
   ]
  },
  {
   "cell_type": "code",
   "execution_count": 22,
   "metadata": {},
   "outputs": [
    {
     "name": "stdout",
     "output_type": "stream",
     "text": [
      "Confusion Matrix:\n"
     ]
    },
    {
     "data": {
      "image/png": "[encoded data removed]",
      "text/plain": [
       "<Figure size 432x288 with 2 Axes>"
      ]
     },
     "metadata": {},
     "output_type": "display_data"
    },
    {
     "name": "stdout",
     "output_type": "stream",
     "text": [
      "TPR for the model on test data is 0.98\n",
      "FPR for the model on test data is 0.82\n",
      "TNR for the model on test data is 0.18\n",
      "FNR for the model on test data is 0.02\n",
      "\n"
     ]
    }
   ],
   "source": [
    "from sklearn.metrics import confusion_matrix\n",
    "cm_avg = confusion_matrix(y_test_avg , y_pred_avg)\n",
    "print(\"Confusion Matrix:\")\n",
    "sns.heatmap(cm_avg, annot=True, fmt='d')\n",
    "plt.show()\n",
    "\n",
    "# calculating TPR, FPR, TNR, FNR\n",
    "\n",
    "tn, fp, fn, tp = cm_avg.ravel()\n",
    "\n",
    "tnr_tf = tn/(tn+fp)\n",
    "fpr_tf = fp/(tn+fp)\n",
    "fnr_tf = fn/(fn+tp)\n",
    "tpr_tf = tp/(fn+tp)\n",
    "\n",
    "print(\"TPR for the model on test data is {:.2f}\".format(tpr_tf))\n",
    "print(\"FPR for the model on test data is {:.2f}\".format(fpr_tf))\n",
    "print(\"TNR for the model on test data is {:.2f}\".format(tnr_tf))\n",
    "print(\"FNR for the model on test data is {:.2f}\\n\".format(fnr_tf))"
   ]
  },
  {
   "cell_type": "code",
   "execution_count": 23,
   "metadata": {},
   "outputs": [
    {
     "name": "stdout",
     "output_type": "stream",
     "text": [
      "Accuracy score for the model on test data is 0.87\n",
      "Precision score for the model on test data is 0.88\n",
      "Recall score for the model on test data is 0.98\n",
      "F1 score for the model on test data is 0.93\n",
      "\n"
     ]
    }
   ],
   "source": [
    "# calculating accuracy, precision and recall \n",
    "\n",
    "accuracy_avg = accuracy_score(y_test_avg , y_pred_avg)\n",
    "precision_avg = precision_score(y_test_avg , y_pred_avg)\n",
    "recall_avg = recall_score(y_test_avg , y_pred_avg)\n",
    "f1_avg = f1_score(y_test_avg , y_pred_avg)\n",
    "\n",
    "print(\"Accuracy score for the model on test data is {:.2f}\".format(accuracy_avg))\n",
    "print(\"Precision score for the model on test data is {:.2f}\".format(precision_avg))\n",
    "print(\"Recall score for the model on test data is {:.2f}\".format(recall_avg))\n",
    "print(\"F1 score for the model on test data is {:.2f}\\n\".format(f1_avg))"
   ]
  },
  {
   "cell_type": "markdown",
   "metadata": {},
   "source": [
    "### 4.2 TF-IDF Weighted Word2Vec"
   ]
  },
  {
   "cell_type": "code",
   "execution_count": 24,
   "metadata": {},
   "outputs": [
    {
     "name": "stdout",
     "output_type": "stream",
     "text": [
      "70000\n",
      "50\n"
     ]
    }
   ],
   "source": [
    "# TF-IDF weighted Word2Vec\n",
    "tfidf_feat = tf_idf_vect.get_feature_names() # tfidf words/col-names\n",
    "\n",
    "tfidf_sent_vectors = []; # the tfidf-w2v for each sentence/review is stored in this list\n",
    "row=0;\n",
    "for sent in list_of_sent: # for each review/sentence \n",
    "    sent_vec = np.zeros(50) # as word vectors are of zero length\n",
    "    weight_sum =0; # num of words with a valid vector in the sentence/review\n",
    "    for word in sent: # for each word in a review/sentence\n",
    "        if word in w2v_words:\n",
    "            vec = w2v_model.wv[word]\n",
    "            # obtain the tf_idfidf of a word in a sentence/review\n",
    "            tf_idf = X_train_tf[row, tfidf_feat.index(word)]\n",
    "            sent_vec += (vec * tf_idf)\n",
    "            weight_sum += tf_idf\n",
    "    if weight_sum != 0:\n",
    "        sent_vec /= weight_sum\n",
    "    tfidf_sent_vectors.append(sent_vec)\n",
    "    row += 1\n",
    "    \n",
    "print(len(tfidf_sent_vectors))\n",
    "print(len(tfidf_sent_vectors[0]))"
   ]
  },
  {
   "cell_type": "code",
   "execution_count": 25,
   "metadata": {},
   "outputs": [
    {
     "name": "stdout",
     "output_type": "stream",
     "text": [
      "30000\n",
      "50\n"
     ]
    }
   ],
   "source": [
    "tfidf_sent_vectors_tst=[]\n",
    "row=0\n",
    "for sent in list_of_sent_tst: # for each review/sentence \n",
    "    sent_vec = np.zeros(50) # as word vectors are of zero length\n",
    "    weight_sum =0; # num of words with a valid vector in the sentence/review\n",
    "    for word in sent: # for each word in a review/sentence\n",
    "        if word in w2v_words:\n",
    "            vec = w2v_model.wv[word]\n",
    "            # obtain the tf_idfidf of a word in a sentence/review\n",
    "            tf_idf = X_test_tf[row, tfidf_feat.index(word)]\n",
    "            sent_vec += (vec * tf_idf)\n",
    "            weight_sum += tf_idf\n",
    "    if weight_sum != 0:\n",
    "        sent_vec /= weight_sum\n",
    "    tfidf_sent_vectors_tst.append(sent_vec)\n",
    "    row += 1\n",
    "    \n",
    "print(len(tfidf_sent_vectors_tst))\n",
    "print(len(tfidf_sent_vectors_tst[0]))"
   ]
  },
  {
   "cell_type": "code",
   "execution_count": 26,
   "metadata": {},
   "outputs": [
    {
     "name": "stdout",
     "output_type": "stream",
     "text": [
      "Length of X_train : 70000\n",
      "Length of X_test : 30000\n"
     ]
    }
   ],
   "source": [
    "X_train_w2v = tfidf_sent_vectors\n",
    "X_test_w2v = tfidf_sent_vectors_tst\n",
    "y_train_w2v = y_train\n",
    "y_test_w2v = y_test\n",
    "\n",
    "print(\"Length of X_train :\",len(X_train_w2v))\n",
    "print(\"Length of X_test :\",len(X_test_w2v))"
   ]
  },
  {
   "cell_type": "code",
   "execution_count": 27,
   "metadata": {},
   "outputs": [],
   "source": [
    "# Converting 'Positive' and 'Negative' into True and False\n",
    "\n",
    "y_train_w2v = y_train_w2v == 'Positive'\n",
    "y_test_w2v = y_test_w2v == 'Positive'"
   ]
  },
  {
   "cell_type": "code",
   "execution_count": 30,
   "metadata": {},
   "outputs": [],
   "source": [
    "# Applying Decision Tree\n",
    "\n",
    "depth = list(range(2,10))\n",
    "cv_scores_w2v = []\n",
    "MSE = []\n",
    "for i in depth:\n",
    "    tree_avg=DecisionTreeClassifier(max_depth = i)\n",
    "    scores = cross_val_score(tree_avg, X_train_w2v, y_train_w2v, cv=3, scoring='f1', n_jobs=-1)\n",
    "    cv_scores_w2v.append(scores.mean())\n",
    "    tree_avg.fit(X_train_w2v, y_train_w2v)\n",
    "    y_pred = tree_avg.predict(X_test_w2v)\n",
    "    error = mean_squared_error(y_test_w2v.astype(np.float32) , y_pred.astype(np.float32))\n",
    "    MSE.append(error)"
   ]
  },
  {
   "cell_type": "code",
   "execution_count": 31,
   "metadata": {},
   "outputs": [
    {
     "name": "stdout",
     "output_type": "stream",
     "text": [
      "The optimal number of neighbors is 7.\n",
      "Maximum score for average model is 93.84 %.\n"
     ]
    }
   ],
   "source": [
    "# determining best depth\n",
    "optimal_depth = depth[MSE.index(min(MSE))]\n",
    "print('The optimal number of neighbors is %d.' % optimal_depth)\n",
    "print(\"Maximum score for average model is {:.2f} %.\".format(max(cv_scores_w2v) * 100))"
   ]
  },
  {
   "cell_type": "code",
   "execution_count": 32,
   "metadata": {},
   "outputs": [
    {
     "data": {
      "image/png": "[encoded data removed]",
      "text/plain": [
       "<Figure size 432x288 with 1 Axes>"
      ]
     },
     "metadata": {},
     "output_type": "display_data"
    }
   ],
   "source": [
    "# Plot - Depth vs MSE\n",
    "\n",
    "plt.plot(depth , MSE)\n",
    "plt.xlabel(\"Depth\")\n",
    "plt.ylabel(\"Misclassification Error\")\n",
    "plt.title(\"Plot Showing variation of Error with Depth\")\n",
    "plt.show()"
   ]
  },
  {
   "cell_type": "code",
   "execution_count": 33,
   "metadata": {},
   "outputs": [
    {
     "name": "stdout",
     "output_type": "stream",
     "text": [
      "Accuracy score for Average-Word2Vec model on test data is 86.84 %.\n"
     ]
    }
   ],
   "source": [
    "# Fitting Decision Tree with optimal depth\n",
    "\n",
    "classifier = DecisionTreeClassifier(max_depth = optimal_depth)\n",
    "classifier.fit(X_train_w2v , y_train_w2v)\n",
    "\n",
    "# predicting the values and taking accuracy score\n",
    "\n",
    "y_pred_w2v = classifier.predict(X_test_w2v)\n",
    "accuracy_avg = accuracy_score(y_test_w2v,y_pred_w2v)\n",
    "print(\"Accuracy score for Average-Word2Vec model on test data is {:.2f} %.\".format(accuracy_avg * 100))"
   ]
  },
  {
   "cell_type": "code",
   "execution_count": 34,
   "metadata": {},
   "outputs": [
    {
     "name": "stdout",
     "output_type": "stream",
     "text": [
      "Confusion Matrix:\n"
     ]
    },
    {
     "data": {
      "image/png": "[encoded data removed]",
      "text/plain": [
       "<Figure size 432x288 with 2 Axes>"
      ]
     },
     "metadata": {},
     "output_type": "display_data"
    },
    {
     "name": "stdout",
     "output_type": "stream",
     "text": [
      "TPR for the model on test data is 0.98\n",
      "FPR for the model on test data is 0.84\n",
      "TNR for the model on test data is 0.16\n",
      "FNR for the model on test data is 0.02\n",
      "\n"
     ]
    }
   ],
   "source": [
    "from sklearn.metrics import confusion_matrix\n",
    "cm_w2v = confusion_matrix(y_test_w2v , y_pred_w2v)\n",
    "print(\"Confusion Matrix:\")\n",
    "sns.heatmap(cm_w2v, annot=True, fmt='d')\n",
    "plt.show()\n",
    "\n",
    "# calculating TPR, FPR, TNR, FNR\n",
    "\n",
    "tn, fp, fn, tp = cm_w2v.ravel()\n",
    "\n",
    "tnr_tf = tn/(tn+fp)\n",
    "fpr_tf = fp/(tn+fp)\n",
    "fnr_tf = fn/(fn+tp)\n",
    "tpr_tf = tp/(fn+tp)\n",
    "\n",
    "print(\"TPR for the model on test data is {:.2f}\".format(tpr_tf))\n",
    "print(\"FPR for the model on test data is {:.2f}\".format(fpr_tf))\n",
    "print(\"TNR for the model on test data is {:.2f}\".format(tnr_tf))\n",
    "print(\"FNR for the model on test data is {:.2f}\\n\".format(fnr_tf))"
   ]
  },
  {
   "cell_type": "code",
   "execution_count": 35,
   "metadata": {},
   "outputs": [
    {
     "name": "stdout",
     "output_type": "stream",
     "text": [
      "Accuracy score for the model on test data is 0.87\n",
      "Precision score for the model on test data is 0.88\n",
      "Recall score for the model on test data is 0.98\n",
      "F1 score for the model on test data is 0.93\n",
      "\n"
     ]
    }
   ],
   "source": [
    "accuracy_w2v = accuracy_score(y_test_w2v , y_pred_w2v)\n",
    "precision_w2v = precision_score(y_test_w2v , y_pred_w2v)\n",
    "recall_w2v = recall_score(y_test_w2v , y_pred_w2v)\n",
    "f1_w2v = f1_score(y_test_w2v , y_pred_w2v)\n",
    "\n",
    "print(\"Accuracy score for the model on test data is {:.2f}\".format(accuracy_w2v))\n",
    "print(\"Precision score for the model on test data is {:.2f}\".format(precision_w2v))\n",
    "print(\"Recall score for the model on test data is {:.2f}\".format(recall_w2v))\n",
    "print(\"F1 score for the model on test data is {:.2f}\\n\".format(f1_w2v))"
   ]
  },
  {
   "cell_type": "markdown",
   "metadata": {},
   "source": [
    "# Conclusions"
   ]
  },
  {
   "cell_type": "markdown",
   "metadata": {},
   "source": [
    "1. Optimal depth was found to be 6 for average Word2Vec and 7 for weighted Word2Vec\n",
    "2. Both models performed almost similar"
   ]
  },
  {
   "cell_type": "code",
   "execution_count": null,
   "metadata": {
    "collapsed": true
   },
   "outputs": [],
   "source": []
  }
 ],
 "metadata": {
  "kernelspec": {
   "display_name": "Python 3",
   "language": "python",
   "name": "python3"
  },
  "language_info": {
   "codemirror_mode": {
    "name": "ipython",
    "version": 3
   },
   "file_extension": ".py",
   "mimetype": "text/x-python",
   "name": "python",
   "nbconvert_exporter": "python",
   "pygments_lexer": "ipython3",
   "version": "3.6.5"
  },
  "widgets": {
   "state": {},
   "version": "1.1.2"
  }
 },
 "nbformat": 4,
 "nbformat_minor": 2
}
